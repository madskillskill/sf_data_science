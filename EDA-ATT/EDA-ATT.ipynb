{
 "cells": [
  {
   "cell_type": "code",
   "execution_count": 61,
   "metadata": {},
   "outputs": [],
   "source": [
    "import pandas as pd\n",
    "import numpy as np"
   ]
  },
  {
   "cell_type": "code",
   "execution_count": 66,
   "metadata": {},
   "outputs": [],
   "source": [
    "df = pd.read_csv('data/new-site.csv',sep='\\t')"
   ]
  },
  {
   "cell_type": "code",
   "execution_count": 68,
   "metadata": {},
   "outputs": [
    {
     "data": {
      "text/html": [
       "<div>\n",
       "<style scoped>\n",
       "    .dataframe tbody tr th:only-of-type {\n",
       "        vertical-align: middle;\n",
       "    }\n",
       "\n",
       "    .dataframe tbody tr th {\n",
       "        vertical-align: top;\n",
       "    }\n",
       "\n",
       "    .dataframe thead th {\n",
       "        text-align: right;\n",
       "    }\n",
       "</style>\n",
       "<table border=\"1\" class=\"dataframe\">\n",
       "  <thead>\n",
       "    <tr style=\"text-align: right;\">\n",
       "      <th></th>\n",
       "      <th>site</th>\n",
       "      <th>dwell-time</th>\n",
       "    </tr>\n",
       "  </thead>\n",
       "  <tbody>\n",
       "    <tr>\n",
       "      <th>0</th>\n",
       "      <td>0</td>\n",
       "      <td>2</td>\n",
       "    </tr>\n",
       "    <tr>\n",
       "      <th>1</th>\n",
       "      <td>1</td>\n",
       "      <td>48</td>\n",
       "    </tr>\n",
       "    <tr>\n",
       "      <th>2</th>\n",
       "      <td>0</td>\n",
       "      <td>15</td>\n",
       "    </tr>\n",
       "    <tr>\n",
       "      <th>3</th>\n",
       "      <td>1</td>\n",
       "      <td>16</td>\n",
       "    </tr>\n",
       "    <tr>\n",
       "      <th>4</th>\n",
       "      <td>0</td>\n",
       "      <td>38</td>\n",
       "    </tr>\n",
       "    <tr>\n",
       "      <th>5</th>\n",
       "      <td>1</td>\n",
       "      <td>169</td>\n",
       "    </tr>\n",
       "    <tr>\n",
       "      <th>6</th>\n",
       "      <td>0</td>\n",
       "      <td>571</td>\n",
       "    </tr>\n",
       "    <tr>\n",
       "      <th>7</th>\n",
       "      <td>1</td>\n",
       "      <td>38</td>\n",
       "    </tr>\n",
       "    <tr>\n",
       "      <th>8</th>\n",
       "      <td>0</td>\n",
       "      <td>233</td>\n",
       "    </tr>\n",
       "    <tr>\n",
       "      <th>9</th>\n",
       "      <td>0</td>\n",
       "      <td>146</td>\n",
       "    </tr>\n",
       "    <tr>\n",
       "      <th>10</th>\n",
       "      <td>1</td>\n",
       "      <td>336</td>\n",
       "    </tr>\n",
       "    <tr>\n",
       "      <th>11</th>\n",
       "      <td>0</td>\n",
       "      <td>57</td>\n",
       "    </tr>\n",
       "    <tr>\n",
       "      <th>12</th>\n",
       "      <td>0</td>\n",
       "      <td>54</td>\n",
       "    </tr>\n",
       "    <tr>\n",
       "      <th>13</th>\n",
       "      <td>0</td>\n",
       "      <td>75</td>\n",
       "    </tr>\n",
       "    <tr>\n",
       "      <th>14</th>\n",
       "      <td>1</td>\n",
       "      <td>55</td>\n",
       "    </tr>\n",
       "    <tr>\n",
       "      <th>15</th>\n",
       "      <td>0</td>\n",
       "      <td>138</td>\n",
       "    </tr>\n",
       "    <tr>\n",
       "      <th>16</th>\n",
       "      <td>1</td>\n",
       "      <td>2</td>\n",
       "    </tr>\n",
       "    <tr>\n",
       "      <th>17</th>\n",
       "      <td>0</td>\n",
       "      <td>6</td>\n",
       "    </tr>\n",
       "    <tr>\n",
       "      <th>18</th>\n",
       "      <td>0</td>\n",
       "      <td>30</td>\n",
       "    </tr>\n",
       "    <tr>\n",
       "      <th>19</th>\n",
       "      <td>1</td>\n",
       "      <td>32</td>\n",
       "    </tr>\n",
       "  </tbody>\n",
       "</table>\n",
       "</div>"
      ],
      "text/plain": [
       "    site  dwell-time\n",
       "0      0           2\n",
       "1      1          48\n",
       "2      0          15\n",
       "3      1          16\n",
       "4      0          38\n",
       "5      1         169\n",
       "6      0         571\n",
       "7      1          38\n",
       "8      0         233\n",
       "9      0         146\n",
       "10     1         336\n",
       "11     0          57\n",
       "12     0          54\n",
       "13     0          75\n",
       "14     1          55\n",
       "15     0         138\n",
       "16     1           2\n",
       "17     0           6\n",
       "18     0          30\n",
       "19     1          32"
      ]
     },
     "execution_count": 68,
     "metadata": {},
     "output_type": "execute_result"
    }
   ],
   "source": [
    "df.head(20)"
   ]
  },
  {
   "cell_type": "code",
   "execution_count": 65,
   "metadata": {},
   "outputs": [
    {
     "ename": "ValueError",
     "evalue": "Data must be at least length 3.",
     "output_type": "error",
     "traceback": [
      "\u001b[1;31m---------------------------------------------------------------------------\u001b[0m",
      "\u001b[1;31mValueError\u001b[0m                                Traceback (most recent call last)",
      "\u001b[1;32mc:\\SF\\sf_data_science\\EDA-ATT\\EDA-ATT.ipynb Ячейка 4\u001b[0m in \u001b[0;36m<cell line: 7>\u001b[1;34m()\u001b[0m\n\u001b[0;32m      <a href='vscode-notebook-cell:/c%3A/SF/sf_data_science/EDA-ATT/EDA-ATT.ipynb#X12sZmlsZQ%3D%3D?line=4'>5</a>\u001b[0m alpha \u001b[39m=\u001b[39m \u001b[39m0.05\u001b[39m \u001b[39m# уровень значимости\u001b[39;00m\n\u001b[0;32m      <a href='vscode-notebook-cell:/c%3A/SF/sf_data_science/EDA-ATT/EDA-ATT.ipynb#X12sZmlsZQ%3D%3D?line=5'>6</a>\u001b[0m \u001b[39m# вычисляем результат теста Шапиро-Уилка для выборок\u001b[39;00m\n\u001b[1;32m----> <a href='vscode-notebook-cell:/c%3A/SF/sf_data_science/EDA-ATT/EDA-ATT.ipynb#X12sZmlsZQ%3D%3D?line=6'>7</a>\u001b[0m shapiro_result_a \u001b[39m=\u001b[39m shapiro(df\u001b[39m.\u001b[39;49mloc[(df[\u001b[39m'\u001b[39;49m\u001b[39msite\u001b[39;49m\u001b[39m'\u001b[39;49m]\u001b[39m==\u001b[39;49m\u001b[39m'\u001b[39;49m\u001b[39m0\u001b[39;49m\u001b[39m'\u001b[39;49m)][\u001b[39m'\u001b[39;49m\u001b[39mdwell-time\u001b[39;49m\u001b[39m'\u001b[39;49m])\n\u001b[0;32m      <a href='vscode-notebook-cell:/c%3A/SF/sf_data_science/EDA-ATT/EDA-ATT.ipynb#X12sZmlsZQ%3D%3D?line=7'>8</a>\u001b[0m shapiro_result_b \u001b[39m=\u001b[39m shapiro(df\u001b[39m.\u001b[39mloc[(df[\u001b[39m'\u001b[39m\u001b[39msite\u001b[39m\u001b[39m'\u001b[39m]\u001b[39m==\u001b[39m\u001b[39m'\u001b[39m\u001b[39m1\u001b[39m\u001b[39m'\u001b[39m)][\u001b[39m'\u001b[39m\u001b[39mdwell-time\u001b[39m\u001b[39m'\u001b[39m])\n\u001b[0;32m      <a href='vscode-notebook-cell:/c%3A/SF/sf_data_science/EDA-ATT/EDA-ATT.ipynb#X12sZmlsZQ%3D%3D?line=8'>9</a>\u001b[0m \u001b[39mprint\u001b[39m(\u001b[39m'\u001b[39m\u001b[39mp-value группы А\u001b[39m\u001b[39m'\u001b[39m, \u001b[39mround\u001b[39m(shapiro_result_a\u001b[39m.\u001b[39mpvalue, \u001b[39m2\u001b[39m))\n",
      "File \u001b[1;32mc:\\Python\\Python39\\lib\\site-packages\\scipy\\stats\\_morestats.py:1750\u001b[0m, in \u001b[0;36mshapiro\u001b[1;34m(x)\u001b[0m\n\u001b[0;32m   1748\u001b[0m N \u001b[39m=\u001b[39m \u001b[39mlen\u001b[39m(x)\n\u001b[0;32m   1749\u001b[0m \u001b[39mif\u001b[39;00m N \u001b[39m<\u001b[39m \u001b[39m3\u001b[39m:\n\u001b[1;32m-> 1750\u001b[0m     \u001b[39mraise\u001b[39;00m \u001b[39mValueError\u001b[39;00m(\u001b[39m\"\u001b[39m\u001b[39mData must be at least length 3.\u001b[39m\u001b[39m\"\u001b[39m)\n\u001b[0;32m   1752\u001b[0m a \u001b[39m=\u001b[39m zeros(N, \u001b[39m'\u001b[39m\u001b[39mf\u001b[39m\u001b[39m'\u001b[39m)\n\u001b[0;32m   1753\u001b[0m init \u001b[39m=\u001b[39m \u001b[39m0\u001b[39m\n",
      "\u001b[1;31mValueError\u001b[0m: Data must be at least length 3."
     ]
    }
   ],
   "source": [
    "from scipy.stats import shapiro\n",
    "# нулевая и альтернативная гипотезы\n",
    "H0 = 'Распределения среднего чека в обеих группах нормальные'\n",
    "H1 = 'Распределение среднего чека в одной или обеих группах отлично от нормального'\n",
    "alpha = 0.05 # уровень значимости\n",
    "# вычисляем результат теста Шапиро-Уилка для выборок\n",
    "shapiro_result_a = shapiro(df.loc[(df['site']=='0')]['dwell-time'])\n",
    "shapiro_result_b = shapiro(df.loc[(df['site']=='1')]['dwell-time'])\n",
    "print('p-value группы А', round(shapiro_result_a.pvalue, 2))\n",
    "print('p-value группы B', round(shapiro_result_b.pvalue, 2))\n",
    "# сравниваем полученное p-value с уровнем значимости\n",
    "if shapiro_result_a.pvalue < alpha or shapiro_result_b.pvalue < alpha:\n",
    "    print(\"Отвергаем нулевую гипотезу. {}\".format(H0))\n",
    "    print(\"Альтернативная гипотеза. H1: {}\".format(H1))\n",
    "else:\n",
    "    print(\"Принимаем нулевую гипотезу. {}\".format(H0))"
   ]
  },
  {
   "cell_type": "code",
   "execution_count": 70,
   "metadata": {},
   "outputs": [],
   "source": [
    "def adj_len(d_1, d_2, method='mean'):\n",
    "    \n",
    "    # Делаем копии списков, чтобы они\n",
    "    # не изменились.\n",
    "    data = d_1.copy()\n",
    "    d_1, d_2 = d_1.copy(), d_2.copy()\n",
    "    dif = len(d_1) - len(d_2)\n",
    "\n",
    "    # Если разницы нет, просто сортировка.\n",
    "    if dif == 0:\n",
    "        return data.sort()\n",
    "    \n",
    "    # Подфункция, реализует выбор метода.\n",
    "    def apply_method(data, method):\n",
    "        if method == 'mean':\n",
    "            return stat.mean(data)\n",
    "        elif method == 'med':\n",
    "            return stat.median(data)\n",
    "        elif method == 'nan':\n",
    "            return np.nan\n",
    "    \n",
    "    # Если второй лист больше первого,\n",
    "    # заполняет разницу NaN или средним,\n",
    "    # в зависимости от выбора.\n",
    "    if dif > 0:\n",
    "        return sorted(data)\n",
    "    elif dif < 0:\n",
    "        while dif < 0:\n",
    "            # then d_1 > d_2\n",
    "            data.append(apply_method(data, method))\n",
    "            dif+=1\n",
    "        return sorted(data)"
   ]
  },
  {
   "cell_type": "code",
   "execution_count": 74,
   "metadata": {},
   "outputs": [],
   "source": [
    "df['dwell-time'] = df['dwell-time'].astype(int)"
   ]
  },
  {
   "cell_type": "code",
   "execution_count": 81,
   "metadata": {},
   "outputs": [
    {
     "name": "stdout",
     "output_type": "stream",
     "text": [
      "[2, 15, 38, 571, 233, 146, 57, 54, 75, 138, 6, 30, 369, 76, 25, 233, 32, 7, 97, 79, 86, 23, 13, 34, 112, 298, 11, 80, 29, 5, 19, 192, 18, 110, 40, 404, 30, 43, 129, 7, 227, 138, 185, 16, 145, 9, 48, 158, 79, 35, 73, 149, 92, 19, 57, 67, 6, 34, 18, 6, 68, 50, 136, 10, 28, 213, 57, 170, 115, 536, 91, 222, 15, 31, 22, 24, 8, 57, 63, 107, 540, 34, 51, 6, 489, 147, 29, 49, 134, 12, 41, 196, 30, 27, 50, 74, 75, 66, 13, 38, 74, 132, 37, 41, 66, 3, 3, 35, 8, 22, 36, 241, 40, 75, 70, 140, 140, 18, 67, 52, 62, 44, 4, 82, 61, 12, 55, 116, 4, 127, 147, 19, 268, 23, 117, 70, 53, 137, 113, 172, 174, 133, 45, 117, 103, 16, 5, 105, 66, 277, 156, 285, 64, 70, 30, 95, 68, 8, 5, 27, 60, 46, 61, 11, 149, 17, 51, 33, 72, 148, 153, 43, 155, 5, 470, 28, 388, 197, 3, 25, 2, 39, 22, 7, 89, 138] [48, 16, 169, 38, 336, 55, 2, 32, 21, 162, 23, 190, 107, 30, 145, 21, 78, 244, 68, 85, 72, 6, 44, 53, 140, 24, 22, 13, 80, 2, 289, 34, 28, 5, 1, 92, 67, 25, 232, 43, 131, 128, 131, 123, 66, 47, 112, 37, 48, 14, 46, 72, 69, 16, 140, 114, 63, 28, 46, 11, 41, 55, 259, 50, 113, 154, 91, 83, 121, 725, 109, 47, 6, 120, 300, 3, 23, 53, 155, 46, 21, 49, 1, 107, 85, 17, 3, 29, 26, 12, 3, 200, 135, 12, 8, 60, 22, 7, 19, 122, 83, 148, 186, 110, 107, 106, 366, 238, 100, 187, 11, 70, 100, 144]\n"
     ]
    }
   ],
   "source": [
    "import statistics as stat\n",
    "\n",
    "spb = list(df[(df['site']==0)]['dwell-time'])\n",
    "mgd = list(df[(df['site']==1)]['dwell-time'])\n",
    "\n",
    "print(spb,mgd)\n",
    "\n",
    "dfm = pd.DataFrame({'A':adj_len(spb, mgd, 'mean'),\\\n",
    "    'B':adj_len(mgd, spb, 'mean')}).astype(int)"
   ]
  },
  {
   "cell_type": "code",
   "execution_count": 82,
   "metadata": {},
   "outputs": [
    {
     "name": "stdout",
     "output_type": "stream",
     "text": [
      "Проверяем равенство:\n",
      "RanksumsResult(statistic=-2.1755163833132674, pvalue=0.02959144175119794)\n",
      "Проверяем гипотезу Spb < Mgd:\n",
      "RanksumsResult(statistic=-2.1755163833132674, pvalue=0.985204279124401)\n",
      "Проверяем гипотезу Spb > Mgd:\n",
      "RanksumsResult(statistic=-2.1755163833132674, pvalue=0.01479572087559897)\n"
     ]
    }
   ],
   "source": [
    "import scipy.stats\n",
    "\n",
    "scipy.stats.wilcoxon(dfm['A'],\\\n",
    "    dfm['B'], alternative='two-sided')\n",
    "\n",
    "from scipy.stats import ranksums\n",
    "print('Проверяем равенство:')\n",
    "print(ranksums(dfm['A'],\\\n",
    "    dfm['B']))\n",
    "\n",
    "print('Проверяем гипотезу Spb < Mgd:')\n",
    "print(ranksums(dfm['A'],\\\n",
    "    dfm['B'],\\\n",
    "    alternative = 'greater'))\n",
    "\n",
    "print('Проверяем гипотезу Spb > Mgd:')\n",
    "print(ranksums(dfm['A'],\\\n",
    "    dfm['B'],\\\n",
    "    alternative = 'less'))"
   ]
  },
  {
   "cell_type": "code",
   "execution_count": 83,
   "metadata": {},
   "outputs": [
    {
     "name": "stdout",
     "output_type": "stream",
     "text": [
      "p=0.000\n",
      "Данные не распределены нормально (мы отвергаем H0) в sbp\n",
      "p=0.000\n",
      "Данные не распределены нормально (мы отвергаем H0) в mgd\n"
     ]
    }
   ],
   "source": [
    "from scipy.stats import shapiro, normaltest\n",
    "alpha = 0.05\n",
    "\n",
    "H0 = 'Данные распределены нормально'\n",
    "Ha = 'Данные не распределены нормально (мы отвергаем H0)'\n",
    "\n",
    "_, p = shapiro(dfm['A'])\n",
    "print('p=%.3f' % p)\n",
    "\n",
    "# Интерпретация \n",
    "\n",
    "if p > alpha:\n",
    "\tprint(H0,'в sbp')\n",
    "else:\n",
    "\tprint(Ha,'в sbp')\n",
    "\n",
    "_, p = shapiro(dfm['B'])\n",
    "print('p=%.3f' % p)\n",
    "\n",
    "# Интерпретация \n",
    "\n",
    "if p > alpha:\n",
    "\tprint(H0,'в mgd')\n",
    "else:\n",
    "\tprint(Ha,'в mgd')"
   ]
  }
 ],
 "metadata": {
  "kernelspec": {
   "display_name": "Python 3.9.13 64-bit",
   "language": "python",
   "name": "python3"
  },
  "language_info": {
   "codemirror_mode": {
    "name": "ipython",
    "version": 3
   },
   "file_extension": ".py",
   "mimetype": "text/x-python",
   "name": "python",
   "nbconvert_exporter": "python",
   "pygments_lexer": "ipython3",
   "version": "3.9.13"
  },
  "orig_nbformat": 4,
  "vscode": {
   "interpreter": {
    "hash": "25034407fed5d681614dac11a1c0537e8cb49e3a8883c071303eea01322943d9"
   }
  }
 },
 "nbformat": 4,
 "nbformat_minor": 2
}
