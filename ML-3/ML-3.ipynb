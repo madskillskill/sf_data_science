{
 "cells": [
  {
   "cell_type": "code",
   "execution_count": 24,
   "metadata": {},
   "outputs": [
    {
     "name": "stdout",
     "output_type": "stream",
     "text": [
      "1.6\n",
      "0.8320183851339241\n"
     ]
    }
   ],
   "source": [
    "x = 0.3\n",
    "y = 3\n",
    "z = 1 + 5 * x - 0.3 * y \n",
    "print(z)\n",
    "\n",
    "e = 2.7\n",
    "\n",
    "P = 1 / (1 + 2.71828182845904**-z)\n",
    "print(P)"
   ]
  },
  {
   "cell_type": "code",
   "execution_count": 7,
   "metadata": {},
   "outputs": [
    {
     "data": {
      "text/plain": [
       "11.111111111111114"
      ]
     },
     "execution_count": 7,
     "metadata": {},
     "output_type": "execute_result"
    }
   ],
   "source": [
    "1 / (1-0.91)"
   ]
  },
  {
   "cell_type": "code",
   "execution_count": 25,
   "metadata": {},
   "outputs": [],
   "source": [
    "import numpy as np #для матричных вычислений\n",
    "import pandas as pd #для анализа и предобработки данных\n",
    "import matplotlib.pyplot as plt #для визуализации\n",
    "import seaborn as sns #для визуализации\n",
    "\n",
    "from sklearn import linear_model #линейные модели\n",
    "from sklearn import metrics #метрики\n",
    "\n",
    "from sklearn.model_selection import train_test_split #сплитование выборки\n",
    "from sklearn import preprocessing #предобработка\n",
    "%matplotlib inline\n",
    "plt.style.use('seaborn')"
   ]
  },
  {
   "cell_type": "code",
   "execution_count": 26,
   "metadata": {},
   "outputs": [
    {
     "name": "stdout",
     "output_type": "stream",
     "text": [
      "   SNo       X_1       X_2    y\n",
      "0    0 -0.869144  0.389310  0.0\n",
      "1    1 -0.993467 -0.610591  0.0\n",
      "2    2 -0.834064  0.239236  0.0\n",
      "3    3 -0.136471  0.632003  1.0\n",
      "4    4  0.403887  0.310784  1.0\n"
     ]
    }
   ],
   "source": [
    "data = pd.read_csv('data/task_data.csv')\n",
    "print(data.head(5))"
   ]
  }
 ],
 "metadata": {
  "kernelspec": {
   "display_name": "Python 3.9.13 64-bit",
   "language": "python",
   "name": "python3"
  },
  "language_info": {
   "codemirror_mode": {
    "name": "ipython",
    "version": 3
   },
   "file_extension": ".py",
   "mimetype": "text/x-python",
   "name": "python",
   "nbconvert_exporter": "python",
   "pygments_lexer": "ipython3",
   "version": "3.9.13"
  },
  "orig_nbformat": 4,
  "vscode": {
   "interpreter": {
    "hash": "25034407fed5d681614dac11a1c0537e8cb49e3a8883c071303eea01322943d9"
   }
  }
 },
 "nbformat": 4,
 "nbformat_minor": 2
}
