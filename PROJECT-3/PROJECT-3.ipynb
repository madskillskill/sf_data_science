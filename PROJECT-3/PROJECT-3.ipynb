{
 "cells": [
  {
   "cell_type": "code",
   "execution_count": 30,
   "metadata": {},
   "outputs": [],
   "source": [
    "import pandas as pd\n",
    "import numpy as np"
   ]
  },
  {
   "cell_type": "code",
   "execution_count": 31,
   "metadata": {},
   "outputs": [
    {
     "data": {
      "text/html": [
       "<div>\n",
       "<style scoped>\n",
       "    .dataframe tbody tr th:only-of-type {\n",
       "        vertical-align: middle;\n",
       "    }\n",
       "\n",
       "    .dataframe tbody tr th {\n",
       "        vertical-align: top;\n",
       "    }\n",
       "\n",
       "    .dataframe thead th {\n",
       "        text-align: right;\n",
       "    }\n",
       "</style>\n",
       "<table border=\"1\" class=\"dataframe\">\n",
       "  <thead>\n",
       "    <tr style=\"text-align: right;\">\n",
       "      <th></th>\n",
       "      <th>hotel_address</th>\n",
       "      <th>additional_number_of_scoring</th>\n",
       "      <th>review_date</th>\n",
       "      <th>average_score</th>\n",
       "      <th>hotel_name</th>\n",
       "      <th>reviewer_nationality</th>\n",
       "      <th>negative_review</th>\n",
       "      <th>review_total_negative_word_counts</th>\n",
       "      <th>total_number_of_reviews</th>\n",
       "      <th>positive_review</th>\n",
       "      <th>review_total_positive_word_counts</th>\n",
       "      <th>total_number_of_reviews_reviewer_has_given</th>\n",
       "      <th>reviewer_score</th>\n",
       "      <th>tags</th>\n",
       "      <th>days_since_review</th>\n",
       "      <th>lat</th>\n",
       "      <th>lng</th>\n",
       "    </tr>\n",
       "  </thead>\n",
       "  <tbody>\n",
       "    <tr>\n",
       "      <th>0</th>\n",
       "      <td>Stratton Street Mayfair Westminster Borough Lo...</td>\n",
       "      <td>581</td>\n",
       "      <td>2/19/2016</td>\n",
       "      <td>8.4</td>\n",
       "      <td>The May Fair Hotel</td>\n",
       "      <td>United Kingdom</td>\n",
       "      <td>Leaving</td>\n",
       "      <td>3</td>\n",
       "      <td>1994</td>\n",
       "      <td>Staff were amazing</td>\n",
       "      <td>4</td>\n",
       "      <td>7</td>\n",
       "      <td>10.0</td>\n",
       "      <td>[' Leisure trip ', ' Couple ', ' Studio Suite ...</td>\n",
       "      <td>531 day</td>\n",
       "      <td>51.507894</td>\n",
       "      <td>-0.143671</td>\n",
       "    </tr>\n",
       "    <tr>\n",
       "      <th>1</th>\n",
       "      <td>130 134 Southampton Row Camden London WC1B 5AF...</td>\n",
       "      <td>299</td>\n",
       "      <td>1/12/2017</td>\n",
       "      <td>8.3</td>\n",
       "      <td>Mercure London Bloomsbury Hotel</td>\n",
       "      <td>United Kingdom</td>\n",
       "      <td>poor breakfast</td>\n",
       "      <td>3</td>\n",
       "      <td>1361</td>\n",
       "      <td>location</td>\n",
       "      <td>2</td>\n",
       "      <td>14</td>\n",
       "      <td>6.3</td>\n",
       "      <td>[' Business trip ', ' Couple ', ' Standard Dou...</td>\n",
       "      <td>203 day</td>\n",
       "      <td>51.521009</td>\n",
       "      <td>-0.123097</td>\n",
       "    </tr>\n",
       "    <tr>\n",
       "      <th>2</th>\n",
       "      <td>151 bis Rue de Rennes 6th arr 75006 Paris France</td>\n",
       "      <td>32</td>\n",
       "      <td>10/18/2016</td>\n",
       "      <td>8.9</td>\n",
       "      <td>Legend Saint Germain by Elegancia</td>\n",
       "      <td>China</td>\n",
       "      <td>No kettle in room</td>\n",
       "      <td>6</td>\n",
       "      <td>406</td>\n",
       "      <td>No Positive</td>\n",
       "      <td>0</td>\n",
       "      <td>14</td>\n",
       "      <td>7.5</td>\n",
       "      <td>[' Leisure trip ', ' Solo traveler ', ' Modern...</td>\n",
       "      <td>289 day</td>\n",
       "      <td>48.845377</td>\n",
       "      <td>2.325643</td>\n",
       "    </tr>\n",
       "  </tbody>\n",
       "</table>\n",
       "</div>"
      ],
      "text/plain": [
       "                                       hotel_address  \\\n",
       "0  Stratton Street Mayfair Westminster Borough Lo...   \n",
       "1  130 134 Southampton Row Camden London WC1B 5AF...   \n",
       "2   151 bis Rue de Rennes 6th arr 75006 Paris France   \n",
       "\n",
       "   additional_number_of_scoring review_date  average_score  \\\n",
       "0                           581   2/19/2016            8.4   \n",
       "1                           299   1/12/2017            8.3   \n",
       "2                            32  10/18/2016            8.9   \n",
       "\n",
       "                          hotel_name reviewer_nationality  \\\n",
       "0                 The May Fair Hotel      United Kingdom    \n",
       "1    Mercure London Bloomsbury Hotel      United Kingdom    \n",
       "2  Legend Saint Germain by Elegancia               China    \n",
       "\n",
       "       negative_review  review_total_negative_word_counts  \\\n",
       "0             Leaving                                   3   \n",
       "1       poor breakfast                                  3   \n",
       "2   No kettle in room                                   6   \n",
       "\n",
       "   total_number_of_reviews      positive_review  \\\n",
       "0                     1994   Staff were amazing   \n",
       "1                     1361             location   \n",
       "2                      406          No Positive   \n",
       "\n",
       "   review_total_positive_word_counts  \\\n",
       "0                                  4   \n",
       "1                                  2   \n",
       "2                                  0   \n",
       "\n",
       "   total_number_of_reviews_reviewer_has_given  reviewer_score  \\\n",
       "0                                           7            10.0   \n",
       "1                                          14             6.3   \n",
       "2                                          14             7.5   \n",
       "\n",
       "                                                tags days_since_review  \\\n",
       "0  [' Leisure trip ', ' Couple ', ' Studio Suite ...           531 day   \n",
       "1  [' Business trip ', ' Couple ', ' Standard Dou...           203 day   \n",
       "2  [' Leisure trip ', ' Solo traveler ', ' Modern...           289 day   \n",
       "\n",
       "         lat       lng  \n",
       "0  51.507894 -0.143671  \n",
       "1  51.521009 -0.123097  \n",
       "2  48.845377  2.325643  "
      ]
     },
     "execution_count": 31,
     "metadata": {},
     "output_type": "execute_result"
    }
   ],
   "source": [
    "hotels = pd.read_csv('data/hotels.csv')\n",
    "hotels.head(3)"
   ]
  },
  {
   "cell_type": "markdown",
   "metadata": {},
   "source": [
    "**review_score to category**"
   ]
  },
  {
   "cell_type": "code",
   "execution_count": 32,
   "metadata": {},
   "outputs": [
    {
     "name": "stdout",
     "output_type": "stream",
     "text": [
      "{5.2: 0, 6.4: 1, 6.6: 2, 6.7: 3, 6.8: 4, 6.9: 5, 7.0: 6, 7.1: 7, 7.2: 8, 7.3: 9, 7.4: 10, 7.5: 11, 7.6: 12, 7.7: 13, 7.8: 14, 7.9: 15, 8.0: 16, 8.1: 17, 8.2: 18, 8.3: 19, 8.4: 20, 8.5: 21, 8.6: 22, 8.7: 23, 8.8: 24, 8.9: 25, 9.0: 26, 9.1: 27, 9.2: 28, 9.3: 29, 9.4: 30, 9.5: 31, 9.6: 32, 9.8: 33}\n"
     ]
    }
   ],
   "source": [
    "counter = 0\n",
    "\n",
    "average_score_preserved_mapper = dict()\n",
    "\n",
    "for i in sorted(set(hotels['average_score'])):\n",
    "    average_score_preserved_mapper.update({i:counter})\n",
    "    counter += 1\n",
    "\n",
    "print(average_score_preserved_mapper)"
   ]
  },
  {
   "cell_type": "code",
   "execution_count": 33,
   "metadata": {},
   "outputs": [],
   "source": [
    "hotels['average_score'] = hotels['average_score'].replace(average_score_preserved_mapper)\n",
    "hotels['average_score'] = hotels['average_score'].astype(int)"
   ]
  },
  {
   "cell_type": "markdown",
   "metadata": {},
   "source": [
    "**hotel_country**"
   ]
  },
  {
   "cell_type": "code",
   "execution_count": 34,
   "metadata": {},
   "outputs": [
    {
     "data": {
      "text/plain": [
       "United Kingdom    196774\n",
       "Spain              45132\n",
       "France             44830\n",
       "Netherlands        43006\n",
       "Austria            29178\n",
       "Italy              27883\n",
       "Name: hotel_country, dtype: int64"
      ]
     },
     "metadata": {},
     "output_type": "display_data"
    }
   ],
   "source": [
    "countrified = pd.DataFrame()\n",
    "\n",
    "def countrifier(string):\n",
    "    cut = string.split()\n",
    "\n",
    "    country = cut[-1:]\n",
    "\n",
    "    country = country[0]\n",
    "\n",
    "    if country == 'Kingdom':\n",
    "        country = 'United Kingdom'\n",
    "    return country\n",
    "\n",
    "hotels['hotel_country'] = hotels['hotel_address'].apply(countrifier)\n",
    "\n",
    "display(hotels['hotel_country'].value_counts())"
   ]
  },
  {
   "cell_type": "code",
   "execution_count": 35,
   "metadata": {},
   "outputs": [],
   "source": [
    "def ws_cutter(string):\n",
    "    string = string[1:-1]\n",
    "    return(string)\n",
    "\n",
    "hotels['reviewer_nationality'] =\\\n",
    "    hotels['reviewer_nationality'].apply(ws_cutter)"
   ]
  },
  {
   "cell_type": "code",
   "execution_count": 36,
   "metadata": {},
   "outputs": [
    {
     "data": {
      "text/html": [
       "<div>\n",
       "<style scoped>\n",
       "    .dataframe tbody tr th:only-of-type {\n",
       "        vertical-align: middle;\n",
       "    }\n",
       "\n",
       "    .dataframe tbody tr th {\n",
       "        vertical-align: top;\n",
       "    }\n",
       "\n",
       "    .dataframe thead th {\n",
       "        text-align: right;\n",
       "    }\n",
       "</style>\n",
       "<table border=\"1\" class=\"dataframe\">\n",
       "  <thead>\n",
       "    <tr style=\"text-align: right;\">\n",
       "      <th></th>\n",
       "      <th>hotel_country</th>\n",
       "      <th>reviewer_nationality</th>\n",
       "      <th>is_homeland</th>\n",
       "    </tr>\n",
       "  </thead>\n",
       "  <tbody>\n",
       "    <tr>\n",
       "      <th>0</th>\n",
       "      <td>United Kingdom</td>\n",
       "      <td>United Kingdom</td>\n",
       "      <td>True</td>\n",
       "    </tr>\n",
       "    <tr>\n",
       "      <th>1</th>\n",
       "      <td>United Kingdom</td>\n",
       "      <td>United Kingdom</td>\n",
       "      <td>True</td>\n",
       "    </tr>\n",
       "    <tr>\n",
       "      <th>2</th>\n",
       "      <td>France</td>\n",
       "      <td>China</td>\n",
       "      <td>False</td>\n",
       "    </tr>\n",
       "  </tbody>\n",
       "</table>\n",
       "</div>"
      ],
      "text/plain": [
       "    hotel_country reviewer_nationality  is_homeland\n",
       "0  United Kingdom       United Kingdom         True\n",
       "1  United Kingdom       United Kingdom         True\n",
       "2          France                China        False"
      ]
     },
     "metadata": {},
     "output_type": "display_data"
    }
   ],
   "source": [
    "hotels['is_homeland'] = (hotels['hotel_country']==hotels['reviewer_nationality'])\n",
    "comp_pd = pd.DataFrame()\n",
    "comp_pd['nat'], comp_pd['htl'], comp_pd['=='] =\\\n",
    "    hotels['reviewer_nationality'], hotels['hotel_country'], hotels['is_homeland']\n",
    "display(hotels[['hotel_country', 'reviewer_nationality', 'is_homeland']].head(3))"
   ]
  },
  {
   "cell_type": "markdown",
   "metadata": {},
   "source": [
    "**hotel_country categorize**"
   ]
  },
  {
   "cell_type": "code",
   "execution_count": 37,
   "metadata": {},
   "outputs": [
    {
     "name": "stdout",
     "output_type": "stream",
     "text": [
      "<class 'pandas.core.frame.DataFrame'>\n",
      "RangeIndex: 386803 entries, 0 to 386802\n",
      "Data columns (total 19 columns):\n",
      " #   Column                                      Non-Null Count   Dtype  \n",
      "---  ------                                      --------------   -----  \n",
      " 0   hotel_address                               386803 non-null  object \n",
      " 1   additional_number_of_scoring                386803 non-null  int64  \n",
      " 2   review_date                                 386803 non-null  object \n",
      " 3   average_score                               386803 non-null  int32  \n",
      " 4   hotel_name                                  386803 non-null  object \n",
      " 5   reviewer_nationality                        386803 non-null  object \n",
      " 6   negative_review                             386803 non-null  object \n",
      " 7   review_total_negative_word_counts           386803 non-null  int64  \n",
      " 8   total_number_of_reviews                     386803 non-null  int64  \n",
      " 9   positive_review                             386803 non-null  object \n",
      " 10  review_total_positive_word_counts           386803 non-null  int64  \n",
      " 11  total_number_of_reviews_reviewer_has_given  386803 non-null  int64  \n",
      " 12  reviewer_score                              386803 non-null  float64\n",
      " 13  tags                                        386803 non-null  object \n",
      " 14  days_since_review                           386803 non-null  object \n",
      " 15  lat                                         384355 non-null  float64\n",
      " 16  lng                                         384355 non-null  float64\n",
      " 17  hotel_country                               386803 non-null  object \n",
      " 18  is_homeland                                 386803 non-null  bool   \n",
      "dtypes: bool(1), float64(3), int32(1), int64(5), object(9)\n",
      "memory usage: 52.0+ MB\n"
     ]
    }
   ],
   "source": [
    "hotels.info()"
   ]
  },
  {
   "cell_type": "markdown",
   "metadata": {},
   "source": [
    "**days_since_review**"
   ]
  },
  {
   "cell_type": "code",
   "execution_count": 38,
   "metadata": {},
   "outputs": [
    {
     "name": "stdout",
     "output_type": "stream",
     "text": [
      "532.0\n"
     ]
    }
   ],
   "source": [
    "hotels['days_since_review'] = ((pd.to_datetime('2017-08-04')\\\n",
    "    -pd.to_datetime(hotels['review_date']))/ np.timedelta64(1, 'D'))\n",
    "print(hotels['days_since_review'][0])"
   ]
  },
  {
   "cell_type": "markdown",
   "metadata": {},
   "source": [
    "**effing tags (I really really hate 'em)**"
   ]
  },
  {
   "cell_type": "code",
   "execution_count": 39,
   "metadata": {},
   "outputs": [],
   "source": [
    "def rev_func(num_tags):\n",
    "    num_tags = num_tags[2:-2]\n",
    "    res = num_tags.strip().split(' \\', \\' ')\n",
    "    return res\n",
    "\n",
    "hotels['tags_n'] = hotels['tags'].apply(rev_func)"
   ]
  },
  {
   "cell_type": "markdown",
   "metadata": {},
   "source": [
    "**nights counter**"
   ]
  },
  {
   "cell_type": "code",
   "execution_count": 40,
   "metadata": {},
   "outputs": [
    {
     "name": "stderr",
     "output_type": "stream",
     "text": [
      "C:\\Users\\admin\\AppData\\Local\\Temp\\ipykernel_2512\\4167505632.py:2: FutureWarning: The default dtype for empty Series will be 'object' instead of 'float64' in a future version. Specify a dtype explicitly to silence this warning.\n",
      "  night_counter = pd.Series().astype(int)\n",
      "C:\\Users\\admin\\AppData\\Local\\Temp\\ipykernel_2512\\4167505632.py:8: SettingWithCopyWarning: \n",
      "A value is trying to be set on a copy of a slice from a DataFrame\n",
      "\n",
      "See the caveats in the documentation: https://pandas.pydata.org/pandas-docs/stable/user_guide/indexing.html#returning-a-view-versus-a-copy\n",
      "  hotels['nights'][counter] = i[6:9]\n"
     ]
    }
   ],
   "source": [
    "hotels['nights'] = 1\n",
    "night_counter = pd.Series().astype(int)\n",
    "counter = 0\n",
    "\n",
    "for tags_listed in hotels['tags_n']:\n",
    "    for i in tags_listed:\n",
    "        if i[0:6] == 'Stayed':\n",
    "            hotels['nights'][counter] = i[6:9]\n",
    "    counter += 1"
   ]
  },
  {
   "cell_type": "markdown",
   "metadata": {},
   "source": [
    "**cutting off insignificant amount of nights**"
   ]
  },
  {
   "cell_type": "code",
   "execution_count": 41,
   "metadata": {},
   "outputs": [
    {
     "data": {
      "text/plain": [
       "1     145519\n",
       "2     100263\n",
       "3      72000\n",
       "4      35748\n",
       "5      15611\n",
       "6       7399\n",
       "7       5549\n",
       "8       1910\n",
       "9        966\n",
       "13       869\n",
       "10       663\n",
       "11       306\n",
       "Name: nights, dtype: int64"
      ]
     },
     "execution_count": 41,
     "metadata": {},
     "output_type": "execute_result"
    }
   ],
   "source": [
    "hotels['nights'] = hotels['nights'].astype(int)\n",
    "hotels['nights'] = hotels['nights'].apply(lambda x: x if x < 12 else 13)\n",
    "hotels['nights'].value_counts()"
   ]
  },
  {
   "cell_type": "code",
   "execution_count": 42,
   "metadata": {},
   "outputs": [],
   "source": [
    "hotels['tags'] = hotels['tags'].astype(str).str.lower()\n",
    "\n",
    "def tag_detect(tags_listed, tag):\n",
    "    if str(tag) in tags_listed:\n",
    "            return True\n",
    "    else: return False\n",
    "        \n",
    "tag_list = ['children', 'young', 'without', 'king', 'premier', 'standard', 'superior', 'luxury', 'leisure trip', 'solo', 'view']\n",
    "\n",
    "for i in tag_list:\n",
    "    hotels[i] = hotels['tags'].apply(tag_detect, tag = i)"
   ]
  },
  {
   "cell_type": "code",
   "execution_count": 43,
   "metadata": {},
   "outputs": [
    {
     "data": {
      "text/html": [
       "<div>\n",
       "<style scoped>\n",
       "    .dataframe tbody tr th:only-of-type {\n",
       "        vertical-align: middle;\n",
       "    }\n",
       "\n",
       "    .dataframe tbody tr th {\n",
       "        vertical-align: top;\n",
       "    }\n",
       "\n",
       "    .dataframe thead th {\n",
       "        text-align: right;\n",
       "    }\n",
       "</style>\n",
       "<table border=\"1\" class=\"dataframe\">\n",
       "  <thead>\n",
       "    <tr style=\"text-align: right;\">\n",
       "      <th></th>\n",
       "      <th>city</th>\n",
       "    </tr>\n",
       "  </thead>\n",
       "  <tbody>\n",
       "    <tr>\n",
       "      <th>count</th>\n",
       "      <td>386803</td>\n",
       "    </tr>\n",
       "    <tr>\n",
       "      <th>unique</th>\n",
       "      <td>6</td>\n",
       "    </tr>\n",
       "    <tr>\n",
       "      <th>top</th>\n",
       "      <td>London</td>\n",
       "    </tr>\n",
       "    <tr>\n",
       "      <th>freq</th>\n",
       "      <td>196774</td>\n",
       "    </tr>\n",
       "  </tbody>\n",
       "</table>\n",
       "</div>"
      ],
      "text/plain": [
       "          city\n",
       "count   386803\n",
       "unique       6\n",
       "top     London\n",
       "freq    196774"
      ]
     },
     "metadata": {},
     "output_type": "display_data"
    }
   ],
   "source": [
    "from collections import deque\n",
    "\n",
    "get_city = pd.DataFrame()\n",
    "\n",
    "def get_city(string):\n",
    "    cut = deque(string.split()[-5:])\n",
    "    city = cut[-2]\n",
    "    if cut[-1] == 'Kingdom':\n",
    "        city = cut[0]\n",
    "    return pd.Series(city)\n",
    "\n",
    "hotels['city'] = hotels['hotel_address'].apply(get_city)\n",
    "display(hotels[['city']].describe())"
   ]
  },
  {
   "cell_type": "code",
   "execution_count": 44,
   "metadata": {},
   "outputs": [],
   "source": [
    "coord_dict = {'London': [51.507222, -0.1275],\n",
    " 'Barcelona': [41.383333, 2.183333],\n",
    " 'Paris': [48.856613, 2.352222],\n",
    " 'Amsterdam': [52.366667, 4.9],\n",
    " 'Vienna': [48.2, 16.366667],\n",
    " 'Milan': [45.466944, 9.19]}\n",
    "\n",
    "def coord_diff(city, lat, lng):\n",
    "    if city in coord_dict:\n",
    "        def_crd = coord_dict.get(city)\n",
    "\n",
    "    lat_diff = def_crd[0] - lat\n",
    "    lng_diff = def_crd[1] - lng\n",
    "    return pd.Series([lat_diff, lng_diff])\n",
    "\n",
    "\n",
    "hotels[['lat_diff','lng_diff']] = hotels.apply(lambda x: coord_diff(x['city'], x['lat'], x['lng']), axis=1)"
   ]
  },
  {
   "cell_type": "code",
   "execution_count": 45,
   "metadata": {},
   "outputs": [],
   "source": [
    "hotels['positive_review'] = hotels['positive_review'].astype(str).str.lower().str.strip()\n",
    "hotels['negative_review'] = hotels['negative_review'].astype(str).str.lower().str.strip()"
   ]
  },
  {
   "cell_type": "code",
   "execution_count": 46,
   "metadata": {},
   "outputs": [],
   "source": [
    "counts = hotels.positive_review.value_counts()\n",
    "counts.to_csv('positive_review.csv')\n",
    "\n",
    "counts = hotels.negative_review.value_counts()\n",
    "counts.to_csv('negative_review.csv')"
   ]
  },
  {
   "cell_type": "markdown",
   "metadata": {},
   "source": [
    "POS TAGS"
   ]
  },
  {
   "cell_type": "code",
   "execution_count": 47,
   "metadata": {},
   "outputs": [],
   "source": [
    "def tag_detect(tags_listed, tag):\n",
    "    if str(tag) in tags_listed:\n",
    "            return True\n",
    "    else: return False\n",
    "        \n",
    "tag_list = ['location', 'everything', 'great location', 'the location', 'good location', 'breakfast', 'friendly staff', 'staff', 'location staff', 'location was good', 'everything was perfect', 'comfy bed', 'perfect location', 'the staff', 'location is good', 'all', 'clean', 'very friendly staff', 'great breakfast']\n",
    "\n",
    "for i in tag_list:\n",
    "    hotels['positive_'+i] = hotels['positive_review'].apply(tag_detect, tag = i)"
   ]
  },
  {
   "cell_type": "code",
   "execution_count": 48,
   "metadata": {},
   "outputs": [],
   "source": [
    "def tag_detect(tags_listed, tag):\n",
    "    if str(tag) in tags_listed:\n",
    "            return True\n",
    "    else: return False\n",
    "        \n",
    "tag_list = ['no positive', 'nothing']\n",
    "\n",
    "for i in tag_list:\n",
    "    hotels['no_positive'] = hotels['positive_review'].apply(tag_detect, tag = i)"
   ]
  },
  {
   "cell_type": "markdown",
   "metadata": {},
   "source": [
    "NEG TAGS"
   ]
  },
  {
   "cell_type": "code",
   "execution_count": 49,
   "metadata": {},
   "outputs": [],
   "source": [
    "def tag_detect(tags_listed, tag):\n",
    "    if str(tag) in tags_listed:\n",
    "            return True\n",
    "    else: return False\n",
    "        \n",
    "tag_list = ['small room', 'breakfast', 'location', 'everything', 'price', 'small rooms', 'very small room', 'expensive', 'room size', 'staff',  'the price']\n",
    "\n",
    "for i in tag_list:\n",
    "    hotels['negative_'+i] = hotels['negative_review'].apply(tag_detect, tag = i)"
   ]
  },
  {
   "cell_type": "code",
   "execution_count": 50,
   "metadata": {},
   "outputs": [],
   "source": [
    "def tag_detect(tags_listed, tag):\n",
    "    if str(tag) in tags_listed:\n",
    "            return True\n",
    "    else: return False\n",
    "        \n",
    "tag_list = ['no negative', 'n a', 'none',  'nothing', '', 'nothing at all', 'nothing to dislike', 'no complaints', 'all good', 'nil', 'na', 'everything was perfect', 'absolutely nothing', 'can t think of anything', 'leaving', 'everything was great', 'nothing to complain about', 'no', 'nothing not to like', 'everything was good', 'nothing all good', 'having to leave', 'not much', 'i liked everything', 'liked everything', 'nothing everything was perfect', 'non']\n",
    "\n",
    "for i in tag_list:\n",
    "    hotels['no_negative'] = hotels['negative_review'].apply(tag_detect, tag = i)"
   ]
  },
  {
   "cell_type": "markdown",
   "metadata": {},
   "source": [
    "Correlation test"
   ]
  },
  {
   "cell_type": "code",
   "execution_count": 51,
   "metadata": {},
   "outputs": [],
   "source": [
    "counts = hotels.corrwith(hotels['reviewer_score'])\n",
    "counts.to_csv('corrwith.csv')"
   ]
  },
  {
   "cell_type": "markdown",
   "metadata": {},
   "source": [
    "## ***IT'S A FINAL COUNTDOWN***"
   ]
  },
  {
   "cell_type": "code",
   "execution_count": 23,
   "metadata": {},
   "outputs": [],
   "source": [
    "hotels_copy = hotels.copy()\n",
    "\n",
    "object_columns = [s for s in hotels_copy.columns if hotels_copy[s].dtypes == 'object']\n",
    "hotels_copy.drop(object_columns, axis = 1, inplace=True)\n",
    "\n",
    "\n",
    "hotels_copy = hotels_copy.fillna(0)\n",
    "\n",
    "hotels_copy.drop(['lat', 'lng', 'days_since_review','lat_diff'], axis=1, inplace=True)"
   ]
  },
  {
   "cell_type": "code",
   "execution_count": 24,
   "metadata": {},
   "outputs": [],
   "source": [
    "# Разбиваем датафрейм на части, необходимые для обучения и тестирования модели  \n",
    "# Х - данные с информацией об отелях, у - целевая переменная (рейтинги отелей)  \n",
    "X = hotels_copy.drop(['reviewer_score'], axis = 1)  \n",
    "y = hotels_copy['reviewer_score'] "
   ]
  },
  {
   "cell_type": "code",
   "execution_count": 25,
   "metadata": {},
   "outputs": [],
   "source": [
    "# Загружаем специальный инструмент для разбивки:  \n",
    "from sklearn.model_selection import train_test_split  "
   ]
  },
  {
   "cell_type": "code",
   "execution_count": 26,
   "metadata": {},
   "outputs": [],
   "source": [
    "# Наборы данных с меткой \"train\" будут использоваться для обучения модели, \"test\" - для тестирования.  \n",
    "# Для тестирования мы будем использовать 25% от исходного датасета.  \n",
    "X_train, X_test, y_train, y_test = train_test_split(X, y, test_size=0.25, random_state=42)"
   ]
  },
  {
   "cell_type": "code",
   "execution_count": 27,
   "metadata": {},
   "outputs": [],
   "source": [
    "# Импортируем необходимые библиотеки:  \n",
    "from sklearn.ensemble import RandomForestRegressor # инструмент для создания и обучения модели  \n",
    "from sklearn import metrics # инструменты для оценки точности модели  \n",
    "  \n",
    "# Создаём модель  \n",
    "regr = RandomForestRegressor(n_estimators=100)  \n",
    "      \n",
    "# Обучаем модель на тестовом наборе данных  \n",
    "regr.fit(X_train, y_train)  \n",
    "      \n",
    "# Используем обученную модель для предсказания рейтинга отелей в тестовой выборке.  \n",
    "# Предсказанные значения записываем в переменную y_pred  \n",
    "y_pred = regr.predict(X_test)  \n"
   ]
  },
  {
   "cell_type": "markdown",
   "metadata": {},
   "source": [
    "MAPE: 0.14134178189311136\n",
    "\n",
    "MAPE: 0.14131385806717026\n",
    "\n",
    "MAPE: 0.14053156733726535\n",
    "\n",
    "MAPE: 0.14070534667401732\n",
    "\n",
    "MAPE: 0.1405255170406278\n",
    "\n",
    "MAPE: 0.13755135308025937\n",
    "\n",
    "MAPE: 0.13739329046723142\n",
    "\n",
    "MAPE: 0.13732568793244715\n",
    "\n",
    "MAPE: 0.13657435490890754\n",
    "\n",
    "MAPE: 0.137793269782532\n",
    "\n",
    "MAPE: 0.13801613260621556 minus homeland\n",
    "\n",
    "MAPE: 0.13754144731719012 plus review tags\n",
    "\n",
    "MAPE: 0.13699742123463077 divided review tags into pos\\neg\n",
    "\n",
    "MAPE: 0.13150680506034415 +review tags"
   ]
  },
  {
   "cell_type": "markdown",
   "metadata": {},
   "source": [
    "MAPE: 0.12898256869048297\n",
    "\n",
    "Index(['additional_number_of_scoring', 'average_score',\n",
    "       'review_total_negative_word_counts', 'total_number_of_reviews',\n",
    "       'review_total_positive_word_counts',\n",
    "       'total_number_of_reviews_reviewer_has_given', 'is_homeland', 'nights',\n",
    "       'children', 'young', 'without', 'king', 'premier', 'standard',\n",
    "       'superior', 'luxury', 'leisure trip', 'solo', 'view', 'lng_diff',\n",
    "       'positive_location', 'positive_everything', 'positive_great location',\n",
    "       'positive_the location', 'positive_good location', 'positive_breakfast',\n",
    "       'positive_friendly staff', 'positive_excelent location',\n",
    "       'positive_staff', 'positive_location and staff',\n",
    "       'positive_location staff', 'positive_location location location',\n",
    "       'positive_location was good', 'positive_location was great',\n",
    "       'positive_everything was perfect', 'positive_comfy bed',\n",
    "       'positive_good breakfast', 'positive_perfect location',\n",
    "       'positive_the staff', 'positive_location is great',\n",
    "       'positive_location is good', 'positive_all', 'positive_clean',\n",
    "       'positive_very friendly staff', 'positive_great breakfast',\n",
    "       'no_positive', 'negative_small room', 'negative_breakfast',\n",
    "       'negative_location', 'negative_everything', 'negative_price',\n",
    "       'negative_small rooms', 'negative_very small room',\n",
    "       'negative_expensive', 'negative_room size', 'negative_staff',\n",
    "       'negative_expensive breakfast', 'negative_the price', 'no_negative'],\n",
    "      dtype='object') 59"
   ]
  },
  {
   "cell_type": "markdown",
   "metadata": {},
   "source": [
    "MAPE: 0.1289515372089229\n",
    "Index(['additional_number_of_scoring', 'average_score',\n",
    "       'review_total_negative_word_counts', 'total_number_of_reviews',\n",
    "       'review_total_positive_word_counts',\n",
    "       'total_number_of_reviews_reviewer_has_given', 'is_homeland', 'nights',\n",
    "       'children', 'young', 'without', 'king', 'premier', 'standard',\n",
    "       'superior', 'luxury', 'leisure trip', 'solo', 'view', 'lng_diff',\n",
    "       'positive_location', 'positive_everything', 'positive_great location',\n",
    "       'positive_the location', 'positive_good location', 'positive_breakfast',\n",
    "       'positive_friendly staff', 'positive_staff', 'positive_location staff',\n",
    "       'positive_location was good', 'positive_everything was perfect',\n",
    "       'positive_comfy bed', 'positive_perfect location', 'positive_the staff',\n",
    "       'positive_location is good', 'positive_all', 'positive_clean',\n",
    "       'positive_very friendly staff', 'positive_great breakfast',\n",
    "       'no_positive', 'negative_small room', 'negative_breakfast',\n",
    "       'negative_location', 'negative_everything', 'negative_price',\n",
    "       'negative_small rooms', 'negative_very small room',\n",
    "       'negative_expensive', 'negative_room size', 'negative_staff',\n",
    "       'negative_the price', 'no_negative'],\n",
    "      dtype='object') 52"
   ]
  },
  {
   "cell_type": "code",
   "execution_count": 28,
   "metadata": {},
   "outputs": [
    {
     "name": "stdout",
     "output_type": "stream",
     "text": [
      "MAPE: 0.12999330750981625\n",
      "Index(['additional_number_of_scoring', 'average_score',\n",
      "       'review_total_negative_word_counts', 'total_number_of_reviews',\n",
      "       'review_total_positive_word_counts', 'nights', 'children', 'young',\n",
      "       'without', 'king', 'premier', 'standard', 'superior', 'luxury',\n",
      "       'leisure trip', 'solo', 'view', 'lng_diff', 'positive_location',\n",
      "       'positive_everything', 'positive_great location',\n",
      "       'positive_the location', 'positive_good location', 'positive_breakfast',\n",
      "       'positive_friendly staff', 'positive_staff', 'positive_location staff',\n",
      "       'positive_location was good', 'positive_everything was perfect',\n",
      "       'positive_comfy bed', 'positive_perfect location', 'positive_the staff',\n",
      "       'positive_location is good', 'positive_all', 'positive_clean',\n",
      "       'positive_very friendly staff', 'positive_great breakfast',\n",
      "       'no_positive', 'negative_small room', 'negative_breakfast',\n",
      "       'negative_location', 'negative_everything', 'negative_price',\n",
      "       'negative_small rooms', 'negative_very small room',\n",
      "       'negative_expensive', 'negative_room size', 'negative_staff',\n",
      "       'negative_the price', 'no_negative'],\n",
      "      dtype='object') 50\n"
     ]
    }
   ],
   "source": [
    "# Сравниваем предсказанные значения (y_pred) с реальными (y_test), и смотрим насколько они отличаются  \n",
    "# Метрика называется Mean Absolute Percentage Error (MAPE) и показывает среднюю абсолютную процентную ошибку предсказанных значений от фактических.  \n",
    "print('MAPE:', metrics.mean_absolute_percentage_error(y_test, y_pred))\n",
    "\n",
    "print(X_test.columns, len(X_test.columns))"
   ]
  },
  {
   "cell_type": "markdown",
   "metadata": {},
   "source": [
    "Небольшой бонус:\n"
   ]
  },
  {
   "cell_type": "code",
   "execution_count": 29,
   "metadata": {},
   "outputs": [],
   "source": [
    "# # убираем признаки которые еще не успели обработать, \n",
    "# # модель на признаках с dtypes \"object\" обучаться не будет, просто выберим их и удалим\n",
    "# object_columns = [s for s in hotels.columns if hotels[s].dtypes == 'object']\n",
    "# hotels.drop(object_columns, axis = 1, inplace=True)\n",
    "\n",
    "# # заполняем пропуски самым простым способом\n",
    "# hotels = hotels.fillna(0)"
   ]
  }
 ],
 "metadata": {
  "kernelspec": {
   "display_name": "Python 3.9.13 64-bit",
   "language": "python",
   "name": "python3"
  },
  "language_info": {
   "codemirror_mode": {
    "name": "ipython",
    "version": 3
   },
   "file_extension": ".py",
   "mimetype": "text/x-python",
   "name": "python",
   "nbconvert_exporter": "python",
   "pygments_lexer": "ipython3",
   "version": "3.9.13"
  },
  "vscode": {
   "interpreter": {
    "hash": "25034407fed5d681614dac11a1c0537e8cb49e3a8883c071303eea01322943d9"
   }
  }
 },
 "nbformat": 4,
 "nbformat_minor": 2
}
