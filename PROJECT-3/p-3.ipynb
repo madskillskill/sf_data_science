{
 "cells": [
  {
   "cell_type": "code",
   "execution_count": 1,
   "metadata": {},
   "outputs": [],
   "source": [
    "import pandas as pd\n",
    "import numpy as np"
   ]
  },
  {
   "cell_type": "code",
   "execution_count": 2,
   "metadata": {},
   "outputs": [
    {
     "data": {
      "text/html": [
       "<div>\n",
       "<style scoped>\n",
       "    .dataframe tbody tr th:only-of-type {\n",
       "        vertical-align: middle;\n",
       "    }\n",
       "\n",
       "    .dataframe tbody tr th {\n",
       "        vertical-align: top;\n",
       "    }\n",
       "\n",
       "    .dataframe thead th {\n",
       "        text-align: right;\n",
       "    }\n",
       "</style>\n",
       "<table border=\"1\" class=\"dataframe\">\n",
       "  <thead>\n",
       "    <tr style=\"text-align: right;\">\n",
       "      <th></th>\n",
       "      <th>hotel_address</th>\n",
       "      <th>additional_number_of_scoring</th>\n",
       "      <th>review_date</th>\n",
       "      <th>average_score</th>\n",
       "      <th>hotel_name</th>\n",
       "      <th>reviewer_nationality</th>\n",
       "      <th>negative_review</th>\n",
       "      <th>review_total_negative_word_counts</th>\n",
       "      <th>total_number_of_reviews</th>\n",
       "      <th>positive_review</th>\n",
       "      <th>review_total_positive_word_counts</th>\n",
       "      <th>total_number_of_reviews_reviewer_has_given</th>\n",
       "      <th>reviewer_score</th>\n",
       "      <th>tags</th>\n",
       "      <th>days_since_review</th>\n",
       "      <th>lat</th>\n",
       "      <th>lng</th>\n",
       "    </tr>\n",
       "  </thead>\n",
       "  <tbody>\n",
       "    <tr>\n",
       "      <th>0</th>\n",
       "      <td>Stratton Street Mayfair Westminster Borough Lo...</td>\n",
       "      <td>581</td>\n",
       "      <td>2/19/2016</td>\n",
       "      <td>8.4</td>\n",
       "      <td>The May Fair Hotel</td>\n",
       "      <td>United Kingdom</td>\n",
       "      <td>Leaving</td>\n",
       "      <td>3</td>\n",
       "      <td>1994</td>\n",
       "      <td>Staff were amazing</td>\n",
       "      <td>4</td>\n",
       "      <td>7</td>\n",
       "      <td>10.0</td>\n",
       "      <td>[' Leisure trip ', ' Couple ', ' Studio Suite ...</td>\n",
       "      <td>531 day</td>\n",
       "      <td>51.507894</td>\n",
       "      <td>-0.143671</td>\n",
       "    </tr>\n",
       "    <tr>\n",
       "      <th>1</th>\n",
       "      <td>130 134 Southampton Row Camden London WC1B 5AF...</td>\n",
       "      <td>299</td>\n",
       "      <td>1/12/2017</td>\n",
       "      <td>8.3</td>\n",
       "      <td>Mercure London Bloomsbury Hotel</td>\n",
       "      <td>United Kingdom</td>\n",
       "      <td>poor breakfast</td>\n",
       "      <td>3</td>\n",
       "      <td>1361</td>\n",
       "      <td>location</td>\n",
       "      <td>2</td>\n",
       "      <td>14</td>\n",
       "      <td>6.3</td>\n",
       "      <td>[' Business trip ', ' Couple ', ' Standard Dou...</td>\n",
       "      <td>203 day</td>\n",
       "      <td>51.521009</td>\n",
       "      <td>-0.123097</td>\n",
       "    </tr>\n",
       "    <tr>\n",
       "      <th>2</th>\n",
       "      <td>151 bis Rue de Rennes 6th arr 75006 Paris France</td>\n",
       "      <td>32</td>\n",
       "      <td>10/18/2016</td>\n",
       "      <td>8.9</td>\n",
       "      <td>Legend Saint Germain by Elegancia</td>\n",
       "      <td>China</td>\n",
       "      <td>No kettle in room</td>\n",
       "      <td>6</td>\n",
       "      <td>406</td>\n",
       "      <td>No Positive</td>\n",
       "      <td>0</td>\n",
       "      <td>14</td>\n",
       "      <td>7.5</td>\n",
       "      <td>[' Leisure trip ', ' Solo traveler ', ' Modern...</td>\n",
       "      <td>289 day</td>\n",
       "      <td>48.845377</td>\n",
       "      <td>2.325643</td>\n",
       "    </tr>\n",
       "  </tbody>\n",
       "</table>\n",
       "</div>"
      ],
      "text/plain": [
       "                                       hotel_address  \\\n",
       "0  Stratton Street Mayfair Westminster Borough Lo...   \n",
       "1  130 134 Southampton Row Camden London WC1B 5AF...   \n",
       "2   151 bis Rue de Rennes 6th arr 75006 Paris France   \n",
       "\n",
       "   additional_number_of_scoring review_date  average_score  \\\n",
       "0                           581   2/19/2016            8.4   \n",
       "1                           299   1/12/2017            8.3   \n",
       "2                            32  10/18/2016            8.9   \n",
       "\n",
       "                          hotel_name reviewer_nationality  \\\n",
       "0                 The May Fair Hotel      United Kingdom    \n",
       "1    Mercure London Bloomsbury Hotel      United Kingdom    \n",
       "2  Legend Saint Germain by Elegancia               China    \n",
       "\n",
       "       negative_review  review_total_negative_word_counts  \\\n",
       "0             Leaving                                   3   \n",
       "1       poor breakfast                                  3   \n",
       "2   No kettle in room                                   6   \n",
       "\n",
       "   total_number_of_reviews      positive_review  \\\n",
       "0                     1994   Staff were amazing   \n",
       "1                     1361             location   \n",
       "2                      406          No Positive   \n",
       "\n",
       "   review_total_positive_word_counts  \\\n",
       "0                                  4   \n",
       "1                                  2   \n",
       "2                                  0   \n",
       "\n",
       "   total_number_of_reviews_reviewer_has_given  reviewer_score  \\\n",
       "0                                           7            10.0   \n",
       "1                                          14             6.3   \n",
       "2                                          14             7.5   \n",
       "\n",
       "                                                tags days_since_review  \\\n",
       "0  [' Leisure trip ', ' Couple ', ' Studio Suite ...           531 day   \n",
       "1  [' Business trip ', ' Couple ', ' Standard Dou...           203 day   \n",
       "2  [' Leisure trip ', ' Solo traveler ', ' Modern...           289 day   \n",
       "\n",
       "         lat       lng  \n",
       "0  51.507894 -0.143671  \n",
       "1  51.521009 -0.123097  \n",
       "2  48.845377  2.325643  "
      ]
     },
     "execution_count": 2,
     "metadata": {},
     "output_type": "execute_result"
    }
   ],
   "source": [
    "hotels = pd.read_csv('data/hotels.csv')\n",
    "hotels.head(3)"
   ]
  },
  {
   "cell_type": "code",
   "execution_count": 3,
   "metadata": {},
   "outputs": [],
   "source": [
    "cols = ['geonameid',\n",
    "'name',\n",
    "'asciiname',\n",
    "'alternatenames',\n",
    "'latitude',\n",
    "'longitude',\n",
    "'feature_class',\n",
    "'feature_code',\n",
    "'country_code',\n",
    "'cc2',\n",
    "'admin1_code',\n",
    "'admin2_code',\n",
    "'admin3_code',\n",
    "'admin4_code',\n",
    "'population',\n",
    "'elevation',\n",
    "'dem',\n",
    "'timezone',\n",
    "'modification_date']"
   ]
  },
  {
   "cell_type": "markdown",
   "metadata": {},
   "source": [
    "Copy city center location data from Wikipedia."
   ]
  },
  {
   "cell_type": "code",
   "execution_count": 4,
   "metadata": {},
   "outputs": [
    {
     "name": "stdout",
     "output_type": "stream",
     "text": [
      "<class 'pandas.core.series.Series'>\n",
      "RangeIndex: 386803 entries, 0 to 386802\n",
      "Series name: reviewer_score\n",
      "Non-Null Count   Dtype  \n",
      "--------------   -----  \n",
      "386803 non-null  float64\n",
      "dtypes: float64(1)\n",
      "memory usage: 3.0 MB\n"
     ]
    },
    {
     "data": {
      "text/plain": [
       "None"
      ]
     },
     "metadata": {},
     "output_type": "display_data"
    }
   ],
   "source": [
    "display(hotels['reviewer_score'].info())"
   ]
  },
  {
   "cell_type": "code",
   "execution_count": 5,
   "metadata": {},
   "outputs": [
    {
     "data": {
      "image/png": "[encoded data removed]",
      "text/plain": [
       "<Figure size 432x288 with 1 Axes>"
      ]
     },
     "metadata": {},
     "output_type": "display_data"
    }
   ],
   "source": [
    "import matplotlib.pyplot as plt\n",
    "\n",
    "fig = plt.scatter(\n",
    "    data=hotels,\n",
    "    x='average_score',\n",
    "    y='total_number_of_reviews')\n",
    "plt.suptitle('Отношение количества ревью к средней оценке', fontsize=24)\n",
    "plt.xlabel('Оценка', fontsize=18)\n",
    "plt.ylabel('Количество ревью', fontsize=18)\n",
    "plt.show(fig)\n",
    "\n",
    "#display(hotels[hotels['reviewer_score']<3.4])"
   ]
  },
  {
   "cell_type": "code",
   "execution_count": 6,
   "metadata": {},
   "outputs": [],
   "source": [
    "hotels['negative_review'] = hotels['negative_review'].str.strip()\n",
    "hotels['positive_review'] = hotels['positive_review'].str.strip()"
   ]
  },
  {
   "cell_type": "code",
   "execution_count": 7,
   "metadata": {},
   "outputs": [],
   "source": [
    "# display(hotels['positive_review'].value_counts())\n",
    "# display(hotels['negative_review'].value_counts())"
   ]
  },
  {
   "cell_type": "code",
   "execution_count": 8,
   "metadata": {},
   "outputs": [
    {
     "name": "stdout",
     "output_type": "stream",
     "text": [
      "130 134 Southampton Row Camden London WC1B 5AF United Kingdom\n"
     ]
    }
   ],
   "source": [
    "print(hotels['hotel_address'][1])"
   ]
  },
  {
   "cell_type": "markdown",
   "metadata": {},
   "source": [
    "**review_score to category**"
   ]
  },
  {
   "cell_type": "code",
   "execution_count": 9,
   "metadata": {},
   "outputs": [
    {
     "name": "stdout",
     "output_type": "stream",
     "text": [
      "{5.2: 0, 6.4: 1, 6.6: 2, 6.7: 3, 6.8: 4, 6.9: 5, 7.0: 6, 7.1: 7, 7.2: 8, 7.3: 9, 7.4: 10, 7.5: 11, 7.6: 12, 7.7: 13, 7.8: 14, 7.9: 15, 8.0: 16, 8.1: 17, 8.2: 18, 8.3: 19, 8.4: 20, 8.5: 21, 8.6: 22, 8.7: 23, 8.8: 24, 8.9: 25, 9.0: 26, 9.1: 27, 9.2: 28, 9.3: 29, 9.4: 30, 9.5: 31, 9.6: 32, 9.8: 33}\n"
     ]
    }
   ],
   "source": [
    "counter = 0\n",
    "\n",
    "average_score_preserved_mapper = dict()\n",
    "\n",
    "for i in sorted(set(hotels['average_score'])):\n",
    "    average_score_preserved_mapper.update({i:counter})\n",
    "    counter += 1\n",
    "\n",
    "print(average_score_preserved_mapper)"
   ]
  },
  {
   "cell_type": "code",
   "execution_count": 10,
   "metadata": {},
   "outputs": [],
   "source": [
    "hotels['average_score'] = hotels['average_score'].replace(average_score_preserved_mapper)\n",
    "hotels['average_score'] = hotels['average_score'].astype(int)"
   ]
  },
  {
   "cell_type": "markdown",
   "metadata": {},
   "source": [
    "**Take both city and country from address**"
   ]
  },
  {
   "cell_type": "code",
   "execution_count": 11,
   "metadata": {},
   "outputs": [],
   "source": [
    "# from collections import deque\n",
    "\n",
    "# countrified = pd.DataFrame()\n",
    "\n",
    "# def countrifier(string):\n",
    "#     cut = deque(string.split()[-5:])\n",
    "#     country = cut[-1]\n",
    "#     city = cut[-2]\n",
    "#     if country == 'Kingdom':\n",
    "#         country = 'United Kingdom'\n",
    "#         city = cut[0]\n",
    "#     return pd.Series({'country': country, 'city': city})\n",
    "\n",
    "# hotels[['country', 'city']] = hotels['hotel_address'].apply(countrifier)\n",
    "# display(hotels[['country', 'city']].describe())"
   ]
  },
  {
   "cell_type": "markdown",
   "metadata": {},
   "source": [
    "The resulting code proven to be useless as each country only have one city, so they are twin couples without variations."
   ]
  },
  {
   "cell_type": "code",
   "execution_count": 12,
   "metadata": {},
   "outputs": [
    {
     "data": {
      "text/html": [
       "<div>\n",
       "<style scoped>\n",
       "    .dataframe tbody tr th:only-of-type {\n",
       "        vertical-align: middle;\n",
       "    }\n",
       "\n",
       "    .dataframe tbody tr th {\n",
       "        vertical-align: top;\n",
       "    }\n",
       "\n",
       "    .dataframe thead th {\n",
       "        text-align: right;\n",
       "    }\n",
       "</style>\n",
       "<table border=\"1\" class=\"dataframe\">\n",
       "  <thead>\n",
       "    <tr style=\"text-align: right;\">\n",
       "      <th></th>\n",
       "      <th>city</th>\n",
       "    </tr>\n",
       "  </thead>\n",
       "  <tbody>\n",
       "    <tr>\n",
       "      <th>count</th>\n",
       "      <td>386803</td>\n",
       "    </tr>\n",
       "    <tr>\n",
       "      <th>unique</th>\n",
       "      <td>6</td>\n",
       "    </tr>\n",
       "    <tr>\n",
       "      <th>top</th>\n",
       "      <td>London</td>\n",
       "    </tr>\n",
       "    <tr>\n",
       "      <th>freq</th>\n",
       "      <td>196774</td>\n",
       "    </tr>\n",
       "  </tbody>\n",
       "</table>\n",
       "</div>"
      ],
      "text/plain": [
       "          city\n",
       "count   386803\n",
       "unique       6\n",
       "top     London\n",
       "freq    196774"
      ]
     },
     "metadata": {},
     "output_type": "display_data"
    }
   ],
   "source": [
    "from collections import deque\n",
    "\n",
    "get_city = pd.DataFrame()\n",
    "\n",
    "def get_city(string):\n",
    "    cut = deque(string.split()[-5:])\n",
    "    city = cut[-2]\n",
    "    if cut[-1] == 'Kingdom':\n",
    "        city = cut[0]\n",
    "    return pd.Series(city)\n",
    "\n",
    "hotels['city'] = hotels['hotel_address'].apply(get_city)\n",
    "display(hotels[['city']].describe())"
   ]
  },
  {
   "cell_type": "code",
   "execution_count": 13,
   "metadata": {},
   "outputs": [
    {
     "data": {
      "text/plain": [
       "London       196774\n",
       "Barcelona     45132\n",
       "Paris         44830\n",
       "Amsterdam     43006\n",
       "Vienna        29178\n",
       "Milan         27883\n",
       "Name: city, dtype: int64"
      ]
     },
     "metadata": {},
     "output_type": "display_data"
    }
   ],
   "source": [
    "display(hotels['city'].value_counts())"
   ]
  },
  {
   "cell_type": "code",
   "execution_count": 14,
   "metadata": {},
   "outputs": [],
   "source": [
    "coord_dict = {'London': [51.507222, -0.1275],\n",
    " 'Barcelona': [41.383333, 2.183333],\n",
    " 'Paris': [48.856613, 2.352222],\n",
    " 'Amsterdam': [52.366667, 4.9],\n",
    " 'Vienna': [48.2, 16.366667],\n",
    " 'Milan': [45.466944, 9.19]}"
   ]
  },
  {
   "cell_type": "code",
   "execution_count": 15,
   "metadata": {},
   "outputs": [],
   "source": [
    "def coord_diff(city, lat, lng):\n",
    "    if city in coord_dict:\n",
    "        def_crd = coord_dict.get(city)\n",
    "\n",
    "    lat_diff = def_crd[0] - lat\n",
    "    lng_diff = def_crd[1] - lng\n",
    "    return pd.Series([lat_diff, lng_diff])\n",
    "\n",
    "\n",
    "hotels[['lat_diff','lng_diff']] = hotels.apply(lambda x: coord_diff(x['city'], x['lat'], x['lng']), axis=1)\n"
   ]
  },
  {
   "cell_type": "code",
   "execution_count": 16,
   "metadata": {},
   "outputs": [
    {
     "data": {
      "text/plain": [
       "<AxesSubplot:>"
      ]
     },
     "execution_count": 16,
     "metadata": {},
     "output_type": "execute_result"
    },
    {
     "data": {
      "image/png": "[encoded data removed]",
      "text/plain": [
       "<Figure size 432x288 with 2 Axes>"
      ]
     },
     "metadata": {
      "needs_background": "dark"
     },
     "output_type": "display_data"
    }
   ],
   "source": [
    "import seaborn as sns\n",
    "import matplotlib\n",
    "%matplotlib inline\n",
    "sns.heatmap(hotels.corr(), annot = True)"
   ]
  },
  {
   "cell_type": "markdown",
   "metadata": {},
   "source": [
    "Как мы видим, Страна == Город для всего датафрейма."
   ]
  },
  {
   "cell_type": "code",
   "execution_count": 17,
   "metadata": {},
   "outputs": [
    {
     "data": {
      "text/plain": [
       "1010     9320\n",
       "20124    8803\n",
       "75008    8284\n",
       "08002    7614\n",
       "75001    4120\n",
       "         ... \n",
       "1230       17\n",
       "JW         16\n",
       "20141      13\n",
       "7DD         9\n",
       "92120       5\n",
       "Name: hotel_city, Length: 566, dtype: int64"
      ]
     },
     "metadata": {},
     "output_type": "display_data"
    }
   ],
   "source": [
    "def citifier(string):\n",
    "    cut = string.split()[::-1]\n",
    "\n",
    "    country = cut[1]\n",
    "\n",
    "    country = country[0]\n",
    "\n",
    "    if country == 'Kingdom':\n",
    "        city = cut[3:]\n",
    "    else: city = cut[2:]\n",
    "    \n",
    "    city = city[0]\n",
    "    \n",
    "    return city\n",
    "\n",
    "hotels['hotel_city'] = hotels['hotel_address'].apply(citifier)\n",
    "\n",
    "display(hotels['hotel_city'].value_counts())"
   ]
  },
  {
   "cell_type": "code",
   "execution_count": 18,
   "metadata": {},
   "outputs": [],
   "source": [
    "def ws_cutter(string):\n",
    "    string = string[1:-1]\n",
    "    return(string)\n",
    "\n",
    "hotels['reviewer_nationality'] =\\\n",
    "    hotels['reviewer_nationality'].apply(ws_cutter)"
   ]
  },
  {
   "cell_type": "code",
   "execution_count": 19,
   "metadata": {},
   "outputs": [],
   "source": [
    "# hotels['is_homeland'] = (hotels['country']==hotels['reviewer_nationality'])\n",
    "# comp_pd = pd.DataFrame()\n",
    "# comp_pd['nat'], comp_pd['htl'], comp_pd['=='] =\\\n",
    "#     hotels['reviewer_nationality'], hotels['country'], hotels['is_homeland']\n",
    "# display(hotels[['country', 'reviewer_nationality', 'is_homeland']].head(3))"
   ]
  },
  {
   "cell_type": "code",
   "execution_count": 20,
   "metadata": {},
   "outputs": [],
   "source": [
    "hotels['city'] = hotels['city'].astype('category')\n",
    "\n",
    "city_dict = {'London':0, 'Barcelona':1, 'Paris':2,\n",
    "    'Amsterdam':3, 'Vienna':4, 'Milan':5}\n",
    "country_dict = {'United Kingdom':0, 'Spain':1, 'France':2,\n",
    "                'Netherland':3, 'Austria':4,'Italy':5}\n",
    "\n",
    "hotels['city'] = hotels['city'].cat.rename_categories(city_dict)"
   ]
  },
  {
   "cell_type": "code",
   "execution_count": 21,
   "metadata": {},
   "outputs": [],
   "source": [
    "# hotels['city'], hotels['country'] =\\\n",
    "#     hotels['city'].astype('category'),\\\n",
    "#         hotels['country'].astype('category')\n",
    "\n",
    "# city_dict = {'London':0, 'Barcelona':1, 'Paris':2,\n",
    "#     'Amsterdam':3, 'Vienna':4, 'Milan':5}\n",
    "# country_dict = {'United Kingdom':0, 'Spain':1, 'France':2,\n",
    "#                 'Netherland':3, 'Austria':4,'Italy':5}\n",
    "\n",
    "# hotels['city'] = hotels['city'].cat.rename_categories(city_dict)\n",
    "# hotels['country'] = hotels['city'].cat.rename_categories(city_dict)"
   ]
  },
  {
   "cell_type": "code",
   "execution_count": 22,
   "metadata": {},
   "outputs": [],
   "source": [
    "hotels['city_int'] = hotels['city'].astype(int)\n",
    "hotels['country_int'] = hotels['city'].astype(int)"
   ]
  },
  {
   "cell_type": "code",
   "execution_count": 23,
   "metadata": {},
   "outputs": [
    {
     "data": {
      "text/plain": [
       "<AxesSubplot:xlabel='city_int', ylabel='country_int'>"
      ]
     },
     "execution_count": 23,
     "metadata": {},
     "output_type": "execute_result"
    },
    {
     "data": {
      "image/png": "[encoded data removed]",
      "text/plain": [
       "<Figure size 432x288 with 1 Axes>"
      ]
     },
     "metadata": {
      "needs_background": "dark"
     },
     "output_type": "display_data"
    }
   ],
   "source": [
    "sns.scatterplot(data=hotels, x='city_int', y='country_int')"
   ]
  },
  {
   "cell_type": "markdown",
   "metadata": {},
   "source": [
    "**hotel_country categorize**"
   ]
  },
  {
   "cell_type": "code",
   "execution_count": 24,
   "metadata": {},
   "outputs": [
    {
     "name": "stdout",
     "output_type": "stream",
     "text": [
      "<class 'pandas.core.frame.DataFrame'>\n",
      "RangeIndex: 386803 entries, 0 to 386802\n",
      "Data columns (total 23 columns):\n",
      " #   Column                                      Non-Null Count   Dtype   \n",
      "---  ------                                      --------------   -----   \n",
      " 0   hotel_address                               386803 non-null  object  \n",
      " 1   additional_number_of_scoring                386803 non-null  int64   \n",
      " 2   review_date                                 386803 non-null  object  \n",
      " 3   average_score                               386803 non-null  int32   \n",
      " 4   hotel_name                                  386803 non-null  object  \n",
      " 5   reviewer_nationality                        386803 non-null  object  \n",
      " 6   negative_review                             386803 non-null  object  \n",
      " 7   review_total_negative_word_counts           386803 non-null  int64   \n",
      " 8   total_number_of_reviews                     386803 non-null  int64   \n",
      " 9   positive_review                             386803 non-null  object  \n",
      " 10  review_total_positive_word_counts           386803 non-null  int64   \n",
      " 11  total_number_of_reviews_reviewer_has_given  386803 non-null  int64   \n",
      " 12  reviewer_score                              386803 non-null  float64 \n",
      " 13  tags                                        386803 non-null  object  \n",
      " 14  days_since_review                           386803 non-null  object  \n",
      " 15  lat                                         384355 non-null  float64 \n",
      " 16  lng                                         384355 non-null  float64 \n",
      " 17  city                                        386803 non-null  category\n",
      " 18  lat_diff                                    384355 non-null  float64 \n",
      " 19  lng_diff                                    384355 non-null  float64 \n",
      " 20  hotel_city                                  386803 non-null  object  \n",
      " 21  city_int                                    386803 non-null  int32   \n",
      " 22  country_int                                 386803 non-null  int32   \n",
      "dtypes: category(1), float64(5), int32(3), int64(5), object(9)\n",
      "memory usage: 60.9+ MB\n"
     ]
    }
   ],
   "source": [
    "hotels.info()"
   ]
  },
  {
   "cell_type": "markdown",
   "metadata": {},
   "source": [
    "**days_since_review**"
   ]
  },
  {
   "cell_type": "code",
   "execution_count": 25,
   "metadata": {},
   "outputs": [
    {
     "name": "stdout",
     "output_type": "stream",
     "text": [
      "532.0\n"
     ]
    }
   ],
   "source": [
    "hotels['days_since_review'] = ((pd.to_datetime('2017-08-04')\\\n",
    "    -pd.to_datetime(hotels['review_date']))/ np.timedelta64(1, 'D'))\n",
    "print(hotels['days_since_review'][0])"
   ]
  },
  {
   "cell_type": "markdown",
   "metadata": {},
   "source": [
    "**effing tags (I really really hate 'em)**"
   ]
  },
  {
   "cell_type": "code",
   "execution_count": 26,
   "metadata": {},
   "outputs": [],
   "source": [
    "def rev_func(num_tags):\n",
    "    num_tags = num_tags[2:-2]\n",
    "    res = num_tags.strip().split(' \\', \\' ')\n",
    "    return res\n",
    "\n",
    "hotels['tags_n'] = hotels['tags'].apply(rev_func)"
   ]
  },
  {
   "cell_type": "markdown",
   "metadata": {},
   "source": [
    "**nights counter**"
   ]
  },
  {
   "cell_type": "code",
   "execution_count": 27,
   "metadata": {},
   "outputs": [
    {
     "data": {
      "text/plain": [
       "count    386657.000000\n",
       "mean          2.361571\n",
       "std           1.646506\n",
       "min           1.000000\n",
       "25%           1.000000\n",
       "50%           2.000000\n",
       "75%           3.000000\n",
       "max          30.000000\n",
       "Name: nights, dtype: float64"
      ]
     },
     "metadata": {},
     "output_type": "display_data"
    }
   ],
   "source": [
    "hotels['nights'] = 1\n",
    "\n",
    "def nights_counter(tags_listed):\n",
    "    for i in tags_listed:\n",
    "        if i[0] == 'S':\n",
    "            if i[1] == 't':\n",
    "                if i[2] == 'a':\n",
    "                    if i[3] == 'y':\n",
    "                        return int(i[7:9])\n",
    "\n",
    "hotels['nights'] = hotels['tags_n'].apply(nights_counter)\n",
    "display(hotels['nights'].describe())"
   ]
  },
  {
   "cell_type": "markdown",
   "metadata": {},
   "source": [
    "**cutting off insignificant amount of nights**"
   ]
  },
  {
   "cell_type": "code",
   "execution_count": 28,
   "metadata": {},
   "outputs": [
    {
     "data": {
      "text/plain": [
       "1.0     145373\n",
       "2.0     100263\n",
       "3.0      72000\n",
       "4.0      35748\n",
       "5.0      15611\n",
       "6.0       7399\n",
       "7.0       5549\n",
       "8.0       1910\n",
       "9.0        966\n",
       "10.0       663\n",
       "15.0       624\n",
       "11.0       306\n",
       "12.0       217\n",
       "13.0       174\n",
       "Name: nights, dtype: int64"
      ]
     },
     "execution_count": 28,
     "metadata": {},
     "output_type": "execute_result"
    }
   ],
   "source": [
    "#hotels['nights'] = hotels['nights'].astype(int)\n",
    "hotels['nights'] = hotels['nights'].apply(lambda x: x if x < 14 else 15)\n",
    "hotels['nights'].value_counts()"
   ]
  },
  {
   "cell_type": "markdown",
   "metadata": {},
   "source": [
    "**adding popular tags**"
   ]
  },
  {
   "cell_type": "code",
   "execution_count": 29,
   "metadata": {},
   "outputs": [],
   "source": [
    "hotels['tags'] = hotels['tags'].astype(str).str.lower()"
   ]
  },
  {
   "cell_type": "code",
   "execution_count": 30,
   "metadata": {},
   "outputs": [],
   "source": [
    "def tag_detect(tags_listed, tag):\n",
    "    if str(tag) in tags_listed:\n",
    "            return True\n",
    "    else: return False\n",
    "        \n",
    "tag_list = ['children', 'young', 'without', 'king', 'premier', 'standard', 'superior', 'luxury', 'leisure trip', 'solo', 'view']\n",
    "\n",
    "for i in tag_list:\n",
    "    hotels[i] = hotels['tags'].apply(tag_detect, tag = i)"
   ]
  },
  {
   "cell_type": "code",
   "execution_count": 31,
   "metadata": {},
   "outputs": [],
   "source": [
    "all_tags = list()\n",
    "\n",
    "for tag_list in hotels['tags_n']:\n",
    "    for i in tag_list:\n",
    "        i = i.split()\n",
    "        for k in i:\n",
    "            all_tags.append(k)\n",
    "\n",
    "all_tags = pd.Series(all_tags)\n",
    "\n"
   ]
  },
  {
   "cell_type": "code",
   "execution_count": 32,
   "metadata": {},
   "outputs": [],
   "source": [
    "# pd.set_option(\"display.max_rows\", None)\n",
    "# display(all_tags.value_counts())"
   ]
  },
  {
   "cell_type": "code",
   "execution_count": 33,
   "metadata": {},
   "outputs": [],
   "source": [
    "# def tag_detect(tags_listed, tag):\n",
    "#     if str(tag) in tags_listed:\n",
    "#             return True\n",
    "#     else: return False\n",
    "        \n",
    "# tag_list = ['king', 'premier', 'standard', 'superior', 'luxury', 'leisure trip', 'solo', 'view']\n",
    "\n",
    "# for i in tag_list:\n",
    "#     hotels[i] = hotels['positive_review'].apply(tag_detect, tag = i)"
   ]
  },
  {
   "cell_type": "code",
   "execution_count": 34,
   "metadata": {},
   "outputs": [],
   "source": [
    "sns.set(rc={\"figure.figsize\":(40, 40)})"
   ]
  },
  {
   "cell_type": "markdown",
   "metadata": {},
   "source": [
    "## ***IT'S A FINAL COUNTDOWN***"
   ]
  },
  {
   "cell_type": "code",
   "execution_count": 90,
   "metadata": {},
   "outputs": [
    {
     "data": {
      "text/plain": [
       "additional_number_of_scoring                 -0.061773\n",
       "average_score                                 0.363863\n",
       "review_total_negative_word_counts            -0.383407\n",
       "total_number_of_reviews                      -0.073389\n",
       "review_total_positive_word_counts             0.220294\n",
       "total_number_of_reviews_reviewer_has_given    0.002498\n",
       "reviewer_score                                1.000000\n",
       "days_since_review                             0.002408\n",
       "lat                                          -0.036984\n",
       "lng                                           0.034829\n",
       "lat_diff                                      0.008052\n",
       "lng_diff                                     -0.053375\n",
       "city_int                                      0.026854\n",
       "country_int                                   0.026854\n",
       "nights                                       -0.018672\n",
       "children                                     -0.014233\n",
       "young                                        -0.020672\n",
       "without                                      -0.056660\n",
       "king                                          0.036716\n",
       "premier                                       0.020603\n",
       "standard                                     -0.060620\n",
       "superior                                      0.040581\n",
       "luxury                                        0.021354\n",
       "leisure trip                                  0.117986\n",
       "solo                                         -0.083230\n",
       "view                                          0.031853\n",
       "dtype: float64"
      ]
     },
     "execution_count": 90,
     "metadata": {},
     "output_type": "execute_result"
    }
   ],
   "source": [
    "hotels.corrwith(hotels['reviewer_score'])"
   ]
  },
  {
   "cell_type": "code",
   "execution_count": 127,
   "metadata": {},
   "outputs": [],
   "source": [
    "htl = hotels.copy()\n",
    "\n",
    "object_columns = [s for s in htl.columns if htl[s].dtypes == 'object']\n",
    "htl.drop(object_columns, axis = 1, inplace=True)\n",
    "\n",
    "\n",
    "htl = htl.fillna(0)\n",
    "\n",
    "htl.drop(['nights', 'days_since_review', 'lat', 'lng', 'lat_diff', 'luxury', 'premier', 'city_int', 'country_int', 'young', 'king','view', 'superior', 'solo'], axis=1, inplace=True)"
   ]
  },
  {
   "cell_type": "code",
   "execution_count": 128,
   "metadata": {},
   "outputs": [
    {
     "data": {
      "text/plain": [
       "average_score                                 0.363863\n",
       "review_total_negative_word_counts            -0.383407\n",
       "total_number_of_reviews                      -0.073389\n",
       "review_total_positive_word_counts             0.220294\n",
       "total_number_of_reviews_reviewer_has_given    0.002498\n",
       "reviewer_score                                1.000000\n",
       "lng_diff                                     -0.053137\n",
       "children                                     -0.014233\n",
       "without                                      -0.056660\n",
       "standard                                     -0.060620\n",
       "leisure trip                                  0.117986\n",
       "dtype: float64"
      ]
     },
     "execution_count": 128,
     "metadata": {},
     "output_type": "execute_result"
    }
   ],
   "source": [
    "htl.corrwith(htl['reviewer_score'])"
   ]
  },
  {
   "cell_type": "code",
   "execution_count": 129,
   "metadata": {},
   "outputs": [],
   "source": [
    "# Разбиваем датафрейм на части, необходимые для обучения и тестирования модели  \n",
    "# Х - данные с информацией об отелях, у - целевая переменная (рейтинги отелей)  \n",
    "X = htl.drop(['reviewer_score'], axis = 1)  \n",
    "y = htl['reviewer_score'] "
   ]
  },
  {
   "cell_type": "code",
   "execution_count": 130,
   "metadata": {},
   "outputs": [],
   "source": [
    "# Загружаем специальный инструмент для разбивки:  \n",
    "from sklearn.model_selection import train_test_split  "
   ]
  },
  {
   "cell_type": "code",
   "execution_count": 131,
   "metadata": {},
   "outputs": [],
   "source": [
    "# Наборы данных с меткой \"train\" будут использоваться для обучения модели, \"test\" - для тестирования.  \n",
    "# Для тестирования мы будем использовать 25% от исходного датасета.  \n",
    "X_train, X_test, y_train, y_test = train_test_split(X, y, test_size=0.25, random_state=42)"
   ]
  },
  {
   "cell_type": "code",
   "execution_count": 132,
   "metadata": {},
   "outputs": [
    {
     "name": "stdout",
     "output_type": "stream",
     "text": [
      "<class 'pandas.core.frame.DataFrame'>\n",
      "Int64Index: 96701 entries, 177225 to 152014\n",
      "Data columns (total 11 columns):\n",
      " #   Column                                      Non-Null Count  Dtype   \n",
      "---  ------                                      --------------  -----   \n",
      " 0   average_score                               96701 non-null  int32   \n",
      " 1   review_total_negative_word_counts           96701 non-null  int64   \n",
      " 2   total_number_of_reviews                     96701 non-null  int64   \n",
      " 3   review_total_positive_word_counts           96701 non-null  int64   \n",
      " 4   total_number_of_reviews_reviewer_has_given  96701 non-null  int64   \n",
      " 5   city                                        96701 non-null  category\n",
      " 6   lng_diff                                    96701 non-null  float64 \n",
      " 7   children                                    96701 non-null  bool    \n",
      " 8   without                                     96701 non-null  bool    \n",
      " 9   standard                                    96701 non-null  bool    \n",
      " 10  leisure trip                                96701 non-null  bool    \n",
      "dtypes: bool(4), category(1), float64(1), int32(1), int64(4)\n",
      "memory usage: 5.3 MB\n"
     ]
    }
   ],
   "source": [
    "X_test.info()"
   ]
  },
  {
   "cell_type": "code",
   "execution_count": 133,
   "metadata": {},
   "outputs": [],
   "source": [
    "# Импортируем необходимые библиотеки:  \n",
    "from sklearn.ensemble import RandomForestRegressor # инструмент для создания и обучения модели  \n",
    "from sklearn import metrics # инструменты для оценки точности модели  \n",
    "  \n",
    "# Создаём модель  \n",
    "regr = RandomForestRegressor(n_estimators=100)  \n",
    "      \n",
    "# Обучаем модель на тестовом наборе данных  \n",
    "regr.fit(X_train, y_train)  \n",
    "      \n",
    "# Используем обученную модель для предсказания рейтинга отелей в тестовой выборке.  \n",
    "# Предсказанные значения записываем в переменную y_pred  \n",
    "y_pred = regr.predict(X_test)  \n"
   ]
  },
  {
   "cell_type": "markdown",
   "metadata": {},
   "source": [
    "MAPE: 0.14134178189311136\n",
    "\n",
    "MAPE: 0.14131385806717026\n",
    "\n",
    "MAPE: 0.14053156733726535\n",
    "\n",
    "MAPE: 0.14070534667401732\n",
    "\n",
    "MAPE: 0.1405255170406278\n",
    "\n",
    "MAPE: 0.13755135308025937\n",
    "\n",
    "MAPE: 0.13739329046723142\n",
    "\n",
    "MAPE: 0.13732568793244715"
   ]
  },
  {
   "cell_type": "markdown",
   "metadata": {},
   "source": [
    "0.16171777974904125\n",
    "\n",
    "deleted superior and solo. now it's:\n",
    "\n",
    "`additional_number_of_scoring                 -0.061773`\n",
    "\n",
    "`average_score                                 0.363863`\n",
    "\n",
    "`review_total_negative_word_counts            -0.383407`\n",
    "\n",
    "`total_number_of_reviews                      -0.073389`\n",
    "\n",
    "`review_total_positive_word_counts             0.220294`\n",
    "\n",
    "`total_number_of_reviews_reviewer_has_given    0.002498`\n",
    "\n",
    "`reviewer_score                                1.000000`\n",
    "\n",
    "`lng_diff                                     -0.053137`\n",
    "\n",
    "`without                                      -0.056660`\n",
    "\n",
    "`standard                                     -0.060620`\n",
    "\n",
    "`leisure trip                                  0.117986`\n",
    "\n",
    "0.13996804739741964\n",
    "\n",
    "added lat\\lng\n",
    "\n",
    "0.14004088547332413\n"
   ]
  },
  {
   "cell_type": "markdown",
   "metadata": {},
   "source": [
    "htl.drop(['nights', 'days_since_review', 'lat', 'lng', 'lat_diff', 'luxury', 'premier', 'children', 'nights', 'city_int', 'country_int', 'young', 'king','view', 'superior', 'solo'], axis=1, inplace=True)\n",
    "\n",
    "0.13994167584614647\n",
    "\n",
    "htl.drop(['nights', 'days_since_review', 'lat', 'lng', 'lat_diff', 'luxury', 'premier', 'city_int', 'country_int', 'young', 'king','view', 'superior', 'solo'], axis=1, inplace=True)\n",
    "\n",
    "0.139655038299193\n",
    "\n",
    "-\n",
    "\n",
    "0.13952801165719328\n",
    "\n",
    "with\n",
    "\n",
    "additional_number_of_scoring                 -0.061773\n",
    "\n",
    "average_score                                 0.363863\n",
    "\n",
    "review_total_negative_word_counts            -0.383407\n",
    "\n",
    "total_number_of_reviews                      -0.073389\n",
    "\n",
    "review_total_positive_word_counts             0.220294\n",
    "\n",
    "total_number_of_reviews_reviewer_has_given    0.002498\n",
    "\n",
    "reviewer_score                                1.000000\n",
    "\n",
    "lng_diff                                     -0.053137\n",
    "\n",
    "children                                     -0.014233\n",
    "\n",
    "without                                      -0.056660\n",
    "\n",
    "standard                                     -0.060620\n",
    "\n",
    "leisure trip                                  0.117986"
   ]
  },
  {
   "cell_type": "code",
   "execution_count": 134,
   "metadata": {},
   "outputs": [
    {
     "name": "stdout",
     "output_type": "stream",
     "text": [
      "MAPE: 0.13958940986008772\n"
     ]
    }
   ],
   "source": [
    "# Сравниваем предсказанные значения (y_pred) с реальными (y_test), и смотрим насколько они отличаются  \n",
    "# Метрика называется Mean Absolute Percentage Error (MAPE) и показывает среднюю абсолютную процентную ошибку предсказанных значений от фактических.  \n",
    "print('MAPE:', metrics.mean_absolute_percentage_error(y_test, y_pred))"
   ]
  },
  {
   "cell_type": "markdown",
   "metadata": {},
   "source": [
    "Небольшой бонус:\n"
   ]
  },
  {
   "cell_type": "code",
   "execution_count": 135,
   "metadata": {},
   "outputs": [],
   "source": [
    "# # убираем признаки которые еще не успели обработать, \n",
    "# # модель на признаках с dtypes \"object\" обучаться не будет, просто выберим их и удалим\n",
    "# object_columns = [s for s in hotels.columns if hotels[s].dtypes == 'object']\n",
    "# hotels.drop(object_columns, axis = 1, inplace=True)\n",
    "\n",
    "# # заполняем пропуски самым простым способом\n",
    "# hotels = hotels.fillna(0)"
   ]
  }
 ],
 "metadata": {
  "kernelspec": {
   "display_name": "Python 3.8.2 64-bit",
   "language": "python",
   "name": "python3"
  },
  "language_info": {
   "codemirror_mode": {
    "name": "ipython",
    "version": 3
   },
   "file_extension": ".py",
   "mimetype": "text/x-python",
   "name": "python",
   "nbconvert_exporter": "python",
   "pygments_lexer": "ipython3",
   "version": "3.8.2"
  },
  "vscode": {
   "interpreter": {
    "hash": "570feb405e2e27c949193ac68f46852414290d515b0ba6e5d90d076ed2284471"
   }
  }
 },
 "nbformat": 4,
 "nbformat_minor": 2
}
