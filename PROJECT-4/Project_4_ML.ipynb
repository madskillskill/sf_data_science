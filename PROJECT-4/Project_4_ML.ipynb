{
 "cells": [
  {
   "cell_type": "markdown",
   "id": "c353de9a",
   "metadata": {},
   "source": [
    "# Проект: классификация"
   ]
  },
  {
   "cell_type": "code",
   "execution_count": 542,
   "id": "4a6e54dc",
   "metadata": {},
   "outputs": [],
   "source": [
    "import pandas as pd\n",
    "import numpy as np\n",
    "import matplotlib.pyplot as plt\n",
    "import seaborn as sns\n",
    "from  sklearn.ensemble import IsolationForest\n",
    "import warnings\n",
    "warnings.filterwarnings('ignore')\n",
    "from sklearn.preprocessing  import LabelEncoder\n",
    "from sklearn import linear_model \n",
    "from sklearn import tree \n",
    "from sklearn import ensemble \n",
    "from sklearn import metrics \n",
    "from sklearn import preprocessing \n",
    "from sklearn.model_selection import train_test_split \n",
    "from sklearn.feature_selection import SelectKBest, f_classif"
   ]
  },
  {
   "cell_type": "markdown",
   "id": "71559b60",
   "metadata": {},
   "source": [
    "## Часть 1. Знакомство с данными, обработка пропусков и выбросов"
   ]
  },
  {
   "cell_type": "markdown",
   "id": "7c5e31b2",
   "metadata": {},
   "source": [
    "### Задание 1"
   ]
  },
  {
   "cell_type": "code",
   "execution_count": 543,
   "id": "20730cd7",
   "metadata": {},
   "outputs": [],
   "source": [
    "df = pd.read_csv('data/bank_fin.csv', sep = ';')"
   ]
  },
  {
   "cell_type": "code",
   "execution_count": 544,
   "id": "ba11dc67",
   "metadata": {},
   "outputs": [
    {
     "name": "stdout",
     "output_type": "stream",
     "text": [
      "<class 'pandas.core.frame.DataFrame'>\n",
      "RangeIndex: 11162 entries, 0 to 11161\n",
      "Data columns (total 17 columns):\n",
      " #   Column     Non-Null Count  Dtype \n",
      "---  ------     --------------  ----- \n",
      " 0   age        11162 non-null  int64 \n",
      " 1   job        11162 non-null  object\n",
      " 2   marital    11162 non-null  object\n",
      " 3   education  11162 non-null  object\n",
      " 4   default    11162 non-null  object\n",
      " 5   balance    11137 non-null  object\n",
      " 6   housing    11162 non-null  object\n",
      " 7   loan       11162 non-null  object\n",
      " 8   contact    11162 non-null  object\n",
      " 9   day        11162 non-null  int64 \n",
      " 10  month      11162 non-null  object\n",
      " 11  duration   11162 non-null  int64 \n",
      " 12  campaign   11162 non-null  int64 \n",
      " 13  pdays      11162 non-null  int64 \n",
      " 14  previous   11162 non-null  int64 \n",
      " 15  poutcome   11162 non-null  object\n",
      " 16  deposit    11162 non-null  object\n",
      "dtypes: int64(6), object(11)\n",
      "memory usage: 1.4+ MB\n"
     ]
    }
   ],
   "source": [
    "# исследуйте данные на предмет пропусков. Где есть пропущенные значения? Сколько их?\n",
    "df.info()"
   ]
  },
  {
   "cell_type": "markdown",
   "id": "6366f059",
   "metadata": {},
   "source": [
    "### Задание 2"
   ]
  },
  {
   "cell_type": "code",
   "execution_count": 545,
   "id": "98ea29d4",
   "metadata": {},
   "outputs": [
    {
     "data": {
      "text/plain": [
       "management       2566\n",
       "blue-collar      1944\n",
       "technician       1823\n",
       "admin.           1334\n",
       "services          923\n",
       "retired           778\n",
       "self-employed     405\n",
       "student           360\n",
       "unemployed        357\n",
       "entrepreneur      328\n",
       "housemaid         274\n",
       "unknown            70\n",
       "Name: job, dtype: int64"
      ]
     },
     "execution_count": 545,
     "metadata": {},
     "output_type": "execute_result"
    }
   ],
   "source": [
    "# есть ли в признаке job пропущенные значения? Возможно, они обозначены каким-то специальным словом?\n",
    "df.job.value_counts()\n"
   ]
  },
  {
   "cell_type": "markdown",
   "id": "8fcf4fcd",
   "metadata": {},
   "source": [
    "### Задание 3"
   ]
  },
  {
   "cell_type": "code",
   "execution_count": 546,
   "id": "3a01be5e",
   "metadata": {},
   "outputs": [
    {
     "name": "stdout",
     "output_type": "stream",
     "text": [
      " 2 343,00 $ \n",
      "2343.00\n"
     ]
    },
    {
     "data": {
      "text/plain": [
       "2343.0"
      ]
     },
     "execution_count": 546,
     "metadata": {},
     "output_type": "execute_result"
    }
   ],
   "source": [
    "# преобразуйте признак balance таким образом, чтобы он корректно считывался, как вещественное число (float)\n",
    "print(df.balance[0])\n",
    "print(df.balance[0].replace(' ', '').strip('$ ').replace(\",\", \".\"))\n",
    "float(df.balance[0].replace(' ', '').strip('$ ').replace(\",\", \".\"))"
   ]
  },
  {
   "cell_type": "code",
   "execution_count": 547,
   "id": "377c6839",
   "metadata": {},
   "outputs": [
    {
     "data": {
      "text/plain": [
       "'2 343,00'"
      ]
     },
     "execution_count": 547,
     "metadata": {},
     "output_type": "execute_result"
    }
   ],
   "source": [
    "type(df.balance[0])\n",
    "df.balance[0]\n",
    "df.balance[0].strip().strip('$').strip()"
   ]
  },
  {
   "cell_type": "code",
   "execution_count": 548,
   "id": "1986cf35",
   "metadata": {},
   "outputs": [
    {
     "data": {
      "text/plain": [
       "str"
      ]
     },
     "execution_count": 548,
     "metadata": {},
     "output_type": "execute_result"
    }
   ],
   "source": [
    "type(df.balance[0])"
   ]
  },
  {
   "cell_type": "code",
   "execution_count": 549,
   "id": "8d17e085",
   "metadata": {},
   "outputs": [],
   "source": [
    "for i in range(0,len(df['balance'])):\n",
    "    if type(df.balance[i]) is str:\n",
    "        df.balance[i] = float(df.balance[i].replace(' ', '').strip('$').replace(\",\", \".\"))"
   ]
  },
  {
   "cell_type": "code",
   "execution_count": 550,
   "id": "cbfbb640",
   "metadata": {},
   "outputs": [
    {
     "data": {
      "text/plain": [
       "1529.1290293615875"
      ]
     },
     "execution_count": 550,
     "metadata": {},
     "output_type": "execute_result"
    }
   ],
   "source": [
    "df.balance.mean()"
   ]
  },
  {
   "cell_type": "markdown",
   "id": "6de63fd7",
   "metadata": {},
   "source": [
    "### Задание 4"
   ]
  },
  {
   "cell_type": "code",
   "execution_count": 551,
   "id": "6a684a63",
   "metadata": {},
   "outputs": [],
   "source": [
    "# обработайте пропуски в признаки balance , заменив их на медианные значения по данному признаку\n",
    "med = df.balance.median()\n",
    "df.balance = df.balance.fillna(med)"
   ]
  },
  {
   "cell_type": "code",
   "execution_count": 552,
   "id": "5e829317",
   "metadata": {},
   "outputs": [
    {
     "name": "stdout",
     "output_type": "stream",
     "text": [
      "<class 'pandas.core.series.Series'>\n",
      "RangeIndex: 11162 entries, 0 to 11161\n",
      "Series name: balance\n",
      "Non-Null Count  Dtype  \n",
      "--------------  -----  \n",
      "11162 non-null  float64\n",
      "dtypes: float64(1)\n",
      "memory usage: 87.3 KB\n"
     ]
    }
   ],
   "source": [
    "df.balance.info()"
   ]
  },
  {
   "cell_type": "code",
   "execution_count": 553,
   "id": "90cac8db",
   "metadata": {},
   "outputs": [
    {
     "data": {
      "text/plain": [
       "count    11162.000000\n",
       "mean      1526.936033\n",
       "std       3224.829691\n",
       "min      -6847.000000\n",
       "25%        123.000000\n",
       "50%        550.000000\n",
       "75%       1699.000000\n",
       "max      81204.000000\n",
       "Name: balance, dtype: float64"
      ]
     },
     "execution_count": 553,
     "metadata": {},
     "output_type": "execute_result"
    }
   ],
   "source": [
    "df.balance.describe()"
   ]
  },
  {
   "cell_type": "markdown",
   "id": "1097ec42",
   "metadata": {},
   "source": [
    "### Задание 5"
   ]
  },
  {
   "cell_type": "code",
   "execution_count": 554,
   "id": "0fa070a6",
   "metadata": {},
   "outputs": [],
   "source": [
    "# обработайте пропуски в категориальных признаках: job и education, заменив их на модальные значения\n",
    "job_mode = df.job.mode()\n",
    "df.job[df.job=='unknown'] = 'management'\n",
    "\n",
    "edu_mode = df.education.mode()\n",
    "df.education[df.education=='unknown'] = 'secondary'"
   ]
  },
  {
   "cell_type": "code",
   "execution_count": 555,
   "id": "e8254101",
   "metadata": {},
   "outputs": [],
   "source": [
    "# df.education.mode()"
   ]
  },
  {
   "cell_type": "code",
   "execution_count": 556,
   "id": "d6abf68d",
   "metadata": {},
   "outputs": [],
   "source": [
    "# df.job.mode()"
   ]
  },
  {
   "cell_type": "code",
   "execution_count": 557,
   "id": "41837ceb",
   "metadata": {},
   "outputs": [
    {
     "data": {
      "text/plain": [
       "1598.883"
      ]
     },
     "execution_count": 557,
     "metadata": {},
     "output_type": "execute_result"
    }
   ],
   "source": [
    "round(df[(df['job']=='management') & (df['education']=='secondary')]['balance'].mean(),3)"
   ]
  },
  {
   "cell_type": "markdown",
   "id": "02af77c6",
   "metadata": {},
   "source": [
    "### Задание 6"
   ]
  },
  {
   "cell_type": "code",
   "execution_count": 558,
   "id": "3802cdd9",
   "metadata": {},
   "outputs": [
    {
     "data": {
      "image/png": "[encoded data removed]",
      "text/plain": [
       "<Figure size 1500x400 with 2 Axes>"
      ]
     },
     "metadata": {},
     "output_type": "display_data"
    }
   ],
   "source": [
    "# удалите все выбросы для признака balance\n",
    "fig, axes = plt.subplots(nrows=1, ncols=2, figsize=(15, 4))\n",
    "histplot = sns.histplot(data=df, x='balance', ax=axes[0]);\n",
    "histplot.set_title('Full Square Distribution');\n",
    "boxplot = sns.boxplot(data=df, x='balance', ax=axes[1]);\n",
    "boxplot.set_title('Full Square Boxplot');"
   ]
  },
  {
   "cell_type": "code",
   "execution_count": 559,
   "id": "2a7f91d6",
   "metadata": {},
   "outputs": [],
   "source": [
    "def outliers_iqr(data, feature):\n",
    "    x = data[feature]\n",
    "    quartile_1, quartile_3 = x.quantile(0.25), x.quantile(0.75),\n",
    "    iqr = quartile_3 - quartile_1\n",
    "    lower_bound = quartile_1 - (iqr * 1.5)\n",
    "    upper_bound = quartile_3 + (iqr * 1.5)\n",
    "    outliers = data[(x < lower_bound) | (x > upper_bound)]\n",
    "    cleaned = data[(x >= lower_bound) & (x <= upper_bound)]\n",
    "    print(lower_bound,upper_bound)\n",
    "    return outliers, cleaned"
   ]
  },
  {
   "cell_type": "code",
   "execution_count": 560,
   "id": "ef4aa7be",
   "metadata": {},
   "outputs": [
    {
     "name": "stdout",
     "output_type": "stream",
     "text": [
      "-2241.0 4063.0\n",
      "Число выбросов по методу Тьюки: 1057\n",
      "Результирующее число записей: 10105\n"
     ]
    }
   ],
   "source": [
    "outliers, cleaned = outliers_iqr(df, 'balance')\n",
    "print(f'Число выбросов по методу Тьюки: {outliers.shape[0]}')\n",
    "print(f'Результирующее число записей: {cleaned.shape[0]}')"
   ]
  },
  {
   "cell_type": "code",
   "execution_count": 561,
   "id": "3fdf9977",
   "metadata": {},
   "outputs": [],
   "source": [
    "df = cleaned"
   ]
  },
  {
   "cell_type": "markdown",
   "id": "5d22b8cd",
   "metadata": {},
   "source": [
    "## Часть 2:  Разведывательный анализ"
   ]
  },
  {
   "cell_type": "code",
   "execution_count": 562,
   "metadata": {},
   "outputs": [
    {
     "name": "stdout",
     "output_type": "stream",
     "text": [
      "<class 'pandas.core.frame.DataFrame'>\n",
      "Int64Index: 10105 entries, 0 to 11161\n",
      "Data columns (total 17 columns):\n",
      " #   Column     Non-Null Count  Dtype  \n",
      "---  ------     --------------  -----  \n",
      " 0   age        10105 non-null  int64  \n",
      " 1   job        10105 non-null  object \n",
      " 2   marital    10105 non-null  object \n",
      " 3   education  10105 non-null  object \n",
      " 4   default    10105 non-null  object \n",
      " 5   balance    10105 non-null  float64\n",
      " 6   housing    10105 non-null  object \n",
      " 7   loan       10105 non-null  object \n",
      " 8   contact    10105 non-null  object \n",
      " 9   day        10105 non-null  int64  \n",
      " 10  month      10105 non-null  object \n",
      " 11  duration   10105 non-null  int64  \n",
      " 12  campaign   10105 non-null  int64  \n",
      " 13  pdays      10105 non-null  int64  \n",
      " 14  previous   10105 non-null  int64  \n",
      " 15  poutcome   10105 non-null  object \n",
      " 16  deposit    10105 non-null  object \n",
      "dtypes: float64(1), int64(6), object(10)\n",
      "memory usage: 1.4+ MB\n"
     ]
    }
   ],
   "source": [
    "df.info()"
   ]
  },
  {
   "cell_type": "markdown",
   "id": "21e1f083",
   "metadata": {},
   "source": [
    "### Задание 1"
   ]
  },
  {
   "cell_type": "code",
   "execution_count": 563,
   "id": "1bf1c81f",
   "metadata": {},
   "outputs": [
    {
     "data": {
      "text/plain": [
       "4681"
      ]
     },
     "execution_count": 563,
     "metadata": {},
     "output_type": "execute_result"
    }
   ],
   "source": [
    "df[df.deposit=='yes'].count()[0]"
   ]
  },
  {
   "cell_type": "code",
   "execution_count": 564,
   "id": "6d0cd3a8",
   "metadata": {},
   "outputs": [
    {
     "data": {
      "image/png": "[encoded data removed]",
      "text/plain": [
       "<Figure size 1500x1000 with 1 Axes>"
      ]
     },
     "metadata": {},
     "output_type": "display_data"
    }
   ],
   "source": [
    "# изучите соотношение классов в ваших данных на предмет несбалансированности, проиллюстрируйте результат\n",
    "\n",
    "bpdf = pd.DataFrame(\n",
    "    ['yes','no'],\n",
    "    [df[df.deposit=='yes'].count()[0],df[df.deposit=='no'].count()[0]]\n",
    ")\n",
    "\n",
    "\n",
    "fig = plt.figure(figsize=(15, 10))\n",
    "barplot = sns.barplot(\n",
    "    data=df,\n",
    "    x=bpdf.index,\n",
    "    y=bpdf[0]\n",
    ")\n",
    "\n",
    "barplot.set_title('Количество людей взявших или не взявших депозит');"
   ]
  },
  {
   "cell_type": "code",
   "execution_count": 565,
   "id": "b611e3c7",
   "metadata": {},
   "outputs": [
    {
     "data": {
      "text/plain": [
       "4681"
      ]
     },
     "execution_count": 565,
     "metadata": {},
     "output_type": "execute_result"
    }
   ],
   "source": [
    "df[(df.deposit=='yes')].count()[0]"
   ]
  },
  {
   "cell_type": "markdown",
   "id": "426b1d40",
   "metadata": {},
   "source": [
    "### Задания 2 и 3"
   ]
  },
  {
   "cell_type": "code",
   "execution_count": 566,
   "id": "2883a8f9",
   "metadata": {},
   "outputs": [
    {
     "data": {
      "text/plain": [
       "<AxesSubplot:>"
      ]
     },
     "execution_count": 566,
     "metadata": {},
     "output_type": "execute_result"
    },
    {
     "data": {
      "image/png": "[encoded data removed]",
      "text/plain": [
       "<Figure size 1500x1500 with 2 Axes>"
      ]
     },
     "metadata": {},
     "output_type": "display_data"
    }
   ],
   "source": [
    "corr = df.select_dtypes('number').corr()\n",
    "\n",
    "# plot the heatmap\n",
    "\n",
    "sns.heatmap(corr)"
   ]
  },
  {
   "cell_type": "code",
   "execution_count": 567,
   "id": "df0b239f",
   "metadata": {},
   "outputs": [
    {
     "name": "stdout",
     "output_type": "stream",
     "text": [
      "<class 'pandas.core.frame.DataFrame'>\n",
      "Index: 0 entries\n",
      "Data columns (total 3 columns):\n",
      " #   Column  Non-Null Count  Dtype \n",
      "---  ------  --------------  ----- \n",
      " 0   name    0 non-null      object\n",
      " 1   min     0 non-null      object\n",
      " 2   max     0 non-null      object\n",
      "dtypes: object(3)\n",
      "memory usage: 0.0+ bytes\n"
     ]
    }
   ],
   "source": [
    "print_df.info()"
   ]
  },
  {
   "cell_type": "code",
   "execution_count": 568,
   "id": "2c5c409f",
   "metadata": {},
   "outputs": [
    {
     "data": {
      "text/html": [
       "<div>\n",
       "<style scoped>\n",
       "    .dataframe tbody tr th:only-of-type {\n",
       "        vertical-align: middle;\n",
       "    }\n",
       "\n",
       "    .dataframe tbody tr th {\n",
       "        vertical-align: top;\n",
       "    }\n",
       "\n",
       "    .dataframe thead th {\n",
       "        text-align: right;\n",
       "    }\n",
       "</style>\n",
       "<table border=\"1\" class=\"dataframe\">\n",
       "  <thead>\n",
       "    <tr style=\"text-align: right;\">\n",
       "      <th></th>\n",
       "      <th>age</th>\n",
       "      <th>job</th>\n",
       "      <th>marital</th>\n",
       "      <th>education</th>\n",
       "      <th>default</th>\n",
       "      <th>balance</th>\n",
       "      <th>housing</th>\n",
       "      <th>loan</th>\n",
       "      <th>contact</th>\n",
       "      <th>day</th>\n",
       "      <th>month</th>\n",
       "      <th>duration</th>\n",
       "      <th>campaign</th>\n",
       "      <th>pdays</th>\n",
       "      <th>previous</th>\n",
       "      <th>poutcome</th>\n",
       "      <th>deposit</th>\n",
       "    </tr>\n",
       "  </thead>\n",
       "  <tbody>\n",
       "    <tr>\n",
       "      <th>min</th>\n",
       "      <td>18</td>\n",
       "      <td>admin.</td>\n",
       "      <td>divorced</td>\n",
       "      <td>primary</td>\n",
       "      <td>no</td>\n",
       "      <td>-2049.0</td>\n",
       "      <td>no</td>\n",
       "      <td>no</td>\n",
       "      <td>cellular</td>\n",
       "      <td>1</td>\n",
       "      <td>apr</td>\n",
       "      <td>2</td>\n",
       "      <td>1</td>\n",
       "      <td>-1</td>\n",
       "      <td>0</td>\n",
       "      <td>failure</td>\n",
       "      <td>no</td>\n",
       "    </tr>\n",
       "    <tr>\n",
       "      <th>max</th>\n",
       "      <td>95</td>\n",
       "      <td>unemployed</td>\n",
       "      <td>single</td>\n",
       "      <td>tertiary</td>\n",
       "      <td>yes</td>\n",
       "      <td>4063.0</td>\n",
       "      <td>yes</td>\n",
       "      <td>yes</td>\n",
       "      <td>unknown</td>\n",
       "      <td>31</td>\n",
       "      <td>sep</td>\n",
       "      <td>3881</td>\n",
       "      <td>43</td>\n",
       "      <td>854</td>\n",
       "      <td>58</td>\n",
       "      <td>unknown</td>\n",
       "      <td>yes</td>\n",
       "    </tr>\n",
       "  </tbody>\n",
       "</table>\n",
       "</div>"
      ],
      "text/plain": [
       "     age         job   marital education default  balance housing loan  \\\n",
       "min   18      admin.  divorced   primary      no  -2049.0      no   no   \n",
       "max   95  unemployed    single  tertiary     yes   4063.0     yes  yes   \n",
       "\n",
       "      contact  day month  duration  campaign  pdays  previous poutcome deposit  \n",
       "min  cellular    1   apr         2         1     -1         0  failure      no  \n",
       "max   unknown   31   sep      3881        43    854        58  unknown     yes  "
      ]
     },
     "metadata": {},
     "output_type": "display_data"
    }
   ],
   "source": [
    "def minMax(x):\n",
    "    return pd.Series(index=['min','max'],data=[x.min(),x.max()])\n",
    "\n",
    "minmax = df.apply(minMax)\n",
    "display(minmax)"
   ]
  },
  {
   "cell_type": "code",
   "execution_count": 569,
   "id": "cdb33184",
   "metadata": {},
   "outputs": [
    {
     "data": {
      "text/html": [
       "<div>\n",
       "<style scoped>\n",
       "    .dataframe tbody tr th:only-of-type {\n",
       "        vertical-align: middle;\n",
       "    }\n",
       "\n",
       "    .dataframe tbody tr th {\n",
       "        vertical-align: top;\n",
       "    }\n",
       "\n",
       "    .dataframe thead th {\n",
       "        text-align: right;\n",
       "    }\n",
       "</style>\n",
       "<table border=\"1\" class=\"dataframe\">\n",
       "  <thead>\n",
       "    <tr style=\"text-align: right;\">\n",
       "      <th></th>\n",
       "      <th>age</th>\n",
       "      <th>job</th>\n",
       "      <th>marital</th>\n",
       "      <th>education</th>\n",
       "      <th>default</th>\n",
       "      <th>balance</th>\n",
       "      <th>housing</th>\n",
       "      <th>loan</th>\n",
       "      <th>contact</th>\n",
       "      <th>day</th>\n",
       "      <th>month</th>\n",
       "      <th>duration</th>\n",
       "      <th>campaign</th>\n",
       "      <th>pdays</th>\n",
       "      <th>previous</th>\n",
       "      <th>poutcome</th>\n",
       "      <th>deposit</th>\n",
       "    </tr>\n",
       "  </thead>\n",
       "  <tbody>\n",
       "    <tr>\n",
       "      <th>min</th>\n",
       "      <td>18</td>\n",
       "      <td>admin.</td>\n",
       "      <td>divorced</td>\n",
       "      <td>primary</td>\n",
       "      <td>no</td>\n",
       "      <td>-2049.0</td>\n",
       "      <td>no</td>\n",
       "      <td>no</td>\n",
       "      <td>cellular</td>\n",
       "      <td>1</td>\n",
       "      <td>apr</td>\n",
       "      <td>2</td>\n",
       "      <td>1</td>\n",
       "      <td>-1</td>\n",
       "      <td>0</td>\n",
       "      <td>failure</td>\n",
       "      <td>no</td>\n",
       "    </tr>\n",
       "    <tr>\n",
       "      <th>max</th>\n",
       "      <td>95</td>\n",
       "      <td>unemployed</td>\n",
       "      <td>single</td>\n",
       "      <td>tertiary</td>\n",
       "      <td>yes</td>\n",
       "      <td>4063.0</td>\n",
       "      <td>yes</td>\n",
       "      <td>yes</td>\n",
       "      <td>unknown</td>\n",
       "      <td>31</td>\n",
       "      <td>sep</td>\n",
       "      <td>3881</td>\n",
       "      <td>43</td>\n",
       "      <td>854</td>\n",
       "      <td>58</td>\n",
       "      <td>unknown</td>\n",
       "      <td>yes</td>\n",
       "    </tr>\n",
       "  </tbody>\n",
       "</table>\n",
       "</div>"
      ],
      "text/plain": [
       "     age         job   marital education default  balance housing loan  \\\n",
       "min   18      admin.  divorced   primary      no  -2049.0      no   no   \n",
       "max   95  unemployed    single  tertiary     yes   4063.0     yes  yes   \n",
       "\n",
       "      contact  day month  duration  campaign  pdays  previous poutcome deposit  \n",
       "min  cellular    1   apr         2         1     -1         0  failure      no  \n",
       "max   unknown   31   sep      3881        43    854        58  unknown     yes  "
      ]
     },
     "metadata": {},
     "output_type": "display_data"
    }
   ],
   "source": [
    "minmax = pd.DataFrame(minmax)\n",
    "display(minmax)"
   ]
  },
  {
   "cell_type": "code",
   "execution_count": 570,
   "id": "603cdb3c",
   "metadata": {},
   "outputs": [],
   "source": [
    "#рассчитайте описательные статистики для количественных переменных, проинтерпретируйте результат\n",
    "#ваш код"
   ]
  },
  {
   "cell_type": "markdown",
   "id": "821dc39e",
   "metadata": {},
   "source": [
    "### Задания 4 и 5"
   ]
  },
  {
   "cell_type": "code",
   "execution_count": 571,
   "id": "bf45afc9",
   "metadata": {},
   "outputs": [],
   "source": [
    "#рассчитайте описательные статистики для категориальных переменных, проинтерпретируйте результат\n",
    "#ваш код\n",
    "#постройте визуализации, иллюстрирующие результаты"
   ]
  },
  {
   "cell_type": "code",
   "execution_count": 572,
   "id": "e27ef86d",
   "metadata": {},
   "outputs": [
    {
     "data": {
      "text/plain": [
       "12"
      ]
     },
     "execution_count": 572,
     "metadata": {},
     "output_type": "execute_result"
    }
   ],
   "source": [
    "df.month.value_counts().count()"
   ]
  },
  {
   "cell_type": "code",
   "execution_count": 573,
   "id": "22ffc761",
   "metadata": {},
   "outputs": [
    {
     "data": {
      "text/plain": [
       "11"
      ]
     },
     "execution_count": 573,
     "metadata": {},
     "output_type": "execute_result"
    }
   ],
   "source": [
    "df.job.value_counts().count()"
   ]
  },
  {
   "cell_type": "markdown",
   "id": "472cff5b",
   "metadata": {},
   "source": [
    "### Задание 6"
   ]
  },
  {
   "cell_type": "code",
   "execution_count": 574,
   "id": "2d640ce1",
   "metadata": {},
   "outputs": [],
   "source": [
    "# Узнайте, для какого статуса предыдущей маркетинговой кампании успех в текущей превалирует над количеством неудач.\n",
    "# ваш код"
   ]
  },
  {
   "cell_type": "code",
   "execution_count": 575,
   "id": "bb6b778e",
   "metadata": {},
   "outputs": [
    {
     "data": {
      "image/png": "[encoded data removed]",
      "text/plain": [
       "<Figure size 1500x1000 with 1 Axes>"
      ]
     },
     "metadata": {},
     "output_type": "display_data"
    }
   ],
   "source": [
    "bpdf = pd.DataFrame(\n",
    "    ['yes','no'],\n",
    "    [df[df.deposit=='yes'].count()[0],df[df.deposit=='no'].count()[0]]\n",
    ")\n",
    "\n",
    "\n",
    "fig = plt.figure(figsize=(15, 10))\n",
    "barplot = sns.barplot(\n",
    "    data=df,\n",
    "    x='poutcome',\n",
    "    y='campaign'\n",
    ")\n",
    "\n",
    "barplot.set_title('Количество людей взявших или не взявших депозит');"
   ]
  },
  {
   "cell_type": "markdown",
   "id": "9c32e3aa",
   "metadata": {},
   "source": [
    "### Задание 7"
   ]
  },
  {
   "cell_type": "code",
   "execution_count": 576,
   "id": "df437ec3",
   "metadata": {},
   "outputs": [],
   "source": [
    "# узнайте, в каком месяце чаще всего отказывались от предложения открыть депозит\n",
    "# ваш код"
   ]
  },
  {
   "cell_type": "code",
   "execution_count": 577,
   "id": "46f68c8d",
   "metadata": {},
   "outputs": [
    {
     "data": {
      "text/plain": [
       "month\n",
       "apr    0.618072\n",
       "aug    0.440433\n",
       "dec    0.903226\n",
       "feb    0.544429\n",
       "jan    0.391850\n",
       "jul    0.410437\n",
       "jun    0.451087\n",
       "mar    0.898734\n",
       "may    0.321360\n",
       "nov    0.415385\n",
       "oct    0.814925\n",
       "sep    0.834532\n",
       "Name: deposit, dtype: float64"
      ]
     },
     "metadata": {},
     "output_type": "display_data"
    }
   ],
   "source": [
    "bpdf = df[['month', 'deposit']]\n",
    "bpdf['deposit'] = bpdf['deposit'].apply(lambda x: 0 if x == 'no' else 1)\n",
    "display(bpdf.groupby([\"month\"])[\"deposit\"].sum()/bpdf.groupby([\"month\"])[\"deposit\"].count())"
   ]
  },
  {
   "cell_type": "code",
   "execution_count": 578,
   "id": "5de61f3a",
   "metadata": {},
   "outputs": [],
   "source": [
    "# for month in bpdf['month']:\n",
    "#     print(month)\n",
    "#     print(bpdf[bpdf['month'==month]].len())\n",
    "#     print(bpdf[bpdf['month'==month]['poutcome']].sum())"
   ]
  },
  {
   "cell_type": "code",
   "execution_count": 579,
   "id": "895aff2b",
   "metadata": {},
   "outputs": [
    {
     "data": {
      "text/html": [
       "<div>\n",
       "<style scoped>\n",
       "    .dataframe tbody tr th:only-of-type {\n",
       "        vertical-align: middle;\n",
       "    }\n",
       "\n",
       "    .dataframe tbody tr th {\n",
       "        vertical-align: top;\n",
       "    }\n",
       "\n",
       "    .dataframe thead th {\n",
       "        text-align: right;\n",
       "    }\n",
       "</style>\n",
       "<table border=\"1\" class=\"dataframe\">\n",
       "  <thead>\n",
       "    <tr style=\"text-align: right;\">\n",
       "      <th></th>\n",
       "      <th>month</th>\n",
       "      <th>deposit</th>\n",
       "    </tr>\n",
       "  </thead>\n",
       "  <tbody>\n",
       "    <tr>\n",
       "      <th>0</th>\n",
       "      <td>may</td>\n",
       "      <td>1</td>\n",
       "    </tr>\n",
       "    <tr>\n",
       "      <th>1</th>\n",
       "      <td>may</td>\n",
       "      <td>1</td>\n",
       "    </tr>\n",
       "    <tr>\n",
       "      <th>2</th>\n",
       "      <td>may</td>\n",
       "      <td>1</td>\n",
       "    </tr>\n",
       "    <tr>\n",
       "      <th>3</th>\n",
       "      <td>may</td>\n",
       "      <td>1</td>\n",
       "    </tr>\n",
       "    <tr>\n",
       "      <th>4</th>\n",
       "      <td>may</td>\n",
       "      <td>1</td>\n",
       "    </tr>\n",
       "    <tr>\n",
       "      <th>...</th>\n",
       "      <td>...</td>\n",
       "      <td>...</td>\n",
       "    </tr>\n",
       "    <tr>\n",
       "      <th>11157</th>\n",
       "      <td>apr</td>\n",
       "      <td>0</td>\n",
       "    </tr>\n",
       "    <tr>\n",
       "      <th>11158</th>\n",
       "      <td>jun</td>\n",
       "      <td>0</td>\n",
       "    </tr>\n",
       "    <tr>\n",
       "      <th>11159</th>\n",
       "      <td>aug</td>\n",
       "      <td>0</td>\n",
       "    </tr>\n",
       "    <tr>\n",
       "      <th>11160</th>\n",
       "      <td>may</td>\n",
       "      <td>0</td>\n",
       "    </tr>\n",
       "    <tr>\n",
       "      <th>11161</th>\n",
       "      <td>jul</td>\n",
       "      <td>0</td>\n",
       "    </tr>\n",
       "  </tbody>\n",
       "</table>\n",
       "<p>10105 rows × 2 columns</p>\n",
       "</div>"
      ],
      "text/plain": [
       "      month  deposit\n",
       "0       may        1\n",
       "1       may        1\n",
       "2       may        1\n",
       "3       may        1\n",
       "4       may        1\n",
       "...     ...      ...\n",
       "11157   apr        0\n",
       "11158   jun        0\n",
       "11159   aug        0\n",
       "11160   may        0\n",
       "11161   jul        0\n",
       "\n",
       "[10105 rows x 2 columns]"
      ]
     },
     "metadata": {},
     "output_type": "display_data"
    },
    {
     "data": {
      "image/png": "[encoded data removed]",
      "text/plain": [
       "<Figure size 1500x1000 with 1 Axes>"
      ]
     },
     "metadata": {},
     "output_type": "display_data"
    }
   ],
   "source": [
    "bpdf = df[['month', 'deposit']]\n",
    "bpdf['deposit'] = bpdf['deposit'].apply(lambda x: 1 if x == 'yes' else 0)\n",
    "display(bpdf)\n",
    "\n",
    "# for i in bpdf(month):\n",
    "#     print(month, (bpdf[bpdf['month'==month]['poutcome']]/bpdf[month].len()))\n",
    "\n",
    "fig = plt.figure(figsize=(15, 10))\n",
    "barplot = sns.barplot(\n",
    "    data=bpdf,\n",
    "    x='deposit',\n",
    "    y='month'\n",
    ")\n",
    "\n",
    "barplot.set_title('Количество людей взявших или не взявших депозит');\n",
    "\n"
   ]
  },
  {
   "cell_type": "markdown",
   "id": "5f20762f",
   "metadata": {},
   "source": [
    "### Задание 8"
   ]
  },
  {
   "cell_type": "code",
   "execution_count": 580,
   "id": "95d56f1b",
   "metadata": {},
   "outputs": [
    {
     "data": {
      "text/html": [
       "<div>\n",
       "<style scoped>\n",
       "    .dataframe tbody tr th:only-of-type {\n",
       "        vertical-align: middle;\n",
       "    }\n",
       "\n",
       "    .dataframe tbody tr th {\n",
       "        vertical-align: top;\n",
       "    }\n",
       "\n",
       "    .dataframe thead th {\n",
       "        text-align: right;\n",
       "    }\n",
       "</style>\n",
       "<table border=\"1\" class=\"dataframe\">\n",
       "  <thead>\n",
       "    <tr style=\"text-align: right;\">\n",
       "      <th></th>\n",
       "      <th>age</th>\n",
       "      <th>job</th>\n",
       "      <th>marital</th>\n",
       "      <th>education</th>\n",
       "      <th>default</th>\n",
       "      <th>balance</th>\n",
       "      <th>housing</th>\n",
       "      <th>loan</th>\n",
       "      <th>contact</th>\n",
       "      <th>day</th>\n",
       "      <th>month</th>\n",
       "      <th>duration</th>\n",
       "      <th>campaign</th>\n",
       "      <th>pdays</th>\n",
       "      <th>previous</th>\n",
       "      <th>poutcome</th>\n",
       "      <th>deposit</th>\n",
       "      <th>age_group</th>\n",
       "    </tr>\n",
       "  </thead>\n",
       "  <tbody>\n",
       "    <tr>\n",
       "      <th>0</th>\n",
       "      <td>59</td>\n",
       "      <td>admin.</td>\n",
       "      <td>married</td>\n",
       "      <td>secondary</td>\n",
       "      <td>no</td>\n",
       "      <td>2343.0</td>\n",
       "      <td>yes</td>\n",
       "      <td>no</td>\n",
       "      <td>unknown</td>\n",
       "      <td>5</td>\n",
       "      <td>may</td>\n",
       "      <td>1042</td>\n",
       "      <td>1</td>\n",
       "      <td>-1</td>\n",
       "      <td>0</td>\n",
       "      <td>unknown</td>\n",
       "      <td>yes</td>\n",
       "      <td>3</td>\n",
       "    </tr>\n",
       "    <tr>\n",
       "      <th>1</th>\n",
       "      <td>56</td>\n",
       "      <td>admin.</td>\n",
       "      <td>married</td>\n",
       "      <td>secondary</td>\n",
       "      <td>no</td>\n",
       "      <td>45.0</td>\n",
       "      <td>no</td>\n",
       "      <td>no</td>\n",
       "      <td>unknown</td>\n",
       "      <td>5</td>\n",
       "      <td>may</td>\n",
       "      <td>1467</td>\n",
       "      <td>1</td>\n",
       "      <td>-1</td>\n",
       "      <td>0</td>\n",
       "      <td>unknown</td>\n",
       "      <td>yes</td>\n",
       "      <td>3</td>\n",
       "    </tr>\n",
       "    <tr>\n",
       "      <th>2</th>\n",
       "      <td>41</td>\n",
       "      <td>technician</td>\n",
       "      <td>married</td>\n",
       "      <td>secondary</td>\n",
       "      <td>no</td>\n",
       "      <td>1270.0</td>\n",
       "      <td>yes</td>\n",
       "      <td>no</td>\n",
       "      <td>unknown</td>\n",
       "      <td>5</td>\n",
       "      <td>may</td>\n",
       "      <td>1389</td>\n",
       "      <td>1</td>\n",
       "      <td>-1</td>\n",
       "      <td>0</td>\n",
       "      <td>unknown</td>\n",
       "      <td>yes</td>\n",
       "      <td>2</td>\n",
       "    </tr>\n",
       "    <tr>\n",
       "      <th>3</th>\n",
       "      <td>55</td>\n",
       "      <td>services</td>\n",
       "      <td>married</td>\n",
       "      <td>secondary</td>\n",
       "      <td>no</td>\n",
       "      <td>2476.0</td>\n",
       "      <td>yes</td>\n",
       "      <td>no</td>\n",
       "      <td>unknown</td>\n",
       "      <td>5</td>\n",
       "      <td>may</td>\n",
       "      <td>579</td>\n",
       "      <td>1</td>\n",
       "      <td>-1</td>\n",
       "      <td>0</td>\n",
       "      <td>unknown</td>\n",
       "      <td>yes</td>\n",
       "      <td>3</td>\n",
       "    </tr>\n",
       "    <tr>\n",
       "      <th>4</th>\n",
       "      <td>54</td>\n",
       "      <td>admin.</td>\n",
       "      <td>married</td>\n",
       "      <td>tertiary</td>\n",
       "      <td>no</td>\n",
       "      <td>184.0</td>\n",
       "      <td>no</td>\n",
       "      <td>no</td>\n",
       "      <td>unknown</td>\n",
       "      <td>5</td>\n",
       "      <td>may</td>\n",
       "      <td>673</td>\n",
       "      <td>2</td>\n",
       "      <td>-1</td>\n",
       "      <td>0</td>\n",
       "      <td>unknown</td>\n",
       "      <td>yes</td>\n",
       "      <td>3</td>\n",
       "    </tr>\n",
       "    <tr>\n",
       "      <th>...</th>\n",
       "      <td>...</td>\n",
       "      <td>...</td>\n",
       "      <td>...</td>\n",
       "      <td>...</td>\n",
       "      <td>...</td>\n",
       "      <td>...</td>\n",
       "      <td>...</td>\n",
       "      <td>...</td>\n",
       "      <td>...</td>\n",
       "      <td>...</td>\n",
       "      <td>...</td>\n",
       "      <td>...</td>\n",
       "      <td>...</td>\n",
       "      <td>...</td>\n",
       "      <td>...</td>\n",
       "      <td>...</td>\n",
       "      <td>...</td>\n",
       "      <td>...</td>\n",
       "    </tr>\n",
       "    <tr>\n",
       "      <th>11157</th>\n",
       "      <td>33</td>\n",
       "      <td>blue-collar</td>\n",
       "      <td>single</td>\n",
       "      <td>primary</td>\n",
       "      <td>no</td>\n",
       "      <td>1.0</td>\n",
       "      <td>yes</td>\n",
       "      <td>no</td>\n",
       "      <td>cellular</td>\n",
       "      <td>20</td>\n",
       "      <td>apr</td>\n",
       "      <td>257</td>\n",
       "      <td>1</td>\n",
       "      <td>-1</td>\n",
       "      <td>0</td>\n",
       "      <td>unknown</td>\n",
       "      <td>no</td>\n",
       "      <td>1</td>\n",
       "    </tr>\n",
       "    <tr>\n",
       "      <th>11158</th>\n",
       "      <td>39</td>\n",
       "      <td>services</td>\n",
       "      <td>married</td>\n",
       "      <td>secondary</td>\n",
       "      <td>no</td>\n",
       "      <td>733.0</td>\n",
       "      <td>no</td>\n",
       "      <td>no</td>\n",
       "      <td>unknown</td>\n",
       "      <td>16</td>\n",
       "      <td>jun</td>\n",
       "      <td>83</td>\n",
       "      <td>4</td>\n",
       "      <td>-1</td>\n",
       "      <td>0</td>\n",
       "      <td>unknown</td>\n",
       "      <td>no</td>\n",
       "      <td>1</td>\n",
       "    </tr>\n",
       "    <tr>\n",
       "      <th>11159</th>\n",
       "      <td>32</td>\n",
       "      <td>technician</td>\n",
       "      <td>single</td>\n",
       "      <td>secondary</td>\n",
       "      <td>no</td>\n",
       "      <td>29.0</td>\n",
       "      <td>no</td>\n",
       "      <td>no</td>\n",
       "      <td>cellular</td>\n",
       "      <td>19</td>\n",
       "      <td>aug</td>\n",
       "      <td>156</td>\n",
       "      <td>2</td>\n",
       "      <td>-1</td>\n",
       "      <td>0</td>\n",
       "      <td>unknown</td>\n",
       "      <td>no</td>\n",
       "      <td>1</td>\n",
       "    </tr>\n",
       "    <tr>\n",
       "      <th>11160</th>\n",
       "      <td>43</td>\n",
       "      <td>technician</td>\n",
       "      <td>married</td>\n",
       "      <td>secondary</td>\n",
       "      <td>no</td>\n",
       "      <td>0.0</td>\n",
       "      <td>no</td>\n",
       "      <td>yes</td>\n",
       "      <td>cellular</td>\n",
       "      <td>8</td>\n",
       "      <td>may</td>\n",
       "      <td>9</td>\n",
       "      <td>2</td>\n",
       "      <td>172</td>\n",
       "      <td>5</td>\n",
       "      <td>failure</td>\n",
       "      <td>no</td>\n",
       "      <td>2</td>\n",
       "    </tr>\n",
       "    <tr>\n",
       "      <th>11161</th>\n",
       "      <td>34</td>\n",
       "      <td>technician</td>\n",
       "      <td>married</td>\n",
       "      <td>secondary</td>\n",
       "      <td>no</td>\n",
       "      <td>0.0</td>\n",
       "      <td>no</td>\n",
       "      <td>no</td>\n",
       "      <td>cellular</td>\n",
       "      <td>9</td>\n",
       "      <td>jul</td>\n",
       "      <td>628</td>\n",
       "      <td>1</td>\n",
       "      <td>-1</td>\n",
       "      <td>0</td>\n",
       "      <td>unknown</td>\n",
       "      <td>no</td>\n",
       "      <td>1</td>\n",
       "    </tr>\n",
       "  </tbody>\n",
       "</table>\n",
       "<p>10105 rows × 18 columns</p>\n",
       "</div>"
      ],
      "text/plain": [
       "       age          job  marital  education default  balance housing loan  \\\n",
       "0       59       admin.  married  secondary      no   2343.0     yes   no   \n",
       "1       56       admin.  married  secondary      no     45.0      no   no   \n",
       "2       41   technician  married  secondary      no   1270.0     yes   no   \n",
       "3       55     services  married  secondary      no   2476.0     yes   no   \n",
       "4       54       admin.  married   tertiary      no    184.0      no   no   \n",
       "...    ...          ...      ...        ...     ...      ...     ...  ...   \n",
       "11157   33  blue-collar   single    primary      no      1.0     yes   no   \n",
       "11158   39     services  married  secondary      no    733.0      no   no   \n",
       "11159   32   technician   single  secondary      no     29.0      no   no   \n",
       "11160   43   technician  married  secondary      no      0.0      no  yes   \n",
       "11161   34   technician  married  secondary      no      0.0      no   no   \n",
       "\n",
       "        contact  day month  duration  campaign  pdays  previous poutcome  \\\n",
       "0       unknown    5   may      1042         1     -1         0  unknown   \n",
       "1       unknown    5   may      1467         1     -1         0  unknown   \n",
       "2       unknown    5   may      1389         1     -1         0  unknown   \n",
       "3       unknown    5   may       579         1     -1         0  unknown   \n",
       "4       unknown    5   may       673         2     -1         0  unknown   \n",
       "...         ...  ...   ...       ...       ...    ...       ...      ...   \n",
       "11157  cellular   20   apr       257         1     -1         0  unknown   \n",
       "11158   unknown   16   jun        83         4     -1         0  unknown   \n",
       "11159  cellular   19   aug       156         2     -1         0  unknown   \n",
       "11160  cellular    8   may         9         2    172         5  failure   \n",
       "11161  cellular    9   jul       628         1     -1         0  unknown   \n",
       "\n",
       "      deposit  age_group  \n",
       "0         yes          3  \n",
       "1         yes          3  \n",
       "2         yes          2  \n",
       "3         yes          3  \n",
       "4         yes          3  \n",
       "...       ...        ...  \n",
       "11157      no          1  \n",
       "11158      no          1  \n",
       "11159      no          1  \n",
       "11160      no          2  \n",
       "11161      no          1  \n",
       "\n",
       "[10105 rows x 18 columns]"
      ]
     },
     "metadata": {},
     "output_type": "display_data"
    }
   ],
   "source": [
    "# создайте возрастные группы и определите, в каких группах более склонны открывать депозит, чем отказываться от предложения\n",
    "def age_grouper(age):\n",
    "    if age < 30:\n",
    "        return 0\n",
    "    if 30 <= age < 40:\n",
    "        return 1\n",
    "    if 40 <= age < 50:\n",
    "        return 2\n",
    "    if 50 <= age < 60:\n",
    "        return 3\n",
    "    else:\n",
    "        return 4\n",
    "\n",
    "df['age_group'] = df['age'].apply(age_grouper)\n",
    "display(df)"
   ]
  },
  {
   "cell_type": "code",
   "execution_count": 581,
   "id": "be09541d",
   "metadata": {},
   "outputs": [
    {
     "data": {
      "image/png": "[encoded data removed]",
      "text/plain": [
       "<Figure size 1500x1000 with 1 Axes>"
      ]
     },
     "metadata": {},
     "output_type": "display_data"
    }
   ],
   "source": [
    "dfp = df[['age_group', 'deposit']]\n",
    "\n",
    "dfp['deposit'] = df['deposit'].apply(lambda x: 1 if x == 'yes' else 0)\n",
    "\n",
    "fig = plt.figure(figsize=(15, 10))\n",
    "barplot = sns.barplot(\n",
    "    data=dfp,\n",
    "    x='age_group',\n",
    "    y='deposit'\n",
    ")\n",
    "\n",
    "barplot.set_title('Количество людей взявших или не взявших депозит по возрастным группам');"
   ]
  },
  {
   "cell_type": "markdown",
   "id": "0841c685",
   "metadata": {},
   "source": [
    "### Задания 9 и 10"
   ]
  },
  {
   "cell_type": "code",
   "execution_count": 582,
   "id": "0d84a9e1",
   "metadata": {},
   "outputs": [],
   "source": [
    "# постройте визуализации для открывших и неоткрывших депозит в зависимости от семейного статуса\n"
   ]
  },
  {
   "cell_type": "code",
   "execution_count": 583,
   "id": "44bdfef9",
   "metadata": {},
   "outputs": [
    {
     "data": {
      "image/png": "[encoded data removed]",
      "text/plain": [
       "<Figure size 1500x1000 with 1 Axes>"
      ]
     },
     "metadata": {},
     "output_type": "display_data"
    }
   ],
   "source": [
    "dfp['marital'] = df['marital']\n",
    "fig = plt.figure(figsize=(15, 10))\n",
    "barplot = sns.barplot(\n",
    "    data=dfp,\n",
    "    x='marital',\n",
    "    y='deposit'\n",
    ")\n",
    "\n",
    "barplot.set_title('Количество людей взявших или не взявших депозит по возрастным группам');"
   ]
  },
  {
   "cell_type": "code",
   "execution_count": 584,
   "id": "3a8a33d9",
   "metadata": {},
   "outputs": [
    {
     "data": {
      "text/plain": [
       "0    management\n",
       "Name: job, dtype: object"
      ]
     },
     "metadata": {},
     "output_type": "display_data"
    },
    {
     "data": {
      "image/png": "[encoded data removed]",
      "text/plain": [
       "<Figure size 1500x1000 with 1 Axes>"
      ]
     },
     "metadata": {},
     "output_type": "display_data"
    }
   ],
   "source": [
    "dfp['job'] = df['job']\n",
    "fig = plt.figure(figsize=(15, 10))\n",
    "barplot = sns.barplot(\n",
    "    data=dfp,\n",
    "    x='job',\n",
    "    y='deposit'\n",
    ")\n",
    "\n",
    "barplot.set_title('Количество людей взявших или не взявших депозит по возрастным группам');\n",
    "display(dfp['job'].mode())"
   ]
  },
  {
   "cell_type": "code",
   "execution_count": 585,
   "id": "16333967",
   "metadata": {},
   "outputs": [],
   "source": [
    "# постройте визуализации для открывших и неоткрывших депозит в зависимости от образования"
   ]
  },
  {
   "cell_type": "code",
   "execution_count": 586,
   "id": "738224f8",
   "metadata": {},
   "outputs": [],
   "source": [
    "# постройте визуализации для открывших и неоткрывших депозит в зависимости от вида профессиональной занятости"
   ]
  },
  {
   "cell_type": "markdown",
   "id": "a521e204",
   "metadata": {},
   "source": [
    "### Задание 11"
   ]
  },
  {
   "cell_type": "code",
   "execution_count": 587,
   "id": "35ab0413",
   "metadata": {},
   "outputs": [],
   "source": [
    "# постройте сводную таблицу, чтобы определить люди с каким образованием и семейным статусом наиболее многочисленны\n",
    "#(если рассматривать тех, кто открыл депозит)"
   ]
  },
  {
   "cell_type": "code",
   "execution_count": 588,
   "id": "2555ddb2",
   "metadata": {},
   "outputs": [],
   "source": [
    "dfp['education'] = df['education']"
   ]
  },
  {
   "cell_type": "code",
   "execution_count": 589,
   "id": "75a18076",
   "metadata": {},
   "outputs": [],
   "source": [
    "dfp0 = dfp[dfp['deposit']==0]\n",
    "dfp1 = dfp[dfp['deposit']==1]"
   ]
  },
  {
   "cell_type": "code",
   "execution_count": 590,
   "id": "32e73dc9",
   "metadata": {},
   "outputs": [
    {
     "data": {
      "text/plain": [
       "Text(0, 0.5, 'Пол соискателя')"
      ]
     },
     "execution_count": 590,
     "metadata": {},
     "output_type": "execute_result"
    },
    {
     "data": {
      "image/png": "[encoded data removed]",
      "text/plain": [
       "<Figure size 4000x2000 with 2 Axes>"
      ]
     },
     "metadata": {},
     "output_type": "display_data"
    }
   ],
   "source": [
    "fig, axes = plt.subplots(nrows=1, ncols=2, figsize=(40, 20))\n",
    "plt.subplots_adjust(hspace=.0)\n",
    "\n",
    "histplot1 = sns.histplot(\n",
    "    data=dfp0, \n",
    "    x='education',\n",
    "    y='marital',\n",
    "    bins=200,\n",
    "    ax=axes[0],\n",
    ")\n",
    "histplot1.set_title('Распределение возраста среди соискателей',\\\n",
    "                    fontsize=16)\n",
    "histplot1.set_xlabel('Возраст соискателя)')\n",
    "histplot1.set_ylabel('Число соискателей')\n",
    "\n",
    "histplot2 = sns.histplot(\n",
    "    data=dfp1,\n",
    "    x='education',\n",
    "    y='marital',\n",
    "    bins=200,\n",
    "    ax=axes[1]\n",
    ")\n",
    "histplot2.set_xlabel('Зарплата')\n",
    "histplot2.set_ylabel('Пол соискателя')"
   ]
  },
  {
   "cell_type": "markdown",
   "id": "dfd805c0",
   "metadata": {},
   "source": [
    "## Часть 3: преобразование данных"
   ]
  },
  {
   "cell_type": "markdown",
   "id": "e44e715b",
   "metadata": {},
   "source": [
    "### Задание 1"
   ]
  },
  {
   "cell_type": "code",
   "execution_count": 591,
   "id": "1e815773",
   "metadata": {},
   "outputs": [],
   "source": [
    "# преобразуйте уровни образования\n",
    "le = preprocessing.LabelEncoder()\n",
    "\n",
    "le.fit(df['education'])\n",
    "\n",
    "df['education'] = le.transform(df['education'])\n"
   ]
  },
  {
   "cell_type": "code",
   "execution_count": 592,
   "id": "b404fd84",
   "metadata": {},
   "outputs": [],
   "source": [
    "df['age_group'] = le.fit_transform(df['age_group'])"
   ]
  },
  {
   "cell_type": "code",
   "execution_count": 593,
   "id": "a364393f",
   "metadata": {},
   "outputs": [],
   "source": [
    "df['deposit'] = dfp['deposit']"
   ]
  },
  {
   "cell_type": "code",
   "execution_count": 594,
   "id": "1b9dced4",
   "metadata": {},
   "outputs": [
    {
     "data": {
      "text/plain": [
       "0.499"
      ]
     },
     "execution_count": 594,
     "metadata": {},
     "output_type": "execute_result"
    }
   ],
   "source": [
    "round(np.std(df['deposit']),3)"
   ]
  },
  {
   "cell_type": "markdown",
   "id": "8c93e73d",
   "metadata": {},
   "source": [
    "### Задания 2 и 3"
   ]
  },
  {
   "cell_type": "code",
   "execution_count": 595,
   "id": "626a5762",
   "metadata": {},
   "outputs": [],
   "source": [
    "# преобразуйте бинарные переменные в представление из нулей и единиц"
   ]
  },
  {
   "cell_type": "code",
   "execution_count": 596,
   "id": "8aa23e94",
   "metadata": {},
   "outputs": [],
   "source": [
    "def binary(x):\n",
    "    if x == 'yes':\n",
    "        return 1\n",
    "    else: return 0"
   ]
  },
  {
   "cell_type": "code",
   "execution_count": 597,
   "id": "55e11bbe",
   "metadata": {},
   "outputs": [],
   "source": [
    "df['default'] = df['default'].apply(binary)\n",
    "df['housing'] = df['housing'].apply(binary)\n",
    "df['loan'] = df['loan'].apply(binary)"
   ]
  },
  {
   "cell_type": "code",
   "execution_count": 598,
   "id": "a28d579e",
   "metadata": {},
   "outputs": [
    {
     "data": {
      "text/html": [
       "<div>\n",
       "<style scoped>\n",
       "    .dataframe tbody tr th:only-of-type {\n",
       "        vertical-align: middle;\n",
       "    }\n",
       "\n",
       "    .dataframe tbody tr th {\n",
       "        vertical-align: top;\n",
       "    }\n",
       "\n",
       "    .dataframe thead th {\n",
       "        text-align: right;\n",
       "    }\n",
       "</style>\n",
       "<table border=\"1\" class=\"dataframe\">\n",
       "  <thead>\n",
       "    <tr style=\"text-align: right;\">\n",
       "      <th></th>\n",
       "      <th>age</th>\n",
       "      <th>job</th>\n",
       "      <th>marital</th>\n",
       "      <th>education</th>\n",
       "      <th>default</th>\n",
       "      <th>balance</th>\n",
       "      <th>housing</th>\n",
       "      <th>loan</th>\n",
       "      <th>contact</th>\n",
       "      <th>day</th>\n",
       "      <th>month</th>\n",
       "      <th>duration</th>\n",
       "      <th>campaign</th>\n",
       "      <th>pdays</th>\n",
       "      <th>previous</th>\n",
       "      <th>poutcome</th>\n",
       "      <th>deposit</th>\n",
       "      <th>age_group</th>\n",
       "    </tr>\n",
       "  </thead>\n",
       "  <tbody>\n",
       "    <tr>\n",
       "      <th>0</th>\n",
       "      <td>59</td>\n",
       "      <td>admin.</td>\n",
       "      <td>married</td>\n",
       "      <td>1</td>\n",
       "      <td>0</td>\n",
       "      <td>2343.0</td>\n",
       "      <td>1</td>\n",
       "      <td>0</td>\n",
       "      <td>unknown</td>\n",
       "      <td>5</td>\n",
       "      <td>may</td>\n",
       "      <td>1042</td>\n",
       "      <td>1</td>\n",
       "      <td>-1</td>\n",
       "      <td>0</td>\n",
       "      <td>unknown</td>\n",
       "      <td>1</td>\n",
       "      <td>3</td>\n",
       "    </tr>\n",
       "    <tr>\n",
       "      <th>1</th>\n",
       "      <td>56</td>\n",
       "      <td>admin.</td>\n",
       "      <td>married</td>\n",
       "      <td>1</td>\n",
       "      <td>0</td>\n",
       "      <td>45.0</td>\n",
       "      <td>0</td>\n",
       "      <td>0</td>\n",
       "      <td>unknown</td>\n",
       "      <td>5</td>\n",
       "      <td>may</td>\n",
       "      <td>1467</td>\n",
       "      <td>1</td>\n",
       "      <td>-1</td>\n",
       "      <td>0</td>\n",
       "      <td>unknown</td>\n",
       "      <td>1</td>\n",
       "      <td>3</td>\n",
       "    </tr>\n",
       "    <tr>\n",
       "      <th>2</th>\n",
       "      <td>41</td>\n",
       "      <td>technician</td>\n",
       "      <td>married</td>\n",
       "      <td>1</td>\n",
       "      <td>0</td>\n",
       "      <td>1270.0</td>\n",
       "      <td>1</td>\n",
       "      <td>0</td>\n",
       "      <td>unknown</td>\n",
       "      <td>5</td>\n",
       "      <td>may</td>\n",
       "      <td>1389</td>\n",
       "      <td>1</td>\n",
       "      <td>-1</td>\n",
       "      <td>0</td>\n",
       "      <td>unknown</td>\n",
       "      <td>1</td>\n",
       "      <td>2</td>\n",
       "    </tr>\n",
       "    <tr>\n",
       "      <th>3</th>\n",
       "      <td>55</td>\n",
       "      <td>services</td>\n",
       "      <td>married</td>\n",
       "      <td>1</td>\n",
       "      <td>0</td>\n",
       "      <td>2476.0</td>\n",
       "      <td>1</td>\n",
       "      <td>0</td>\n",
       "      <td>unknown</td>\n",
       "      <td>5</td>\n",
       "      <td>may</td>\n",
       "      <td>579</td>\n",
       "      <td>1</td>\n",
       "      <td>-1</td>\n",
       "      <td>0</td>\n",
       "      <td>unknown</td>\n",
       "      <td>1</td>\n",
       "      <td>3</td>\n",
       "    </tr>\n",
       "    <tr>\n",
       "      <th>4</th>\n",
       "      <td>54</td>\n",
       "      <td>admin.</td>\n",
       "      <td>married</td>\n",
       "      <td>2</td>\n",
       "      <td>0</td>\n",
       "      <td>184.0</td>\n",
       "      <td>0</td>\n",
       "      <td>0</td>\n",
       "      <td>unknown</td>\n",
       "      <td>5</td>\n",
       "      <td>may</td>\n",
       "      <td>673</td>\n",
       "      <td>2</td>\n",
       "      <td>-1</td>\n",
       "      <td>0</td>\n",
       "      <td>unknown</td>\n",
       "      <td>1</td>\n",
       "      <td>3</td>\n",
       "    </tr>\n",
       "  </tbody>\n",
       "</table>\n",
       "</div>"
      ],
      "text/plain": [
       "   age         job  marital  education  default  balance  housing  loan  \\\n",
       "0   59      admin.  married          1        0   2343.0        1     0   \n",
       "1   56      admin.  married          1        0     45.0        0     0   \n",
       "2   41  technician  married          1        0   1270.0        1     0   \n",
       "3   55    services  married          1        0   2476.0        1     0   \n",
       "4   54      admin.  married          2        0    184.0        0     0   \n",
       "\n",
       "   contact  day month  duration  campaign  pdays  previous poutcome  deposit  \\\n",
       "0  unknown    5   may      1042         1     -1         0  unknown        1   \n",
       "1  unknown    5   may      1467         1     -1         0  unknown        1   \n",
       "2  unknown    5   may      1389         1     -1         0  unknown        1   \n",
       "3  unknown    5   may       579         1     -1         0  unknown        1   \n",
       "4  unknown    5   may       673         2     -1         0  unknown        1   \n",
       "\n",
       "   age_group  \n",
       "0          3  \n",
       "1          3  \n",
       "2          2  \n",
       "3          3  \n",
       "4          3  "
      ]
     },
     "execution_count": 598,
     "metadata": {},
     "output_type": "execute_result"
    }
   ],
   "source": [
    "df.head(5)"
   ]
  },
  {
   "cell_type": "code",
   "execution_count": 599,
   "id": "34de55fc",
   "metadata": {},
   "outputs": [
    {
     "data": {
      "text/plain": [
       "0.6354280059376547"
      ]
     },
     "execution_count": 599,
     "metadata": {},
     "output_type": "execute_result"
    }
   ],
   "source": [
    "df['default'].mean()+df['housing'].mean()+df['loan'].mean()"
   ]
  },
  {
   "cell_type": "markdown",
   "id": "c40dc02a",
   "metadata": {},
   "source": [
    "### Задание 4"
   ]
  },
  {
   "cell_type": "code",
   "execution_count": 600,
   "id": "b996883f",
   "metadata": {},
   "outputs": [
    {
     "name": "stdout",
     "output_type": "stream",
     "text": [
      "       age  education  default  balance  housing  loan  day  duration  \\\n",
      "0       59          1        0   2343.0        1     0    5      1042   \n",
      "1       56          1        0     45.0        0     0    5      1467   \n",
      "2       41          1        0   1270.0        1     0    5      1389   \n",
      "3       55          1        0   2476.0        1     0    5       579   \n",
      "4       54          2        0    184.0        0     0    5       673   \n",
      "...    ...        ...      ...      ...      ...   ...  ...       ...   \n",
      "11157   33          0        0      1.0        1     0   20       257   \n",
      "11158   39          1        0    733.0        0     0   16        83   \n",
      "11159   32          1        0     29.0        0     0   19       156   \n",
      "11160   43          1        0      0.0        0     1    8         9   \n",
      "11161   34          1        0      0.0        0     0    9       628   \n",
      "\n",
      "       campaign  pdays  ...  month_jun  month_mar  month_may  month_nov  \\\n",
      "0             1     -1  ...          0          0          1          0   \n",
      "1             1     -1  ...          0          0          1          0   \n",
      "2             1     -1  ...          0          0          1          0   \n",
      "3             1     -1  ...          0          0          1          0   \n",
      "4             2     -1  ...          0          0          1          0   \n",
      "...         ...    ...  ...        ...        ...        ...        ...   \n",
      "11157         1     -1  ...          0          0          0          0   \n",
      "11158         4     -1  ...          1          0          0          0   \n",
      "11159         2     -1  ...          0          0          0          0   \n",
      "11160         2    172  ...          0          0          1          0   \n",
      "11161         1     -1  ...          0          0          0          0   \n",
      "\n",
      "       month_oct  month_sep  poutcome_failure  poutcome_other  \\\n",
      "0              0          0                 0               0   \n",
      "1              0          0                 0               0   \n",
      "2              0          0                 0               0   \n",
      "3              0          0                 0               0   \n",
      "4              0          0                 0               0   \n",
      "...          ...        ...               ...             ...   \n",
      "11157          0          0                 0               0   \n",
      "11158          0          0                 0               0   \n",
      "11159          0          0                 0               0   \n",
      "11160          0          0                 1               0   \n",
      "11161          0          0                 0               0   \n",
      "\n",
      "       poutcome_success  poutcome_unknown  \n",
      "0                     0                 1  \n",
      "1                     0                 1  \n",
      "2                     0                 1  \n",
      "3                     0                 1  \n",
      "4                     0                 1  \n",
      "...                 ...               ...  \n",
      "11157                 0                 1  \n",
      "11158                 0                 1  \n",
      "11159                 0                 1  \n",
      "11160                 0                 0  \n",
      "11161                 0                 1  \n",
      "\n",
      "[10105 rows x 46 columns]\n"
     ]
    }
   ],
   "source": [
    "ohe = pd.get_dummies(data=df, columns=['job','marital','contact','month','poutcome'])\n",
    "\n",
    "print(ohe)"
   ]
  },
  {
   "cell_type": "code",
   "execution_count": 601,
   "id": "c72739a7",
   "metadata": {},
   "outputs": [],
   "source": [
    "df=ohe"
   ]
  },
  {
   "cell_type": "code",
   "execution_count": 602,
   "id": "5957c05f",
   "metadata": {},
   "outputs": [
    {
     "name": "stdout",
     "output_type": "stream",
     "text": [
      "<class 'pandas.core.frame.DataFrame'>\n",
      "Int64Index: 10105 entries, 0 to 11161\n",
      "Data columns (total 46 columns):\n",
      " #   Column             Non-Null Count  Dtype  \n",
      "---  ------             --------------  -----  \n",
      " 0   age                10105 non-null  int64  \n",
      " 1   education          10105 non-null  int32  \n",
      " 2   default            10105 non-null  int64  \n",
      " 3   balance            10105 non-null  float64\n",
      " 4   housing            10105 non-null  int64  \n",
      " 5   loan               10105 non-null  int64  \n",
      " 6   day                10105 non-null  int64  \n",
      " 7   duration           10105 non-null  int64  \n",
      " 8   campaign           10105 non-null  int64  \n",
      " 9   pdays              10105 non-null  int64  \n",
      " 10  previous           10105 non-null  int64  \n",
      " 11  deposit            10105 non-null  int64  \n",
      " 12  age_group          10105 non-null  int64  \n",
      " 13  job_admin.         10105 non-null  uint8  \n",
      " 14  job_blue-collar    10105 non-null  uint8  \n",
      " 15  job_entrepreneur   10105 non-null  uint8  \n",
      " 16  job_housemaid      10105 non-null  uint8  \n",
      " 17  job_management     10105 non-null  uint8  \n",
      " 18  job_retired        10105 non-null  uint8  \n",
      " 19  job_self-employed  10105 non-null  uint8  \n",
      " 20  job_services       10105 non-null  uint8  \n",
      " 21  job_student        10105 non-null  uint8  \n",
      " 22  job_technician     10105 non-null  uint8  \n",
      " 23  job_unemployed     10105 non-null  uint8  \n",
      " 24  marital_divorced   10105 non-null  uint8  \n",
      " 25  marital_married    10105 non-null  uint8  \n",
      " 26  marital_single     10105 non-null  uint8  \n",
      " 27  contact_cellular   10105 non-null  uint8  \n",
      " 28  contact_telephone  10105 non-null  uint8  \n",
      " 29  contact_unknown    10105 non-null  uint8  \n",
      " 30  month_apr          10105 non-null  uint8  \n",
      " 31  month_aug          10105 non-null  uint8  \n",
      " 32  month_dec          10105 non-null  uint8  \n",
      " 33  month_feb          10105 non-null  uint8  \n",
      " 34  month_jan          10105 non-null  uint8  \n",
      " 35  month_jul          10105 non-null  uint8  \n",
      " 36  month_jun          10105 non-null  uint8  \n",
      " 37  month_mar          10105 non-null  uint8  \n",
      " 38  month_may          10105 non-null  uint8  \n",
      " 39  month_nov          10105 non-null  uint8  \n",
      " 40  month_oct          10105 non-null  uint8  \n",
      " 41  month_sep          10105 non-null  uint8  \n",
      " 42  poutcome_failure   10105 non-null  uint8  \n",
      " 43  poutcome_other     10105 non-null  uint8  \n",
      " 44  poutcome_success   10105 non-null  uint8  \n",
      " 45  poutcome_unknown   10105 non-null  uint8  \n",
      "dtypes: float64(1), int32(1), int64(11), uint8(33)\n",
      "memory usage: 1.4 MB\n"
     ]
    }
   ],
   "source": [
    "df.info()"
   ]
  },
  {
   "cell_type": "code",
   "execution_count": 603,
   "id": "40aed29a",
   "metadata": {},
   "outputs": [
    {
     "data": {
      "text/plain": [
       "<AxesSubplot:>"
      ]
     },
     "execution_count": 603,
     "metadata": {},
     "output_type": "execute_result"
    },
    {
     "data": {
      "image/png": "[encoded data removed]",
      "text/plain": [
       "<Figure size 1500x1500 with 2 Axes>"
      ]
     },
     "metadata": {},
     "output_type": "display_data"
    }
   ],
   "source": [
    "sns.set(rc={\"figure.figsize\":(15, 15)}) #width=3, #height=4\n",
    "sns.heatmap(df.corr(),linecolor='black', linewidths=0.1)"
   ]
  },
  {
   "cell_type": "code",
   "execution_count": 604,
   "id": "df86698b",
   "metadata": {},
   "outputs": [
    {
     "data": {
      "text/html": [
       "<div>\n",
       "<style scoped>\n",
       "    .dataframe tbody tr th:only-of-type {\n",
       "        vertical-align: middle;\n",
       "    }\n",
       "\n",
       "    .dataframe tbody tr th {\n",
       "        vertical-align: top;\n",
       "    }\n",
       "\n",
       "    .dataframe thead th {\n",
       "        text-align: right;\n",
       "    }\n",
       "</style>\n",
       "<table border=\"1\" class=\"dataframe\">\n",
       "  <thead>\n",
       "    <tr style=\"text-align: right;\">\n",
       "      <th></th>\n",
       "      <th>age</th>\n",
       "      <th>education</th>\n",
       "      <th>default</th>\n",
       "      <th>balance</th>\n",
       "      <th>housing</th>\n",
       "      <th>loan</th>\n",
       "      <th>day</th>\n",
       "      <th>duration</th>\n",
       "      <th>campaign</th>\n",
       "      <th>pdays</th>\n",
       "      <th>...</th>\n",
       "      <th>month_jun</th>\n",
       "      <th>month_mar</th>\n",
       "      <th>month_may</th>\n",
       "      <th>month_nov</th>\n",
       "      <th>month_oct</th>\n",
       "      <th>month_sep</th>\n",
       "      <th>poutcome_failure</th>\n",
       "      <th>poutcome_other</th>\n",
       "      <th>poutcome_success</th>\n",
       "      <th>poutcome_unknown</th>\n",
       "    </tr>\n",
       "  </thead>\n",
       "  <tbody>\n",
       "    <tr>\n",
       "      <th>age</th>\n",
       "      <td>1.000000</td>\n",
       "      <td>-0.191124</td>\n",
       "      <td>-0.009929</td>\n",
       "      <td>0.115164</td>\n",
       "      <td>-0.164196</td>\n",
       "      <td>-0.026357</td>\n",
       "      <td>0.000396</td>\n",
       "      <td>-0.006007</td>\n",
       "      <td>-0.001143</td>\n",
       "      <td>0.006107</td>\n",
       "      <td>...</td>\n",
       "      <td>0.009769</td>\n",
       "      <td>0.024785</td>\n",
       "      <td>-0.119656</td>\n",
       "      <td>0.026875</td>\n",
       "      <td>0.056998</td>\n",
       "      <td>0.036352</td>\n",
       "      <td>0.001994</td>\n",
       "      <td>-0.020942</td>\n",
       "      <td>0.060009</td>\n",
       "      <td>-0.031455</td>\n",
       "    </tr>\n",
       "    <tr>\n",
       "      <th>education</th>\n",
       "      <td>-0.191124</td>\n",
       "      <td>1.000000</td>\n",
       "      <td>-0.015692</td>\n",
       "      <td>0.043251</td>\n",
       "      <td>-0.094350</td>\n",
       "      <td>-0.052566</td>\n",
       "      <td>0.008989</td>\n",
       "      <td>-0.016869</td>\n",
       "      <td>-0.012280</td>\n",
       "      <td>0.024123</td>\n",
       "      <td>...</td>\n",
       "      <td>-0.036503</td>\n",
       "      <td>0.052196</td>\n",
       "      <td>-0.104157</td>\n",
       "      <td>0.028704</td>\n",
       "      <td>0.027617</td>\n",
       "      <td>0.030846</td>\n",
       "      <td>0.019845</td>\n",
       "      <td>0.015103</td>\n",
       "      <td>0.070489</td>\n",
       "      <td>-0.069069</td>\n",
       "    </tr>\n",
       "    <tr>\n",
       "      <th>default</th>\n",
       "      <td>-0.009929</td>\n",
       "      <td>-0.015692</td>\n",
       "      <td>1.000000</td>\n",
       "      <td>-0.110928</td>\n",
       "      <td>0.009551</td>\n",
       "      <td>0.074786</td>\n",
       "      <td>0.018724</td>\n",
       "      <td>-0.008162</td>\n",
       "      <td>0.033404</td>\n",
       "      <td>-0.037323</td>\n",
       "      <td>...</td>\n",
       "      <td>0.019626</td>\n",
       "      <td>-0.020028</td>\n",
       "      <td>-0.001761</td>\n",
       "      <td>0.000544</td>\n",
       "      <td>-0.023931</td>\n",
       "      <td>-0.016977</td>\n",
       "      <td>-0.025450</td>\n",
       "      <td>-0.017923</td>\n",
       "      <td>-0.041510</td>\n",
       "      <td>0.055032</td>\n",
       "    </tr>\n",
       "    <tr>\n",
       "      <th>balance</th>\n",
       "      <td>0.115164</td>\n",
       "      <td>0.043251</td>\n",
       "      <td>-0.110928</td>\n",
       "      <td>1.000000</td>\n",
       "      <td>-0.094919</td>\n",
       "      <td>-0.113089</td>\n",
       "      <td>-0.009987</td>\n",
       "      <td>0.025781</td>\n",
       "      <td>-0.042689</td>\n",
       "      <td>0.045155</td>\n",
       "      <td>...</td>\n",
       "      <td>0.039753</td>\n",
       "      <td>0.043832</td>\n",
       "      <td>-0.098073</td>\n",
       "      <td>0.081861</td>\n",
       "      <td>0.057041</td>\n",
       "      <td>0.047841</td>\n",
       "      <td>0.031040</td>\n",
       "      <td>0.028111</td>\n",
       "      <td>0.073358</td>\n",
       "      <td>-0.085456</td>\n",
       "    </tr>\n",
       "    <tr>\n",
       "      <th>housing</th>\n",
       "      <td>-0.164196</td>\n",
       "      <td>-0.094350</td>\n",
       "      <td>0.009551</td>\n",
       "      <td>-0.094919</td>\n",
       "      <td>1.000000</td>\n",
       "      <td>0.072252</td>\n",
       "      <td>-0.022644</td>\n",
       "      <td>0.038492</td>\n",
       "      <td>0.006257</td>\n",
       "      <td>0.064138</td>\n",
       "      <td>...</td>\n",
       "      <td>-0.073133</td>\n",
       "      <td>-0.075948</td>\n",
       "      <td>0.432605</td>\n",
       "      <td>-0.000219</td>\n",
       "      <td>-0.092026</td>\n",
       "      <td>-0.086893</td>\n",
       "      <td>0.085167</td>\n",
       "      <td>0.009830</td>\n",
       "      <td>-0.134477</td>\n",
       "      <td>0.024082</td>\n",
       "    </tr>\n",
       "    <tr>\n",
       "      <th>loan</th>\n",
       "      <td>-0.026357</td>\n",
       "      <td>-0.052566</td>\n",
       "      <td>0.074786</td>\n",
       "      <td>-0.113089</td>\n",
       "      <td>0.072252</td>\n",
       "      <td>1.000000</td>\n",
       "      <td>0.019136</td>\n",
       "      <td>0.001476</td>\n",
       "      <td>0.033889</td>\n",
       "      <td>-0.030788</td>\n",
       "      <td>...</td>\n",
       "      <td>-0.014897</td>\n",
       "      <td>-0.041105</td>\n",
       "      <td>0.002778</td>\n",
       "      <td>0.017720</td>\n",
       "      <td>-0.032357</td>\n",
       "      <td>-0.046196</td>\n",
       "      <td>0.007458</td>\n",
       "      <td>-0.019289</td>\n",
       "      <td>-0.082098</td>\n",
       "      <td>0.059235</td>\n",
       "    </tr>\n",
       "    <tr>\n",
       "      <th>day</th>\n",
       "      <td>0.000396</td>\n",
       "      <td>0.008989</td>\n",
       "      <td>0.018724</td>\n",
       "      <td>-0.009987</td>\n",
       "      <td>-0.022644</td>\n",
       "      <td>0.019136</td>\n",
       "      <td>1.000000</td>\n",
       "      <td>-0.016695</td>\n",
       "      <td>0.142169</td>\n",
       "      <td>-0.078757</td>\n",
       "      <td>...</td>\n",
       "      <td>-0.182032</td>\n",
       "      <td>-0.044303</td>\n",
       "      <td>-0.014580</td>\n",
       "      <td>0.056471</td>\n",
       "      <td>0.072179</td>\n",
       "      <td>-0.068744</td>\n",
       "      <td>-0.071175</td>\n",
       "      <td>-0.008806</td>\n",
       "      <td>-0.044366</td>\n",
       "      <td>0.085442</td>\n",
       "    </tr>\n",
       "    <tr>\n",
       "      <th>duration</th>\n",
       "      <td>-0.006007</td>\n",
       "      <td>-0.016869</td>\n",
       "      <td>-0.008162</td>\n",
       "      <td>0.025781</td>\n",
       "      <td>0.038492</td>\n",
       "      <td>0.001476</td>\n",
       "      <td>-0.016695</td>\n",
       "      <td>1.000000</td>\n",
       "      <td>-0.042576</td>\n",
       "      <td>-0.033053</td>\n",
       "      <td>...</td>\n",
       "      <td>-0.003061</td>\n",
       "      <td>-0.034640</td>\n",
       "      <td>0.007983</td>\n",
       "      <td>-0.015655</td>\n",
       "      <td>-0.012541</td>\n",
       "      <td>-0.012077</td>\n",
       "      <td>-0.039476</td>\n",
       "      <td>-0.009497</td>\n",
       "      <td>-0.025971</td>\n",
       "      <td>0.050571</td>\n",
       "    </tr>\n",
       "    <tr>\n",
       "      <th>campaign</th>\n",
       "      <td>-0.001143</td>\n",
       "      <td>-0.012280</td>\n",
       "      <td>0.033404</td>\n",
       "      <td>-0.042689</td>\n",
       "      <td>0.006257</td>\n",
       "      <td>0.033889</td>\n",
       "      <td>0.142169</td>\n",
       "      <td>-0.042576</td>\n",
       "      <td>1.000000</td>\n",
       "      <td>-0.105214</td>\n",
       "      <td>...</td>\n",
       "      <td>0.046763</td>\n",
       "      <td>-0.030574</td>\n",
       "      <td>-0.044348</td>\n",
       "      <td>-0.077307</td>\n",
       "      <td>-0.071519</td>\n",
       "      <td>-0.048672</td>\n",
       "      <td>-0.082282</td>\n",
       "      <td>-0.024854</td>\n",
       "      <td>-0.094260</td>\n",
       "      <td>0.134842</td>\n",
       "    </tr>\n",
       "    <tr>\n",
       "      <th>pdays</th>\n",
       "      <td>0.006107</td>\n",
       "      <td>0.024123</td>\n",
       "      <td>-0.037323</td>\n",
       "      <td>0.045155</td>\n",
       "      <td>0.064138</td>\n",
       "      <td>-0.030788</td>\n",
       "      <td>-0.078757</td>\n",
       "      <td>-0.033053</td>\n",
       "      <td>-0.105214</td>\n",
       "      <td>1.000000</td>\n",
       "      <td>...</td>\n",
       "      <td>-0.093551</td>\n",
       "      <td>0.024192</td>\n",
       "      <td>0.028678</td>\n",
       "      <td>-0.007350</td>\n",
       "      <td>0.079833</td>\n",
       "      <td>0.110907</td>\n",
       "      <td>0.608719</td>\n",
       "      <td>0.338049</td>\n",
       "      <td>0.326215</td>\n",
       "      <td>-0.824031</td>\n",
       "    </tr>\n",
       "    <tr>\n",
       "      <th>previous</th>\n",
       "      <td>0.025383</td>\n",
       "      <td>0.025368</td>\n",
       "      <td>-0.036605</td>\n",
       "      <td>0.060419</td>\n",
       "      <td>-0.000221</td>\n",
       "      <td>-0.020087</td>\n",
       "      <td>-0.059739</td>\n",
       "      <td>-0.034233</td>\n",
       "      <td>-0.052312</td>\n",
       "      <td>0.513708</td>\n",
       "      <td>...</td>\n",
       "      <td>-0.050067</td>\n",
       "      <td>0.025225</td>\n",
       "      <td>-0.025077</td>\n",
       "      <td>0.019722</td>\n",
       "      <td>0.055077</td>\n",
       "      <td>0.099795</td>\n",
       "      <td>0.347800</td>\n",
       "      <td>0.318888</td>\n",
       "      <td>0.328978</td>\n",
       "      <td>-0.628346</td>\n",
       "    </tr>\n",
       "    <tr>\n",
       "      <th>deposit</th>\n",
       "      <td>0.024357</td>\n",
       "      <td>0.098253</td>\n",
       "      <td>-0.038872</td>\n",
       "      <td>0.135893</td>\n",
       "      <td>-0.200290</td>\n",
       "      <td>-0.107240</td>\n",
       "      <td>-0.056878</td>\n",
       "      <td>0.457818</td>\n",
       "      <td>-0.130707</td>\n",
       "      <td>0.147917</td>\n",
       "      <td>...</td>\n",
       "      <td>-0.008533</td>\n",
       "      <td>0.135348</td>\n",
       "      <td>-0.168203</td>\n",
       "      <td>-0.027754</td>\n",
       "      <td>0.130599</td>\n",
       "      <td>0.125239</td>\n",
       "      <td>0.021124</td>\n",
       "      <td>0.039319</td>\n",
       "      <td>0.288491</td>\n",
       "      <td>-0.228300</td>\n",
       "    </tr>\n",
       "    <tr>\n",
       "      <th>age_group</th>\n",
       "      <td>0.955070</td>\n",
       "      <td>-0.175771</td>\n",
       "      <td>-0.011711</td>\n",
       "      <td>0.104842</td>\n",
       "      <td>-0.149074</td>\n",
       "      <td>-0.019037</td>\n",
       "      <td>0.005460</td>\n",
       "      <td>-0.008571</td>\n",
       "      <td>0.008031</td>\n",
       "      <td>0.004732</td>\n",
       "      <td>...</td>\n",
       "      <td>0.004639</td>\n",
       "      <td>0.015106</td>\n",
       "      <td>-0.111993</td>\n",
       "      <td>0.037585</td>\n",
       "      <td>0.045988</td>\n",
       "      <td>0.021511</td>\n",
       "      <td>0.006886</td>\n",
       "      <td>-0.023720</td>\n",
       "      <td>0.046618</td>\n",
       "      <td>-0.024625</td>\n",
       "    </tr>\n",
       "    <tr>\n",
       "      <th>job_admin.</th>\n",
       "      <td>-0.057502</td>\n",
       "      <td>-0.055817</td>\n",
       "      <td>-0.022421</td>\n",
       "      <td>-0.028057</td>\n",
       "      <td>0.063547</td>\n",
       "      <td>0.049098</td>\n",
       "      <td>-0.010680</td>\n",
       "      <td>-0.023585</td>\n",
       "      <td>-0.018834</td>\n",
       "      <td>0.046293</td>\n",
       "      <td>...</td>\n",
       "      <td>-0.001089</td>\n",
       "      <td>0.003533</td>\n",
       "      <td>0.027696</td>\n",
       "      <td>-0.008095</td>\n",
       "      <td>0.006208</td>\n",
       "      <td>0.006847</td>\n",
       "      <td>0.038762</td>\n",
       "      <td>0.008044</td>\n",
       "      <td>0.004628</td>\n",
       "      <td>-0.035007</td>\n",
       "    </tr>\n",
       "    <tr>\n",
       "      <th>job_blue-collar</th>\n",
       "      <td>-0.065917</td>\n",
       "      <td>-0.371796</td>\n",
       "      <td>0.022989</td>\n",
       "      <td>-0.049484</td>\n",
       "      <td>0.194115</td>\n",
       "      <td>0.056857</td>\n",
       "      <td>-0.019876</td>\n",
       "      <td>0.032253</td>\n",
       "      <td>0.002430</td>\n",
       "      <td>-0.024269</td>\n",
       "      <td>...</td>\n",
       "      <td>0.032766</td>\n",
       "      <td>-0.055255</td>\n",
       "      <td>0.170969</td>\n",
       "      <td>-0.025624</td>\n",
       "      <td>-0.051792</td>\n",
       "      <td>-0.045333</td>\n",
       "      <td>-0.015957</td>\n",
       "      <td>0.003622</td>\n",
       "      <td>-0.074494</td>\n",
       "      <td>0.059758</td>\n",
       "    </tr>\n",
       "    <tr>\n",
       "      <th>job_entrepreneur</th>\n",
       "      <td>0.028390</td>\n",
       "      <td>0.024219</td>\n",
       "      <td>0.023264</td>\n",
       "      <td>-0.008727</td>\n",
       "      <td>0.006600</td>\n",
       "      <td>0.038298</td>\n",
       "      <td>-0.005463</td>\n",
       "      <td>0.000594</td>\n",
       "      <td>0.011168</td>\n",
       "      <td>-0.026802</td>\n",
       "      <td>...</td>\n",
       "      <td>0.026586</td>\n",
       "      <td>-0.019403</td>\n",
       "      <td>-0.018227</td>\n",
       "      <td>0.045535</td>\n",
       "      <td>-0.019363</td>\n",
       "      <td>-0.008032</td>\n",
       "      <td>0.002007</td>\n",
       "      <td>-0.022674</td>\n",
       "      <td>-0.034155</td>\n",
       "      <td>0.032629</td>\n",
       "    </tr>\n",
       "    <tr>\n",
       "      <th>job_housemaid</th>\n",
       "      <td>0.092661</td>\n",
       "      <td>-0.144242</td>\n",
       "      <td>0.019273</td>\n",
       "      <td>0.000907</td>\n",
       "      <td>-0.063824</td>\n",
       "      <td>-0.028973</td>\n",
       "      <td>0.010920</td>\n",
       "      <td>-0.010009</td>\n",
       "      <td>0.008832</td>\n",
       "      <td>-0.023625</td>\n",
       "      <td>...</td>\n",
       "      <td>0.049777</td>\n",
       "      <td>0.004569</td>\n",
       "      <td>-0.053982</td>\n",
       "      <td>-0.005830</td>\n",
       "      <td>0.012923</td>\n",
       "      <td>-0.007499</td>\n",
       "      <td>-0.015545</td>\n",
       "      <td>-0.008928</td>\n",
       "      <td>-0.005594</td>\n",
       "      <td>0.019350</td>\n",
       "    </tr>\n",
       "    <tr>\n",
       "      <th>job_management</th>\n",
       "      <td>-0.036163</td>\n",
       "      <td>0.518735</td>\n",
       "      <td>-0.000055</td>\n",
       "      <td>0.039205</td>\n",
       "      <td>-0.077697</td>\n",
       "      <td>-0.052683</td>\n",
       "      <td>0.003025</td>\n",
       "      <td>-0.024309</td>\n",
       "      <td>0.018159</td>\n",
       "      <td>0.010868</td>\n",
       "      <td>...</td>\n",
       "      <td>-0.026360</td>\n",
       "      <td>0.036884</td>\n",
       "      <td>-0.095434</td>\n",
       "      <td>0.030269</td>\n",
       "      <td>0.010856</td>\n",
       "      <td>0.037880</td>\n",
       "      <td>0.004471</td>\n",
       "      <td>0.010845</td>\n",
       "      <td>0.035995</td>\n",
       "      <td>-0.032725</td>\n",
       "    </tr>\n",
       "    <tr>\n",
       "      <th>job_retired</th>\n",
       "      <td>0.545524</td>\n",
       "      <td>-0.148800</td>\n",
       "      <td>-0.018524</td>\n",
       "      <td>0.091421</td>\n",
       "      <td>-0.168785</td>\n",
       "      <td>-0.045674</td>\n",
       "      <td>-0.005226</td>\n",
       "      <td>0.006052</td>\n",
       "      <td>-0.037189</td>\n",
       "      <td>0.007287</td>\n",
       "      <td>...</td>\n",
       "      <td>-0.010806</td>\n",
       "      <td>0.046085</td>\n",
       "      <td>-0.090053</td>\n",
       "      <td>-0.016737</td>\n",
       "      <td>0.071483</td>\n",
       "      <td>0.062945</td>\n",
       "      <td>-0.011205</td>\n",
       "      <td>-0.002926</td>\n",
       "      <td>0.070006</td>\n",
       "      <td>-0.037501</td>\n",
       "    </tr>\n",
       "    <tr>\n",
       "      <th>job_self-employed</th>\n",
       "      <td>-0.027947</td>\n",
       "      <td>0.091001</td>\n",
       "      <td>0.008924</td>\n",
       "      <td>0.009889</td>\n",
       "      <td>-0.019555</td>\n",
       "      <td>0.004113</td>\n",
       "      <td>0.001565</td>\n",
       "      <td>0.014513</td>\n",
       "      <td>0.006299</td>\n",
       "      <td>-0.012057</td>\n",
       "      <td>...</td>\n",
       "      <td>0.004955</td>\n",
       "      <td>0.002135</td>\n",
       "      <td>-0.017982</td>\n",
       "      <td>0.026810</td>\n",
       "      <td>0.009364</td>\n",
       "      <td>-0.019143</td>\n",
       "      <td>-0.009059</td>\n",
       "      <td>0.004926</td>\n",
       "      <td>-0.000882</td>\n",
       "      <td>0.004705</td>\n",
       "    </tr>\n",
       "    <tr>\n",
       "      <th>job_services</th>\n",
       "      <td>-0.077266</td>\n",
       "      <td>-0.103846</td>\n",
       "      <td>-0.020168</td>\n",
       "      <td>-0.037633</td>\n",
       "      <td>0.080129</td>\n",
       "      <td>0.032109</td>\n",
       "      <td>0.002787</td>\n",
       "      <td>0.013911</td>\n",
       "      <td>0.009145</td>\n",
       "      <td>-0.002427</td>\n",
       "      <td>...</td>\n",
       "      <td>0.012644</td>\n",
       "      <td>-0.012503</td>\n",
       "      <td>0.066271</td>\n",
       "      <td>-0.019849</td>\n",
       "      <td>-0.031120</td>\n",
       "      <td>-0.023491</td>\n",
       "      <td>-0.003684</td>\n",
       "      <td>-0.015454</td>\n",
       "      <td>-0.028109</td>\n",
       "      <td>0.029125</td>\n",
       "    </tr>\n",
       "    <tr>\n",
       "      <th>job_student</th>\n",
       "      <td>-0.231436</td>\n",
       "      <td>-0.009494</td>\n",
       "      <td>-0.019190</td>\n",
       "      <td>0.007133</td>\n",
       "      <td>-0.124261</td>\n",
       "      <td>-0.071385</td>\n",
       "      <td>-0.010712</td>\n",
       "      <td>-0.017974</td>\n",
       "      <td>-0.023710</td>\n",
       "      <td>0.025137</td>\n",
       "      <td>...</td>\n",
       "      <td>-0.017265</td>\n",
       "      <td>0.023515</td>\n",
       "      <td>-0.032509</td>\n",
       "      <td>-0.004541</td>\n",
       "      <td>0.031885</td>\n",
       "      <td>0.027500</td>\n",
       "      <td>-0.006769</td>\n",
       "      <td>0.040725</td>\n",
       "      <td>0.060619</td>\n",
       "      <td>-0.055835</td>\n",
       "    </tr>\n",
       "    <tr>\n",
       "      <th>job_technician</th>\n",
       "      <td>-0.074596</td>\n",
       "      <td>0.047966</td>\n",
       "      <td>0.004419</td>\n",
       "      <td>-0.010460</td>\n",
       "      <td>0.004772</td>\n",
       "      <td>0.009501</td>\n",
       "      <td>0.031050</td>\n",
       "      <td>-0.007488</td>\n",
       "      <td>0.022406</td>\n",
       "      <td>-0.017993</td>\n",
       "      <td>...</td>\n",
       "      <td>-0.030950</td>\n",
       "      <td>-0.016709</td>\n",
       "      <td>-0.009936</td>\n",
       "      <td>-0.008488</td>\n",
       "      <td>-0.003454</td>\n",
       "      <td>-0.024729</td>\n",
       "      <td>0.005355</td>\n",
       "      <td>-0.011311</td>\n",
       "      <td>-0.018613</td>\n",
       "      <td>0.014196</td>\n",
       "    </tr>\n",
       "    <tr>\n",
       "      <th>job_unemployed</th>\n",
       "      <td>0.001263</td>\n",
       "      <td>-0.031813</td>\n",
       "      <td>0.011120</td>\n",
       "      <td>0.009689</td>\n",
       "      <td>-0.059712</td>\n",
       "      <td>-0.039883</td>\n",
       "      <td>-0.001380</td>\n",
       "      <td>0.027641</td>\n",
       "      <td>-0.023728</td>\n",
       "      <td>0.005833</td>\n",
       "      <td>...</td>\n",
       "      <td>-0.004043</td>\n",
       "      <td>0.004451</td>\n",
       "      <td>-0.036727</td>\n",
       "      <td>0.009096</td>\n",
       "      <td>-0.003121</td>\n",
       "      <td>0.002940</td>\n",
       "      <td>-0.009655</td>\n",
       "      <td>-0.012524</td>\n",
       "      <td>0.030416</td>\n",
       "      <td>-0.007316</td>\n",
       "    </tr>\n",
       "    <tr>\n",
       "      <th>marital_divorced</th>\n",
       "      <td>0.185312</td>\n",
       "      <td>-0.033425</td>\n",
       "      <td>0.021028</td>\n",
       "      <td>-0.030406</td>\n",
       "      <td>0.009686</td>\n",
       "      <td>0.028408</td>\n",
       "      <td>0.003626</td>\n",
       "      <td>0.023425</td>\n",
       "      <td>-0.009653</td>\n",
       "      <td>-0.013343</td>\n",
       "      <td>...</td>\n",
       "      <td>0.013260</td>\n",
       "      <td>0.004882</td>\n",
       "      <td>0.009281</td>\n",
       "      <td>0.011729</td>\n",
       "      <td>-0.001757</td>\n",
       "      <td>-0.010148</td>\n",
       "      <td>-0.024844</td>\n",
       "      <td>-0.008730</td>\n",
       "      <td>-0.020206</td>\n",
       "      <td>0.035771</td>\n",
       "    </tr>\n",
       "    <tr>\n",
       "      <th>marital_married</th>\n",
       "      <td>0.316681</td>\n",
       "      <td>-0.133514</td>\n",
       "      <td>-0.007670</td>\n",
       "      <td>0.032056</td>\n",
       "      <td>0.036857</td>\n",
       "      <td>0.044692</td>\n",
       "      <td>0.001760</td>\n",
       "      <td>-0.037747</td>\n",
       "      <td>0.055415</td>\n",
       "      <td>-0.020003</td>\n",
       "      <td>...</td>\n",
       "      <td>0.002957</td>\n",
       "      <td>-0.030392</td>\n",
       "      <td>-0.031935</td>\n",
       "      <td>0.033558</td>\n",
       "      <td>-0.013898</td>\n",
       "      <td>-0.019805</td>\n",
       "      <td>0.011364</td>\n",
       "      <td>-0.030038</td>\n",
       "      <td>-0.008541</td>\n",
       "      <td>0.012296</td>\n",
       "    </tr>\n",
       "    <tr>\n",
       "      <th>marital_single</th>\n",
       "      <td>-0.464737</td>\n",
       "      <td>0.165140</td>\n",
       "      <td>-0.006322</td>\n",
       "      <td>-0.013176</td>\n",
       "      <td>-0.045904</td>\n",
       "      <td>-0.067140</td>\n",
       "      <td>-0.004371</td>\n",
       "      <td>0.024042</td>\n",
       "      <td>-0.052335</td>\n",
       "      <td>0.030483</td>\n",
       "      <td>...</td>\n",
       "      <td>-0.012282</td>\n",
       "      <td>0.028986</td>\n",
       "      <td>0.027599</td>\n",
       "      <td>-0.043800</td>\n",
       "      <td>0.016004</td>\n",
       "      <td>0.028071</td>\n",
       "      <td>0.005018</td>\n",
       "      <td>0.037987</td>\n",
       "      <td>0.023010</td>\n",
       "      <td>-0.037729</td>\n",
       "    </tr>\n",
       "    <tr>\n",
       "      <th>contact_cellular</th>\n",
       "      <td>-0.074062</td>\n",
       "      <td>0.172697</td>\n",
       "      <td>-0.028878</td>\n",
       "      <td>0.030039</td>\n",
       "      <td>-0.186832</td>\n",
       "      <td>0.000653</td>\n",
       "      <td>-0.006511</td>\n",
       "      <td>0.022006</td>\n",
       "      <td>-0.068573</td>\n",
       "      <td>0.208006</td>\n",
       "      <td>...</td>\n",
       "      <td>-0.319383</td>\n",
       "      <td>0.064403</td>\n",
       "      <td>-0.337438</td>\n",
       "      <td>0.108127</td>\n",
       "      <td>0.032717</td>\n",
       "      <td>0.053452</td>\n",
       "      <td>0.166336</td>\n",
       "      <td>0.091506</td>\n",
       "      <td>0.148420</td>\n",
       "      <td>-0.264559</td>\n",
       "    </tr>\n",
       "    <tr>\n",
       "      <th>contact_telephone</th>\n",
       "      <td>0.194455</td>\n",
       "      <td>-0.080767</td>\n",
       "      <td>-0.021596</td>\n",
       "      <td>0.061140</td>\n",
       "      <td>-0.084942</td>\n",
       "      <td>-0.016394</td>\n",
       "      <td>0.013647</td>\n",
       "      <td>-0.022244</td>\n",
       "      <td>0.056650</td>\n",
       "      <td>0.004120</td>\n",
       "      <td>...</td>\n",
       "      <td>-0.064427</td>\n",
       "      <td>0.006604</td>\n",
       "      <td>-0.076916</td>\n",
       "      <td>0.029959</td>\n",
       "      <td>0.069496</td>\n",
       "      <td>0.024017</td>\n",
       "      <td>-0.005817</td>\n",
       "      <td>0.014167</td>\n",
       "      <td>0.000254</td>\n",
       "      <td>-0.002934</td>\n",
       "    </tr>\n",
       "    <tr>\n",
       "      <th>contact_unknown</th>\n",
       "      <td>-0.036224</td>\n",
       "      <td>-0.140256</td>\n",
       "      <td>0.044621</td>\n",
       "      <td>-0.069737</td>\n",
       "      <td>0.255649</td>\n",
       "      <td>0.009172</td>\n",
       "      <td>-0.001105</td>\n",
       "      <td>-0.010665</td>\n",
       "      <td>0.040870</td>\n",
       "      <td>-0.230080</td>\n",
       "      <td>...</td>\n",
       "      <td>0.388312</td>\n",
       "      <td>-0.074450</td>\n",
       "      <td>0.415598</td>\n",
       "      <td>-0.136376</td>\n",
       "      <td>-0.077706</td>\n",
       "      <td>-0.072969</td>\n",
       "      <td>-0.178493</td>\n",
       "      <td>-0.108666</td>\n",
       "      <td>-0.162550</td>\n",
       "      <td>0.291242</td>\n",
       "    </tr>\n",
       "    <tr>\n",
       "      <th>month_apr</th>\n",
       "      <td>-0.026208</td>\n",
       "      <td>0.015456</td>\n",
       "      <td>-0.018812</td>\n",
       "      <td>0.050392</td>\n",
       "      <td>0.031485</td>\n",
       "      <td>-0.040164</td>\n",
       "      <td>0.110547</td>\n",
       "      <td>0.027398</td>\n",
       "      <td>-0.075791</td>\n",
       "      <td>0.080709</td>\n",
       "      <td>...</td>\n",
       "      <td>-0.104766</td>\n",
       "      <td>-0.046360</td>\n",
       "      <td>-0.176848</td>\n",
       "      <td>-0.086518</td>\n",
       "      <td>-0.055393</td>\n",
       "      <td>-0.050315</td>\n",
       "      <td>0.067926</td>\n",
       "      <td>0.041458</td>\n",
       "      <td>-0.000767</td>\n",
       "      <td>-0.068823</td>\n",
       "    </tr>\n",
       "    <tr>\n",
       "      <th>month_aug</th>\n",
       "      <td>0.060980</td>\n",
       "      <td>0.102218</td>\n",
       "      <td>-0.003966</td>\n",
       "      <td>-0.008252</td>\n",
       "      <td>-0.235772</td>\n",
       "      <td>-0.064208</td>\n",
       "      <td>-0.001758</td>\n",
       "      <td>-0.024372</td>\n",
       "      <td>0.149425</td>\n",
       "      <td>-0.066859</td>\n",
       "      <td>...</td>\n",
       "      <td>-0.139574</td>\n",
       "      <td>-0.061763</td>\n",
       "      <td>-0.235606</td>\n",
       "      <td>-0.115263</td>\n",
       "      <td>-0.073798</td>\n",
       "      <td>-0.067031</td>\n",
       "      <td>-0.062600</td>\n",
       "      <td>-0.040444</td>\n",
       "      <td>0.007390</td>\n",
       "      <td>0.060037</td>\n",
       "    </tr>\n",
       "    <tr>\n",
       "      <th>month_dec</th>\n",
       "      <td>0.031151</td>\n",
       "      <td>0.004171</td>\n",
       "      <td>-0.012456</td>\n",
       "      <td>0.027092</td>\n",
       "      <td>-0.059625</td>\n",
       "      <td>-0.029521</td>\n",
       "      <td>-0.011651</td>\n",
       "      <td>0.007100</td>\n",
       "      <td>-0.014967</td>\n",
       "      <td>0.045581</td>\n",
       "      <td>...</td>\n",
       "      <td>-0.033754</td>\n",
       "      <td>-0.014936</td>\n",
       "      <td>-0.056977</td>\n",
       "      <td>-0.027874</td>\n",
       "      <td>-0.017847</td>\n",
       "      <td>-0.016210</td>\n",
       "      <td>0.002631</td>\n",
       "      <td>0.036861</td>\n",
       "      <td>0.068706</td>\n",
       "      <td>-0.066145</td>\n",
       "    </tr>\n",
       "    <tr>\n",
       "      <th>month_feb</th>\n",
       "      <td>0.014729</td>\n",
       "      <td>0.036743</td>\n",
       "      <td>-0.020260</td>\n",
       "      <td>0.010160</td>\n",
       "      <td>-0.079198</td>\n",
       "      <td>-0.012067</td>\n",
       "      <td>-0.236222</td>\n",
       "      <td>-0.025231</td>\n",
       "      <td>-0.039026</td>\n",
       "      <td>0.054450</td>\n",
       "      <td>...</td>\n",
       "      <td>-0.096203</td>\n",
       "      <td>-0.042571</td>\n",
       "      <td>-0.162394</td>\n",
       "      <td>-0.079446</td>\n",
       "      <td>-0.050866</td>\n",
       "      <td>-0.046202</td>\n",
       "      <td>0.060970</td>\n",
       "      <td>0.038671</td>\n",
       "      <td>0.035524</td>\n",
       "      <td>-0.086813</td>\n",
       "    </tr>\n",
       "    <tr>\n",
       "      <th>month_jan</th>\n",
       "      <td>0.017477</td>\n",
       "      <td>-0.002330</td>\n",
       "      <td>0.003382</td>\n",
       "      <td>-0.011331</td>\n",
       "      <td>-0.090039</td>\n",
       "      <td>0.003325</td>\n",
       "      <td>0.225136</td>\n",
       "      <td>-0.010272</td>\n",
       "      <td>-0.053519</td>\n",
       "      <td>0.015399</td>\n",
       "      <td>...</td>\n",
       "      <td>-0.063231</td>\n",
       "      <td>-0.027980</td>\n",
       "      <td>-0.106736</td>\n",
       "      <td>-0.052217</td>\n",
       "      <td>-0.033432</td>\n",
       "      <td>-0.030367</td>\n",
       "      <td>0.007226</td>\n",
       "      <td>0.055332</td>\n",
       "      <td>0.013933</td>\n",
       "      <td>-0.041744</td>\n",
       "    </tr>\n",
       "    <tr>\n",
       "      <th>month_jul</th>\n",
       "      <td>-0.003662</td>\n",
       "      <td>-0.049832</td>\n",
       "      <td>0.048653</td>\n",
       "      <td>-0.086824</td>\n",
       "      <td>-0.029806</td>\n",
       "      <td>0.163249</td>\n",
       "      <td>0.130897</td>\n",
       "      <td>0.056203</td>\n",
       "      <td>0.118163</td>\n",
       "      <td>-0.108347</td>\n",
       "      <td>...</td>\n",
       "      <td>-0.141495</td>\n",
       "      <td>-0.062613</td>\n",
       "      <td>-0.238848</td>\n",
       "      <td>-0.116849</td>\n",
       "      <td>-0.074813</td>\n",
       "      <td>-0.067954</td>\n",
       "      <td>-0.103570</td>\n",
       "      <td>-0.055530</td>\n",
       "      <td>-0.067140</td>\n",
       "      <td>0.147044</td>\n",
       "    </tr>\n",
       "    <tr>\n",
       "      <th>month_jun</th>\n",
       "      <td>0.009769</td>\n",
       "      <td>-0.036503</td>\n",
       "      <td>0.019626</td>\n",
       "      <td>0.039753</td>\n",
       "      <td>-0.073133</td>\n",
       "      <td>-0.014897</td>\n",
       "      <td>-0.182032</td>\n",
       "      <td>-0.003061</td>\n",
       "      <td>0.046763</td>\n",
       "      <td>-0.093551</td>\n",
       "      <td>...</td>\n",
       "      <td>1.000000</td>\n",
       "      <td>-0.054275</td>\n",
       "      <td>-0.207042</td>\n",
       "      <td>-0.101289</td>\n",
       "      <td>-0.064851</td>\n",
       "      <td>-0.058905</td>\n",
       "      <td>-0.074250</td>\n",
       "      <td>-0.036578</td>\n",
       "      <td>-0.020967</td>\n",
       "      <td>0.085584</td>\n",
       "    </tr>\n",
       "    <tr>\n",
       "      <th>month_mar</th>\n",
       "      <td>0.024785</td>\n",
       "      <td>0.052196</td>\n",
       "      <td>-0.020028</td>\n",
       "      <td>0.043832</td>\n",
       "      <td>-0.075948</td>\n",
       "      <td>-0.041105</td>\n",
       "      <td>-0.044303</td>\n",
       "      <td>-0.034640</td>\n",
       "      <td>-0.030574</td>\n",
       "      <td>0.024192</td>\n",
       "      <td>...</td>\n",
       "      <td>-0.054275</td>\n",
       "      <td>1.000000</td>\n",
       "      <td>-0.091618</td>\n",
       "      <td>-0.044821</td>\n",
       "      <td>-0.028697</td>\n",
       "      <td>-0.026066</td>\n",
       "      <td>-0.000021</td>\n",
       "      <td>0.026776</td>\n",
       "      <td>0.044550</td>\n",
       "      <td>-0.043056</td>\n",
       "    </tr>\n",
       "    <tr>\n",
       "      <th>month_may</th>\n",
       "      <td>-0.119656</td>\n",
       "      <td>-0.104157</td>\n",
       "      <td>-0.001761</td>\n",
       "      <td>-0.098073</td>\n",
       "      <td>0.432605</td>\n",
       "      <td>0.002778</td>\n",
       "      <td>-0.014580</td>\n",
       "      <td>0.007983</td>\n",
       "      <td>-0.044348</td>\n",
       "      <td>0.028678</td>\n",
       "      <td>...</td>\n",
       "      <td>-0.207042</td>\n",
       "      <td>-0.091618</td>\n",
       "      <td>1.000000</td>\n",
       "      <td>-0.170979</td>\n",
       "      <td>-0.109470</td>\n",
       "      <td>-0.099433</td>\n",
       "      <td>0.034538</td>\n",
       "      <td>-0.012275</td>\n",
       "      <td>-0.099107</td>\n",
       "      <td>0.047688</td>\n",
       "    </tr>\n",
       "    <tr>\n",
       "      <th>month_nov</th>\n",
       "      <td>0.026875</td>\n",
       "      <td>0.028704</td>\n",
       "      <td>0.000544</td>\n",
       "      <td>0.081861</td>\n",
       "      <td>-0.000219</td>\n",
       "      <td>0.017720</td>\n",
       "      <td>0.056471</td>\n",
       "      <td>-0.015655</td>\n",
       "      <td>-0.077307</td>\n",
       "      <td>-0.007350</td>\n",
       "      <td>...</td>\n",
       "      <td>-0.101289</td>\n",
       "      <td>-0.044821</td>\n",
       "      <td>-0.170979</td>\n",
       "      <td>1.000000</td>\n",
       "      <td>-0.053555</td>\n",
       "      <td>-0.048645</td>\n",
       "      <td>0.063342</td>\n",
       "      <td>0.005001</td>\n",
       "      <td>0.015353</td>\n",
       "      <td>-0.058439</td>\n",
       "    </tr>\n",
       "    <tr>\n",
       "      <th>month_oct</th>\n",
       "      <td>0.056998</td>\n",
       "      <td>0.027617</td>\n",
       "      <td>-0.023931</td>\n",
       "      <td>0.057041</td>\n",
       "      <td>-0.092026</td>\n",
       "      <td>-0.032357</td>\n",
       "      <td>0.072179</td>\n",
       "      <td>-0.012541</td>\n",
       "      <td>-0.071519</td>\n",
       "      <td>0.079833</td>\n",
       "      <td>...</td>\n",
       "      <td>-0.064851</td>\n",
       "      <td>-0.028697</td>\n",
       "      <td>-0.109470</td>\n",
       "      <td>-0.053555</td>\n",
       "      <td>1.000000</td>\n",
       "      <td>-0.031145</td>\n",
       "      <td>0.044624</td>\n",
       "      <td>0.010524</td>\n",
       "      <td>0.111386</td>\n",
       "      <td>-0.112154</td>\n",
       "    </tr>\n",
       "    <tr>\n",
       "      <th>month_sep</th>\n",
       "      <td>0.036352</td>\n",
       "      <td>0.030846</td>\n",
       "      <td>-0.016977</td>\n",
       "      <td>0.047841</td>\n",
       "      <td>-0.086893</td>\n",
       "      <td>-0.046196</td>\n",
       "      <td>-0.068744</td>\n",
       "      <td>-0.012077</td>\n",
       "      <td>-0.048672</td>\n",
       "      <td>0.110907</td>\n",
       "      <td>...</td>\n",
       "      <td>-0.058905</td>\n",
       "      <td>-0.026066</td>\n",
       "      <td>-0.099433</td>\n",
       "      <td>-0.048645</td>\n",
       "      <td>-0.031145</td>\n",
       "      <td>1.000000</td>\n",
       "      <td>0.029983</td>\n",
       "      <td>0.050486</td>\n",
       "      <td>0.135072</td>\n",
       "      <td>-0.137132</td>\n",
       "    </tr>\n",
       "    <tr>\n",
       "      <th>poutcome_failure</th>\n",
       "      <td>0.001994</td>\n",
       "      <td>0.019845</td>\n",
       "      <td>-0.025450</td>\n",
       "      <td>0.031040</td>\n",
       "      <td>0.085167</td>\n",
       "      <td>0.007458</td>\n",
       "      <td>-0.071175</td>\n",
       "      <td>-0.039476</td>\n",
       "      <td>-0.082282</td>\n",
       "      <td>0.608719</td>\n",
       "      <td>...</td>\n",
       "      <td>-0.074250</td>\n",
       "      <td>-0.000021</td>\n",
       "      <td>0.034538</td>\n",
       "      <td>0.063342</td>\n",
       "      <td>0.044624</td>\n",
       "      <td>0.029983</td>\n",
       "      <td>1.000000</td>\n",
       "      <td>-0.078494</td>\n",
       "      <td>-0.112774</td>\n",
       "      <td>-0.606736</td>\n",
       "    </tr>\n",
       "    <tr>\n",
       "      <th>poutcome_other</th>\n",
       "      <td>-0.020942</td>\n",
       "      <td>0.015103</td>\n",
       "      <td>-0.017923</td>\n",
       "      <td>0.028111</td>\n",
       "      <td>0.009830</td>\n",
       "      <td>-0.019289</td>\n",
       "      <td>-0.008806</td>\n",
       "      <td>-0.009497</td>\n",
       "      <td>-0.024854</td>\n",
       "      <td>0.338049</td>\n",
       "      <td>...</td>\n",
       "      <td>-0.036578</td>\n",
       "      <td>0.026776</td>\n",
       "      <td>-0.012275</td>\n",
       "      <td>0.005001</td>\n",
       "      <td>0.010524</td>\n",
       "      <td>0.050486</td>\n",
       "      <td>-0.078494</td>\n",
       "      <td>1.000000</td>\n",
       "      <td>-0.071806</td>\n",
       "      <td>-0.386326</td>\n",
       "    </tr>\n",
       "    <tr>\n",
       "      <th>poutcome_success</th>\n",
       "      <td>0.060009</td>\n",
       "      <td>0.070489</td>\n",
       "      <td>-0.041510</td>\n",
       "      <td>0.073358</td>\n",
       "      <td>-0.134477</td>\n",
       "      <td>-0.082098</td>\n",
       "      <td>-0.044366</td>\n",
       "      <td>-0.025971</td>\n",
       "      <td>-0.094260</td>\n",
       "      <td>0.326215</td>\n",
       "      <td>...</td>\n",
       "      <td>-0.020967</td>\n",
       "      <td>0.044550</td>\n",
       "      <td>-0.099107</td>\n",
       "      <td>0.015353</td>\n",
       "      <td>0.111386</td>\n",
       "      <td>0.135072</td>\n",
       "      <td>-0.112774</td>\n",
       "      <td>-0.071806</td>\n",
       "      <td>1.000000</td>\n",
       "      <td>-0.555044</td>\n",
       "    </tr>\n",
       "    <tr>\n",
       "      <th>poutcome_unknown</th>\n",
       "      <td>-0.031455</td>\n",
       "      <td>-0.069069</td>\n",
       "      <td>0.055032</td>\n",
       "      <td>-0.085456</td>\n",
       "      <td>0.024082</td>\n",
       "      <td>0.059235</td>\n",
       "      <td>0.085442</td>\n",
       "      <td>0.050571</td>\n",
       "      <td>0.134842</td>\n",
       "      <td>-0.824031</td>\n",
       "      <td>...</td>\n",
       "      <td>0.085584</td>\n",
       "      <td>-0.043056</td>\n",
       "      <td>0.047688</td>\n",
       "      <td>-0.058439</td>\n",
       "      <td>-0.112154</td>\n",
       "      <td>-0.137132</td>\n",
       "      <td>-0.606736</td>\n",
       "      <td>-0.386326</td>\n",
       "      <td>-0.555044</td>\n",
       "      <td>1.000000</td>\n",
       "    </tr>\n",
       "  </tbody>\n",
       "</table>\n",
       "<p>46 rows × 46 columns</p>\n",
       "</div>"
      ],
      "text/plain": [
       "                        age  education   default   balance   housing  \\\n",
       "age                1.000000  -0.191124 -0.009929  0.115164 -0.164196   \n",
       "education         -0.191124   1.000000 -0.015692  0.043251 -0.094350   \n",
       "default           -0.009929  -0.015692  1.000000 -0.110928  0.009551   \n",
       "balance            0.115164   0.043251 -0.110928  1.000000 -0.094919   \n",
       "housing           -0.164196  -0.094350  0.009551 -0.094919  1.000000   \n",
       "loan              -0.026357  -0.052566  0.074786 -0.113089  0.072252   \n",
       "day                0.000396   0.008989  0.018724 -0.009987 -0.022644   \n",
       "duration          -0.006007  -0.016869 -0.008162  0.025781  0.038492   \n",
       "campaign          -0.001143  -0.012280  0.033404 -0.042689  0.006257   \n",
       "pdays              0.006107   0.024123 -0.037323  0.045155  0.064138   \n",
       "previous           0.025383   0.025368 -0.036605  0.060419 -0.000221   \n",
       "deposit            0.024357   0.098253 -0.038872  0.135893 -0.200290   \n",
       "age_group          0.955070  -0.175771 -0.011711  0.104842 -0.149074   \n",
       "job_admin.        -0.057502  -0.055817 -0.022421 -0.028057  0.063547   \n",
       "job_blue-collar   -0.065917  -0.371796  0.022989 -0.049484  0.194115   \n",
       "job_entrepreneur   0.028390   0.024219  0.023264 -0.008727  0.006600   \n",
       "job_housemaid      0.092661  -0.144242  0.019273  0.000907 -0.063824   \n",
       "job_management    -0.036163   0.518735 -0.000055  0.039205 -0.077697   \n",
       "job_retired        0.545524  -0.148800 -0.018524  0.091421 -0.168785   \n",
       "job_self-employed -0.027947   0.091001  0.008924  0.009889 -0.019555   \n",
       "job_services      -0.077266  -0.103846 -0.020168 -0.037633  0.080129   \n",
       "job_student       -0.231436  -0.009494 -0.019190  0.007133 -0.124261   \n",
       "job_technician    -0.074596   0.047966  0.004419 -0.010460  0.004772   \n",
       "job_unemployed     0.001263  -0.031813  0.011120  0.009689 -0.059712   \n",
       "marital_divorced   0.185312  -0.033425  0.021028 -0.030406  0.009686   \n",
       "marital_married    0.316681  -0.133514 -0.007670  0.032056  0.036857   \n",
       "marital_single    -0.464737   0.165140 -0.006322 -0.013176 -0.045904   \n",
       "contact_cellular  -0.074062   0.172697 -0.028878  0.030039 -0.186832   \n",
       "contact_telephone  0.194455  -0.080767 -0.021596  0.061140 -0.084942   \n",
       "contact_unknown   -0.036224  -0.140256  0.044621 -0.069737  0.255649   \n",
       "month_apr         -0.026208   0.015456 -0.018812  0.050392  0.031485   \n",
       "month_aug          0.060980   0.102218 -0.003966 -0.008252 -0.235772   \n",
       "month_dec          0.031151   0.004171 -0.012456  0.027092 -0.059625   \n",
       "month_feb          0.014729   0.036743 -0.020260  0.010160 -0.079198   \n",
       "month_jan          0.017477  -0.002330  0.003382 -0.011331 -0.090039   \n",
       "month_jul         -0.003662  -0.049832  0.048653 -0.086824 -0.029806   \n",
       "month_jun          0.009769  -0.036503  0.019626  0.039753 -0.073133   \n",
       "month_mar          0.024785   0.052196 -0.020028  0.043832 -0.075948   \n",
       "month_may         -0.119656  -0.104157 -0.001761 -0.098073  0.432605   \n",
       "month_nov          0.026875   0.028704  0.000544  0.081861 -0.000219   \n",
       "month_oct          0.056998   0.027617 -0.023931  0.057041 -0.092026   \n",
       "month_sep          0.036352   0.030846 -0.016977  0.047841 -0.086893   \n",
       "poutcome_failure   0.001994   0.019845 -0.025450  0.031040  0.085167   \n",
       "poutcome_other    -0.020942   0.015103 -0.017923  0.028111  0.009830   \n",
       "poutcome_success   0.060009   0.070489 -0.041510  0.073358 -0.134477   \n",
       "poutcome_unknown  -0.031455  -0.069069  0.055032 -0.085456  0.024082   \n",
       "\n",
       "                       loan       day  duration  campaign     pdays  ...  \\\n",
       "age               -0.026357  0.000396 -0.006007 -0.001143  0.006107  ...   \n",
       "education         -0.052566  0.008989 -0.016869 -0.012280  0.024123  ...   \n",
       "default            0.074786  0.018724 -0.008162  0.033404 -0.037323  ...   \n",
       "balance           -0.113089 -0.009987  0.025781 -0.042689  0.045155  ...   \n",
       "housing            0.072252 -0.022644  0.038492  0.006257  0.064138  ...   \n",
       "loan               1.000000  0.019136  0.001476  0.033889 -0.030788  ...   \n",
       "day                0.019136  1.000000 -0.016695  0.142169 -0.078757  ...   \n",
       "duration           0.001476 -0.016695  1.000000 -0.042576 -0.033053  ...   \n",
       "campaign           0.033889  0.142169 -0.042576  1.000000 -0.105214  ...   \n",
       "pdays             -0.030788 -0.078757 -0.033053 -0.105214  1.000000  ...   \n",
       "previous          -0.020087 -0.059739 -0.034233 -0.052312  0.513708  ...   \n",
       "deposit           -0.107240 -0.056878  0.457818 -0.130707  0.147917  ...   \n",
       "age_group         -0.019037  0.005460 -0.008571  0.008031  0.004732  ...   \n",
       "job_admin.         0.049098 -0.010680 -0.023585 -0.018834  0.046293  ...   \n",
       "job_blue-collar    0.056857 -0.019876  0.032253  0.002430 -0.024269  ...   \n",
       "job_entrepreneur   0.038298 -0.005463  0.000594  0.011168 -0.026802  ...   \n",
       "job_housemaid     -0.028973  0.010920 -0.010009  0.008832 -0.023625  ...   \n",
       "job_management    -0.052683  0.003025 -0.024309  0.018159  0.010868  ...   \n",
       "job_retired       -0.045674 -0.005226  0.006052 -0.037189  0.007287  ...   \n",
       "job_self-employed  0.004113  0.001565  0.014513  0.006299 -0.012057  ...   \n",
       "job_services       0.032109  0.002787  0.013911  0.009145 -0.002427  ...   \n",
       "job_student       -0.071385 -0.010712 -0.017974 -0.023710  0.025137  ...   \n",
       "job_technician     0.009501  0.031050 -0.007488  0.022406 -0.017993  ...   \n",
       "job_unemployed    -0.039883 -0.001380  0.027641 -0.023728  0.005833  ...   \n",
       "marital_divorced   0.028408  0.003626  0.023425 -0.009653 -0.013343  ...   \n",
       "marital_married    0.044692  0.001760 -0.037747  0.055415 -0.020003  ...   \n",
       "marital_single    -0.067140 -0.004371  0.024042 -0.052335  0.030483  ...   \n",
       "contact_cellular   0.000653 -0.006511  0.022006 -0.068573  0.208006  ...   \n",
       "contact_telephone -0.016394  0.013647 -0.022244  0.056650  0.004120  ...   \n",
       "contact_unknown    0.009172 -0.001105 -0.010665  0.040870 -0.230080  ...   \n",
       "month_apr         -0.040164  0.110547  0.027398 -0.075791  0.080709  ...   \n",
       "month_aug         -0.064208 -0.001758 -0.024372  0.149425 -0.066859  ...   \n",
       "month_dec         -0.029521 -0.011651  0.007100 -0.014967  0.045581  ...   \n",
       "month_feb         -0.012067 -0.236222 -0.025231 -0.039026  0.054450  ...   \n",
       "month_jan          0.003325  0.225136 -0.010272 -0.053519  0.015399  ...   \n",
       "month_jul          0.163249  0.130897  0.056203  0.118163 -0.108347  ...   \n",
       "month_jun         -0.014897 -0.182032 -0.003061  0.046763 -0.093551  ...   \n",
       "month_mar         -0.041105 -0.044303 -0.034640 -0.030574  0.024192  ...   \n",
       "month_may          0.002778 -0.014580  0.007983 -0.044348  0.028678  ...   \n",
       "month_nov          0.017720  0.056471 -0.015655 -0.077307 -0.007350  ...   \n",
       "month_oct         -0.032357  0.072179 -0.012541 -0.071519  0.079833  ...   \n",
       "month_sep         -0.046196 -0.068744 -0.012077 -0.048672  0.110907  ...   \n",
       "poutcome_failure   0.007458 -0.071175 -0.039476 -0.082282  0.608719  ...   \n",
       "poutcome_other    -0.019289 -0.008806 -0.009497 -0.024854  0.338049  ...   \n",
       "poutcome_success  -0.082098 -0.044366 -0.025971 -0.094260  0.326215  ...   \n",
       "poutcome_unknown   0.059235  0.085442  0.050571  0.134842 -0.824031  ...   \n",
       "\n",
       "                   month_jun  month_mar  month_may  month_nov  month_oct  \\\n",
       "age                 0.009769   0.024785  -0.119656   0.026875   0.056998   \n",
       "education          -0.036503   0.052196  -0.104157   0.028704   0.027617   \n",
       "default             0.019626  -0.020028  -0.001761   0.000544  -0.023931   \n",
       "balance             0.039753   0.043832  -0.098073   0.081861   0.057041   \n",
       "housing            -0.073133  -0.075948   0.432605  -0.000219  -0.092026   \n",
       "loan               -0.014897  -0.041105   0.002778   0.017720  -0.032357   \n",
       "day                -0.182032  -0.044303  -0.014580   0.056471   0.072179   \n",
       "duration           -0.003061  -0.034640   0.007983  -0.015655  -0.012541   \n",
       "campaign            0.046763  -0.030574  -0.044348  -0.077307  -0.071519   \n",
       "pdays              -0.093551   0.024192   0.028678  -0.007350   0.079833   \n",
       "previous           -0.050067   0.025225  -0.025077   0.019722   0.055077   \n",
       "deposit            -0.008533   0.135348  -0.168203  -0.027754   0.130599   \n",
       "age_group           0.004639   0.015106  -0.111993   0.037585   0.045988   \n",
       "job_admin.         -0.001089   0.003533   0.027696  -0.008095   0.006208   \n",
       "job_blue-collar     0.032766  -0.055255   0.170969  -0.025624  -0.051792   \n",
       "job_entrepreneur    0.026586  -0.019403  -0.018227   0.045535  -0.019363   \n",
       "job_housemaid       0.049777   0.004569  -0.053982  -0.005830   0.012923   \n",
       "job_management     -0.026360   0.036884  -0.095434   0.030269   0.010856   \n",
       "job_retired        -0.010806   0.046085  -0.090053  -0.016737   0.071483   \n",
       "job_self-employed   0.004955   0.002135  -0.017982   0.026810   0.009364   \n",
       "job_services        0.012644  -0.012503   0.066271  -0.019849  -0.031120   \n",
       "job_student        -0.017265   0.023515  -0.032509  -0.004541   0.031885   \n",
       "job_technician     -0.030950  -0.016709  -0.009936  -0.008488  -0.003454   \n",
       "job_unemployed     -0.004043   0.004451  -0.036727   0.009096  -0.003121   \n",
       "marital_divorced    0.013260   0.004882   0.009281   0.011729  -0.001757   \n",
       "marital_married     0.002957  -0.030392  -0.031935   0.033558  -0.013898   \n",
       "marital_single     -0.012282   0.028986   0.027599  -0.043800   0.016004   \n",
       "contact_cellular   -0.319383   0.064403  -0.337438   0.108127   0.032717   \n",
       "contact_telephone  -0.064427   0.006604  -0.076916   0.029959   0.069496   \n",
       "contact_unknown     0.388312  -0.074450   0.415598  -0.136376  -0.077706   \n",
       "month_apr          -0.104766  -0.046360  -0.176848  -0.086518  -0.055393   \n",
       "month_aug          -0.139574  -0.061763  -0.235606  -0.115263  -0.073798   \n",
       "month_dec          -0.033754  -0.014936  -0.056977  -0.027874  -0.017847   \n",
       "month_feb          -0.096203  -0.042571  -0.162394  -0.079446  -0.050866   \n",
       "month_jan          -0.063231  -0.027980  -0.106736  -0.052217  -0.033432   \n",
       "month_jul          -0.141495  -0.062613  -0.238848  -0.116849  -0.074813   \n",
       "month_jun           1.000000  -0.054275  -0.207042  -0.101289  -0.064851   \n",
       "month_mar          -0.054275   1.000000  -0.091618  -0.044821  -0.028697   \n",
       "month_may          -0.207042  -0.091618   1.000000  -0.170979  -0.109470   \n",
       "month_nov          -0.101289  -0.044821  -0.170979   1.000000  -0.053555   \n",
       "month_oct          -0.064851  -0.028697  -0.109470  -0.053555   1.000000   \n",
       "month_sep          -0.058905  -0.026066  -0.099433  -0.048645  -0.031145   \n",
       "poutcome_failure   -0.074250  -0.000021   0.034538   0.063342   0.044624   \n",
       "poutcome_other     -0.036578   0.026776  -0.012275   0.005001   0.010524   \n",
       "poutcome_success   -0.020967   0.044550  -0.099107   0.015353   0.111386   \n",
       "poutcome_unknown    0.085584  -0.043056   0.047688  -0.058439  -0.112154   \n",
       "\n",
       "                   month_sep  poutcome_failure  poutcome_other  \\\n",
       "age                 0.036352          0.001994       -0.020942   \n",
       "education           0.030846          0.019845        0.015103   \n",
       "default            -0.016977         -0.025450       -0.017923   \n",
       "balance             0.047841          0.031040        0.028111   \n",
       "housing            -0.086893          0.085167        0.009830   \n",
       "loan               -0.046196          0.007458       -0.019289   \n",
       "day                -0.068744         -0.071175       -0.008806   \n",
       "duration           -0.012077         -0.039476       -0.009497   \n",
       "campaign           -0.048672         -0.082282       -0.024854   \n",
       "pdays               0.110907          0.608719        0.338049   \n",
       "previous            0.099795          0.347800        0.318888   \n",
       "deposit             0.125239          0.021124        0.039319   \n",
       "age_group           0.021511          0.006886       -0.023720   \n",
       "job_admin.          0.006847          0.038762        0.008044   \n",
       "job_blue-collar    -0.045333         -0.015957        0.003622   \n",
       "job_entrepreneur   -0.008032          0.002007       -0.022674   \n",
       "job_housemaid      -0.007499         -0.015545       -0.008928   \n",
       "job_management      0.037880          0.004471        0.010845   \n",
       "job_retired         0.062945         -0.011205       -0.002926   \n",
       "job_self-employed  -0.019143         -0.009059        0.004926   \n",
       "job_services       -0.023491         -0.003684       -0.015454   \n",
       "job_student         0.027500         -0.006769        0.040725   \n",
       "job_technician     -0.024729          0.005355       -0.011311   \n",
       "job_unemployed      0.002940         -0.009655       -0.012524   \n",
       "marital_divorced   -0.010148         -0.024844       -0.008730   \n",
       "marital_married    -0.019805          0.011364       -0.030038   \n",
       "marital_single      0.028071          0.005018        0.037987   \n",
       "contact_cellular    0.053452          0.166336        0.091506   \n",
       "contact_telephone   0.024017         -0.005817        0.014167   \n",
       "contact_unknown    -0.072969         -0.178493       -0.108666   \n",
       "month_apr          -0.050315          0.067926        0.041458   \n",
       "month_aug          -0.067031         -0.062600       -0.040444   \n",
       "month_dec          -0.016210          0.002631        0.036861   \n",
       "month_feb          -0.046202          0.060970        0.038671   \n",
       "month_jan          -0.030367          0.007226        0.055332   \n",
       "month_jul          -0.067954         -0.103570       -0.055530   \n",
       "month_jun          -0.058905         -0.074250       -0.036578   \n",
       "month_mar          -0.026066         -0.000021        0.026776   \n",
       "month_may          -0.099433          0.034538       -0.012275   \n",
       "month_nov          -0.048645          0.063342        0.005001   \n",
       "month_oct          -0.031145          0.044624        0.010524   \n",
       "month_sep           1.000000          0.029983        0.050486   \n",
       "poutcome_failure    0.029983          1.000000       -0.078494   \n",
       "poutcome_other      0.050486         -0.078494        1.000000   \n",
       "poutcome_success    0.135072         -0.112774       -0.071806   \n",
       "poutcome_unknown   -0.137132         -0.606736       -0.386326   \n",
       "\n",
       "                   poutcome_success  poutcome_unknown  \n",
       "age                        0.060009         -0.031455  \n",
       "education                  0.070489         -0.069069  \n",
       "default                   -0.041510          0.055032  \n",
       "balance                    0.073358         -0.085456  \n",
       "housing                   -0.134477          0.024082  \n",
       "loan                      -0.082098          0.059235  \n",
       "day                       -0.044366          0.085442  \n",
       "duration                  -0.025971          0.050571  \n",
       "campaign                  -0.094260          0.134842  \n",
       "pdays                      0.326215         -0.824031  \n",
       "previous                   0.328978         -0.628346  \n",
       "deposit                    0.288491         -0.228300  \n",
       "age_group                  0.046618         -0.024625  \n",
       "job_admin.                 0.004628         -0.035007  \n",
       "job_blue-collar           -0.074494          0.059758  \n",
       "job_entrepreneur          -0.034155          0.032629  \n",
       "job_housemaid             -0.005594          0.019350  \n",
       "job_management             0.035995         -0.032725  \n",
       "job_retired                0.070006         -0.037501  \n",
       "job_self-employed         -0.000882          0.004705  \n",
       "job_services              -0.028109          0.029125  \n",
       "job_student                0.060619         -0.055835  \n",
       "job_technician            -0.018613          0.014196  \n",
       "job_unemployed             0.030416         -0.007316  \n",
       "marital_divorced          -0.020206          0.035771  \n",
       "marital_married           -0.008541          0.012296  \n",
       "marital_single             0.023010         -0.037729  \n",
       "contact_cellular           0.148420         -0.264559  \n",
       "contact_telephone          0.000254         -0.002934  \n",
       "contact_unknown           -0.162550          0.291242  \n",
       "month_apr                 -0.000767         -0.068823  \n",
       "month_aug                  0.007390          0.060037  \n",
       "month_dec                  0.068706         -0.066145  \n",
       "month_feb                  0.035524         -0.086813  \n",
       "month_jan                  0.013933         -0.041744  \n",
       "month_jul                 -0.067140          0.147044  \n",
       "month_jun                 -0.020967          0.085584  \n",
       "month_mar                  0.044550         -0.043056  \n",
       "month_may                 -0.099107          0.047688  \n",
       "month_nov                  0.015353         -0.058439  \n",
       "month_oct                  0.111386         -0.112154  \n",
       "month_sep                  0.135072         -0.137132  \n",
       "poutcome_failure          -0.112774         -0.606736  \n",
       "poutcome_other            -0.071806         -0.386326  \n",
       "poutcome_success           1.000000         -0.555044  \n",
       "poutcome_unknown          -0.555044          1.000000  \n",
       "\n",
       "[46 rows x 46 columns]"
      ]
     },
     "metadata": {},
     "output_type": "display_data"
    }
   ],
   "source": [
    "display(df.corr())"
   ]
  },
  {
   "cell_type": "markdown",
   "id": "9a23e318",
   "metadata": {},
   "source": [
    "### Задания 5 и 6"
   ]
  },
  {
   "cell_type": "code",
   "execution_count": 605,
   "id": "1c884c1a",
   "metadata": {},
   "outputs": [],
   "source": [
    "# постройте корреляционную матрицу и оцените данные на предмет наличия мультиколлинеарности"
   ]
  },
  {
   "cell_type": "markdown",
   "id": "b5b4c1a5",
   "metadata": {},
   "source": [
    "### Задания 7 и 8"
   ]
  },
  {
   "cell_type": "code",
   "execution_count": 606,
   "id": "79f3e432",
   "metadata": {},
   "outputs": [],
   "source": [
    "X = df.drop(['deposit'], axis=1)\n",
    "y = df['deposit']\n",
    " \n",
    "X_train, X_test, y_train, y_test = train_test_split(X, y, stratify=y, random_state = 42, test_size = 0.33)"
   ]
  },
  {
   "cell_type": "code",
   "execution_count": 607,
   "id": "e3a097a4",
   "metadata": {},
   "outputs": [
    {
     "name": "stdout",
     "output_type": "stream",
     "text": [
      "<class 'pandas.core.frame.DataFrame'>\n",
      "Int64Index: 3335 entries, 3333 to 3818\n",
      "Data columns (total 45 columns):\n",
      " #   Column             Non-Null Count  Dtype  \n",
      "---  ------             --------------  -----  \n",
      " 0   age                3335 non-null   int64  \n",
      " 1   education          3335 non-null   int32  \n",
      " 2   default            3335 non-null   int64  \n",
      " 3   balance            3335 non-null   float64\n",
      " 4   housing            3335 non-null   int64  \n",
      " 5   loan               3335 non-null   int64  \n",
      " 6   day                3335 non-null   int64  \n",
      " 7   duration           3335 non-null   int64  \n",
      " 8   campaign           3335 non-null   int64  \n",
      " 9   pdays              3335 non-null   int64  \n",
      " 10  previous           3335 non-null   int64  \n",
      " 11  age_group          3335 non-null   int64  \n",
      " 12  job_admin.         3335 non-null   uint8  \n",
      " 13  job_blue-collar    3335 non-null   uint8  \n",
      " 14  job_entrepreneur   3335 non-null   uint8  \n",
      " 15  job_housemaid      3335 non-null   uint8  \n",
      " 16  job_management     3335 non-null   uint8  \n",
      " 17  job_retired        3335 non-null   uint8  \n",
      " 18  job_self-employed  3335 non-null   uint8  \n",
      " 19  job_services       3335 non-null   uint8  \n",
      " 20  job_student        3335 non-null   uint8  \n",
      " 21  job_technician     3335 non-null   uint8  \n",
      " 22  job_unemployed     3335 non-null   uint8  \n",
      " 23  marital_divorced   3335 non-null   uint8  \n",
      " 24  marital_married    3335 non-null   uint8  \n",
      " 25  marital_single     3335 non-null   uint8  \n",
      " 26  contact_cellular   3335 non-null   uint8  \n",
      " 27  contact_telephone  3335 non-null   uint8  \n",
      " 28  contact_unknown    3335 non-null   uint8  \n",
      " 29  month_apr          3335 non-null   uint8  \n",
      " 30  month_aug          3335 non-null   uint8  \n",
      " 31  month_dec          3335 non-null   uint8  \n",
      " 32  month_feb          3335 non-null   uint8  \n",
      " 33  month_jan          3335 non-null   uint8  \n",
      " 34  month_jul          3335 non-null   uint8  \n",
      " 35  month_jun          3335 non-null   uint8  \n",
      " 36  month_mar          3335 non-null   uint8  \n",
      " 37  month_may          3335 non-null   uint8  \n",
      " 38  month_nov          3335 non-null   uint8  \n",
      " 39  month_oct          3335 non-null   uint8  \n",
      " 40  month_sep          3335 non-null   uint8  \n",
      " 41  poutcome_failure   3335 non-null   uint8  \n",
      " 42  poutcome_other     3335 non-null   uint8  \n",
      " 43  poutcome_success   3335 non-null   uint8  \n",
      " 44  poutcome_unknown   3335 non-null   uint8  \n",
      "dtypes: float64(1), int32(1), int64(10), uint8(33)\n",
      "memory usage: 433.2 KB\n"
     ]
    },
    {
     "data": {
      "text/plain": [
       "0.46"
      ]
     },
     "execution_count": 607,
     "metadata": {},
     "output_type": "execute_result"
    }
   ],
   "source": [
    "X_test.info()\n",
    "round(y_test.mean(), 2)"
   ]
  },
  {
   "cell_type": "markdown",
   "id": "2e381a4f",
   "metadata": {},
   "source": [
    "### Задание 9"
   ]
  },
  {
   "cell_type": "code",
   "execution_count": 608,
   "id": "0f6e03e0",
   "metadata": {},
   "outputs": [],
   "source": [
    "# с помощью SelectKBest отберите 15 наиболее подходящих признаков\n",
    "selector = SelectKBest(f_classif, k=15)\n",
    "selector.fit(X_train, y_train)\n",
    "\n",
    "a=list(selector.get_feature_names_out())"
   ]
  },
  {
   "cell_type": "code",
   "execution_count": 609,
   "id": "8a0c9dd5",
   "metadata": {},
   "outputs": [
    {
     "data": {
      "text/plain": [
       "['balance',\n",
       " 'housing',\n",
       " 'loan',\n",
       " 'duration',\n",
       " 'campaign',\n",
       " 'pdays',\n",
       " 'previous',\n",
       " 'contact_cellular',\n",
       " 'contact_unknown',\n",
       " 'month_mar',\n",
       " 'month_may',\n",
       " 'month_oct',\n",
       " 'month_sep',\n",
       " 'poutcome_success',\n",
       " 'poutcome_unknown']"
      ]
     },
     "execution_count": 609,
     "metadata": {},
     "output_type": "execute_result"
    }
   ],
   "source": [
    "a"
   ]
  },
  {
   "cell_type": "markdown",
   "id": "60132ef3",
   "metadata": {},
   "source": [
    "### Задание 10"
   ]
  },
  {
   "cell_type": "code",
   "execution_count": 611,
   "id": "cc376a91",
   "metadata": {},
   "outputs": [],
   "source": [
    "X_train = X_train[a]"
   ]
  },
  {
   "cell_type": "code",
   "execution_count": 612,
   "id": "47ec2735",
   "metadata": {},
   "outputs": [],
   "source": [
    "X_test = X_test[a]"
   ]
  },
  {
   "cell_type": "code",
   "execution_count": 613,
   "id": "e91b06f3",
   "metadata": {},
   "outputs": [
    {
     "data": {
      "text/plain": [
       "0.47"
      ]
     },
     "execution_count": 613,
     "metadata": {},
     "output_type": "execute_result"
    }
   ],
   "source": [
    "mm_scaler = preprocessing.MinMaxScaler()\n",
    "mm_scaler.fit(X_train)\n",
    "X_train_scaled = mm_scaler.transform(X_train)\n",
    "X_test_scaled = mm_scaler.transform(X_test)\n",
    "X_test_scaled[:, 0].mean().round(2)"
   ]
  },
  {
   "cell_type": "code",
   "execution_count": 614,
   "id": "9a19c37a",
   "metadata": {},
   "outputs": [
    {
     "name": "stdout",
     "output_type": "stream",
     "text": [
      "<class 'pandas.core.frame.DataFrame'>\n",
      "Int64Index: 3335 entries, 3333 to 3818\n",
      "Data columns (total 15 columns):\n",
      " #   Column            Non-Null Count  Dtype  \n",
      "---  ------            --------------  -----  \n",
      " 0   balance           3335 non-null   float64\n",
      " 1   housing           3335 non-null   int64  \n",
      " 2   loan              3335 non-null   int64  \n",
      " 3   duration          3335 non-null   int64  \n",
      " 4   campaign          3335 non-null   int64  \n",
      " 5   pdays             3335 non-null   int64  \n",
      " 6   previous          3335 non-null   int64  \n",
      " 7   contact_cellular  3335 non-null   uint8  \n",
      " 8   contact_unknown   3335 non-null   uint8  \n",
      " 9   month_mar         3335 non-null   uint8  \n",
      " 10  month_may         3335 non-null   uint8  \n",
      " 11  month_oct         3335 non-null   uint8  \n",
      " 12  month_sep         3335 non-null   uint8  \n",
      " 13  poutcome_success  3335 non-null   uint8  \n",
      " 14  poutcome_unknown  3335 non-null   uint8  \n",
      "dtypes: float64(1), int64(6), uint8(8)\n",
      "memory usage: 234.5 KB\n"
     ]
    }
   ],
   "source": [
    "X_test.info()"
   ]
  },
  {
   "cell_type": "code",
   "execution_count": 615,
   "id": "aedffa6c",
   "metadata": {},
   "outputs": [
    {
     "data": {
      "text/plain": [
       "array([[0.36060209, 0.        , 0.        , ..., 0.        , 1.        ,\n",
       "        0.        ],\n",
       "       [0.41901178, 0.        , 0.        , ..., 0.        , 0.        ,\n",
       "        1.        ],\n",
       "       [0.56479058, 0.        , 0.        , ..., 0.        , 0.        ,\n",
       "        0.        ],\n",
       "       ...,\n",
       "       [0.28435864, 1.        , 0.        , ..., 0.        , 0.        ,\n",
       "        0.        ],\n",
       "       [0.37614529, 0.        , 1.        , ..., 0.        , 0.        ,\n",
       "        1.        ],\n",
       "       [0.36878272, 0.        , 0.        , ..., 0.        , 1.        ,\n",
       "        0.        ]])"
      ]
     },
     "execution_count": 615,
     "metadata": {},
     "output_type": "execute_result"
    }
   ],
   "source": [
    "X_test_scaled"
   ]
  },
  {
   "cell_type": "code",
   "execution_count": 616,
   "id": "67513062",
   "metadata": {},
   "outputs": [
    {
     "data": {
      "text/plain": [
       "0.47"
      ]
     },
     "execution_count": 616,
     "metadata": {},
     "output_type": "execute_result"
    }
   ],
   "source": [
    "X_test_scaled[:,0].mean().round(2)"
   ]
  },
  {
   "cell_type": "markdown",
   "id": "0894c632",
   "metadata": {},
   "source": [
    "# Часть 4: Решение задачи классификации: логистическая регрессия и решающие деревья"
   ]
  },
  {
   "cell_type": "markdown",
   "id": "41b8ff06",
   "metadata": {},
   "source": [
    "### Задание 1"
   ]
  },
  {
   "cell_type": "code",
   "execution_count": null,
   "id": "8acc0166",
   "metadata": {},
   "outputs": [],
   "source": [
    "# обучите логистическую регрессию и рассчитайте метрики качества"
   ]
  },
  {
   "cell_type": "markdown",
   "id": "29b7e0ba",
   "metadata": {},
   "source": [
    "### Задания 2,3,4"
   ]
  },
  {
   "cell_type": "code",
   "execution_count": null,
   "id": "c91a588b",
   "metadata": {},
   "outputs": [],
   "source": [
    "# обучите решающие деревья, настройте максимальную глубину"
   ]
  },
  {
   "cell_type": "markdown",
   "id": "fe823c18",
   "metadata": {},
   "source": [
    "### Задание 5"
   ]
  },
  {
   "cell_type": "code",
   "execution_count": null,
   "id": "63574943",
   "metadata": {},
   "outputs": [],
   "source": [
    "# подберите оптимальные параметры с помощью gridsearch"
   ]
  },
  {
   "cell_type": "markdown",
   "id": "ed0fc831",
   "metadata": {},
   "source": [
    "# Часть 5: Решение задачи классификации: ансамбли моделей и построение прогноза"
   ]
  },
  {
   "cell_type": "markdown",
   "id": "f9e36ff2",
   "metadata": {},
   "source": [
    "### Задание 1"
   ]
  },
  {
   "cell_type": "code",
   "execution_count": null,
   "id": "e708e3fe",
   "metadata": {},
   "outputs": [],
   "source": [
    "# обучите на ваших данных случайный лес"
   ]
  },
  {
   "cell_type": "markdown",
   "id": "71d7b13d",
   "metadata": {},
   "source": [
    "### Задания 2 и 3"
   ]
  },
  {
   "cell_type": "code",
   "execution_count": null,
   "id": "99f12dfe",
   "metadata": {},
   "outputs": [],
   "source": [
    "# используйте для классификации градиентный бустинг и сравните качество со случайным лесом"
   ]
  },
  {
   "cell_type": "markdown",
   "id": "b08718ae",
   "metadata": {},
   "source": [
    "### Задание 4"
   ]
  },
  {
   "cell_type": "code",
   "execution_count": null,
   "id": "0bd42fb0",
   "metadata": {},
   "outputs": [],
   "source": [
    "# объедините уже известные вам алгоритмы с помощью стекинга "
   ]
  },
  {
   "cell_type": "markdown",
   "id": "6247a5fb",
   "metadata": {},
   "source": [
    "### Задание 5"
   ]
  },
  {
   "cell_type": "code",
   "execution_count": null,
   "id": "35de769c",
   "metadata": {},
   "outputs": [],
   "source": [
    "# оцените, какие признаки демонстрируют наибольшую  важность в модели градиентного бустинга"
   ]
  },
  {
   "cell_type": "markdown",
   "id": "96974dda",
   "metadata": {},
   "source": [
    "### Задания 6,7,8"
   ]
  },
  {
   "cell_type": "code",
   "execution_count": null,
   "id": "c48e29e9",
   "metadata": {},
   "outputs": [],
   "source": [
    "# реализуйте оптимизацию гиперпараметров с помощью Optuna"
   ]
  }
 ],
 "metadata": {
  "kernelspec": {
   "display_name": "Python 3.8.2 64-bit",
   "language": "python",
   "name": "python3"
  },
  "language_info": {
   "codemirror_mode": {
    "name": "ipython",
    "version": 3
   },
   "file_extension": ".py",
   "mimetype": "text/x-python",
   "name": "python",
   "nbconvert_exporter": "python",
   "pygments_lexer": "ipython3",
   "version": "3.9.13"
  },
  "vscode": {
   "interpreter": {
    "hash": "570feb405e2e27c949193ac68f46852414290d515b0ba6e5d90d076ed2284471"
   }
  }
 },
 "nbformat": 4,
 "nbformat_minor": 5
}
