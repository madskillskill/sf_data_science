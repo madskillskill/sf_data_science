{
 "cells": [
  {
   "cell_type": "code",
   "execution_count": null,
   "metadata": {},
   "outputs": [],
   "source": [
    "import pandas as pd\n",
    "\n",
    "melb_data = pd.read_csv('data/melb_data_ps.csv', sep=',')\n",
    "melb_data.head()\n",
    "\n",
    "countries_df = pd.DataFrame({\n",
    "    'country': ['Англия', 'Канада', 'США', 'Россия', 'Украина', 'Беларусь', 'Казахстан'],\n",
    "    'population': [56.29, 38.05, 322.28, 146.24, 45.5, 9.5, 17.04],\n",
    "    'square': [133396, 9984670, 9826630, 17125191, 603628, 207600, 2724902]\n",
    "})\n",
    "\n",
    "countries_df.to_csv('data/countries.csv', index=False, sep=';')"
   ]
  },
  {
   "cell_type": "code",
   "execution_count": null,
   "metadata": {},
   "outputs": [],
   "source": [
    "melb_data = pd.read_csv('data/melb_data.csv', sep=',')\n",
    "x = (melb_data.loc[[3521], 'Landsize'])\n",
    "y = (melb_data.loc[[1690], 'Landsize'])\n",
    "\n",
    "#display(melb_data.head(),melb_data.tail(7))\n",
    "melb_data['Car'] = melb_data['Car'].astype('int64')\n",
    "melb_data['Bedroom'] = melb_data['Bedroom'].astype('int64')\n",
    "melb_data['Bathroom'] = melb_data['Bathroom'].astype('int64')\n",
    "melb_data['Propertycount'] = melb_data['Propertycount'].astype('int64')\n",
    "melb_data['YearBuilt'] = melb_data['YearBuilt'].astype('int64')\n",
    "#melb_data.info()\n",
    "\n",
    "#melb_data.describe().loc[:, ['Distance', 'BuildingArea' , 'Price']]\n",
    "#print(melb_data['Distance'].std())\n",
    "\n",
    "#landsize_median = melb_data['BuildingArea'].median() \n",
    "#landsize_mean =  melb_data['BuildingArea'].mean()\n",
    "#print(abs(landsize_median - landsize_mean)/landsize_mean)\n",
    "\n",
    "#print(melb_data['Bedroom'].mean())\n",
    "#display(melb_data.info())\n",
    "#mask = melb_data['Price'] > 2000000\n",
    "\n"
   ]
  },
  {
   "cell_type": "code",
   "execution_count": null,
   "metadata": {},
   "outputs": [],
   "source": [
    "import pandas as pd\n",
    "melb_data = pd.read_csv('data/melb_data.csv', sep=',')\n",
    "student_data = pd.read_csv('data/students_performance.csv', sep=',')\n",
    "print(student_data.info())\n",
    "#display(melb_data.describe().loc[(melb_data['Price'] < 1000000) & ((melb_data['Rooms'] > 5)|(melb_data['YearBuilt'] > 2015)).shape[0]])\n",
    "display(melb_data[melb_data['Type'] == 't']['Rooms'].max())\n",
    "display(student_data[student_data['test preparation course'] == 'completed']['reading score'].mean())\n",
    "display(student_data[student_data['math score'] == 0])\n",
    "\n",
    "display(student_data[student_data['lunch'] == 'free/reduced']['math score'].mean())\n",
    "display(student_data[student_data['parental level of education'] == 'bachelor\\'s degree'])\n",
    "print(student_data[student_data['race/ethnicity'] == 'group A']['writing score'].median())\n",
    "print(student_data[student_data['race/ethnicity'] == 'group C']['writing score'].mean())"
   ]
  },
  {
   "cell_type": "code",
   "execution_count": null,
   "metadata": {},
   "outputs": [],
   "source": []
  }
 ],
 "metadata": {
  "interpreter": {
   "hash": "38740d3277777e2cd7c6c2cc9d8addf5118fdf3f82b1b39231fd12aeac8aee8b"
  },
  "kernelspec": {
   "display_name": "Python 3.10.4 64-bit",
   "language": "python",
   "name": "python3"
  },
  "language_info": {
   "codemirror_mode": {
    "name": "ipython",
    "version": 3
   },
   "file_extension": ".py",
   "mimetype": "text/x-python",
   "name": "python",
   "nbconvert_exporter": "python",
   "pygments_lexer": "ipython3",
   "version": "3.10.4"
  },
  "orig_nbformat": 4
 },
 "nbformat": 4,
 "nbformat_minor": 2
}
