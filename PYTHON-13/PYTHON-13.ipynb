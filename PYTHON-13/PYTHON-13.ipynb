{
 "cells": [
  {
   "cell_type": "code",
   "execution_count": null,
   "metadata": {},
   "outputs": [],
   "source": [
    "import pandas as pd\n",
    "import numpy as nu\n",
    "import matplotlib.pyplot as plt\n",
    "import seaborn as sns\n",
    "import plotly.express as px\n",
    "\n",
    "vd = pd.read_csv('data/country_vaccinations.csv')\n",
    "vd = vd[\n",
    "    ['country', 'date', 'total_vaccinations', \n",
    "     'people_vaccinated', 'people_vaccinated_per_hundred',\n",
    "     'people_fully_vaccinated', 'people_fully_vaccinated_per_hundred',\n",
    "     'daily_vaccinations', 'vaccines']\n",
    "]\n",
    "vd['date'] = pd.to_datetime(vd['date'])\n",
    "display(vd.info())\n",
    "\n",
    "cd = pd.read_csv('data/covid_data.csv')\n",
    "\n",
    "cd['date'] = pd.to_datetime(cd['date'])\n",
    "display(cd.info())\n",
    "\n",
    "cd = cd.groupby(\n",
    "    ['date', 'country'], \n",
    "    as_index=False\n",
    ")[['confirmed', 'deaths', 'recovered']].sum()\n",
    "\n",
    "cd['active'] = cd['confirmed'] - cd['deaths'] - cd['recovered']\n",
    "\n",
    "cd = cd.sort_values(by=['country', 'date'])\n",
    "cd['daily_confirmed'] = cd.groupby('country')['confirmed'].diff()\n",
    "cd['daily_deaths'] = cd.groupby('country')['deaths'].diff()\n",
    "cd['daily_recovered'] = cd.groupby('country')['recovered'].diff()\n",
    "\n",
    "display(cd['date'].min())\n",
    "display(cd['date'].max())\n",
    "\n",
    "display(vd['date'].min())\n",
    "display(vd['date'].max())\n",
    "\n",
    "c_df = cd.merge(vd, how='left')\n",
    "print(c_df.info())"
   ]
  },
  {
   "cell_type": "code",
   "execution_count": null,
   "metadata": {},
   "outputs": [],
   "source": [
    "c_df = c_df.sort_values(by=['country', 'date'])\n",
    "c_df['death_rate']=c_df.groupby('country')['deaths'].diff()\n",
    "c_df['recover_rate']=c_df.groupby('country')['confirmed'].diff()\n",
    "display(c_df['death_rate'].describe())\n",
    "display(c_df['recover_rate'].describe())\n",
    "display(c_df['country'].value_counts())\n",
    "\n",
    "display(c_df[c_df['country']=='United States']['death_rate'].max())"
   ]
  }
 ],
 "metadata": {
  "interpreter": {
   "hash": "1baa965d5efe3ac65b79dfc60c0d706280b1da80fedb7760faf2759126c4f253"
  },
  "kernelspec": {
   "display_name": "Python 3.8.2 64-bit",
   "language": "python",
   "name": "python3"
  },
  "language_info": {
   "codemirror_mode": {
    "name": "ipython",
    "version": 3
   },
   "file_extension": ".py",
   "mimetype": "text/x-python",
   "name": "python",
   "nbconvert_exporter": "python",
   "pygments_lexer": "ipython3",
   "version": "3.8.2"
  },
  "orig_nbformat": 4
 },
 "nbformat": 4,
 "nbformat_minor": 2
}
