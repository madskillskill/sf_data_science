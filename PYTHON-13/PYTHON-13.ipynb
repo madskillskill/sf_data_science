{
 "cells": [
  {
   "cell_type": "code",
   "execution_count": 1,
   "metadata": {},
   "outputs": [
    {
     "name": "stdout",
     "output_type": "stream",
     "text": [
      "<class 'pandas.core.frame.DataFrame'>\n",
      "RangeIndex: 42795 entries, 0 to 42794\n",
      "Data columns (total 9 columns):\n",
      " #   Column                               Non-Null Count  Dtype         \n",
      "---  ------                               --------------  -----         \n",
      " 0   country                              42795 non-null  object        \n",
      " 1   date                                 42795 non-null  datetime64[ns]\n",
      " 2   total_vaccinations                   23457 non-null  float64       \n",
      " 3   people_vaccinated                    22371 non-null  float64       \n",
      " 4   people_vaccinated_per_hundred        22371 non-null  float64       \n",
      " 5   people_fully_vaccinated              19462 non-null  float64       \n",
      " 6   people_fully_vaccinated_per_hundred  19462 non-null  float64       \n",
      " 7   daily_vaccinations                   42558 non-null  float64       \n",
      " 8   vaccines                             42795 non-null  object        \n",
      "dtypes: datetime64[ns](1), float64(6), object(2)\n",
      "memory usage: 2.9+ MB\n"
     ]
    },
    {
     "data": {
      "text/plain": [
       "None"
      ]
     },
     "metadata": {},
     "output_type": "display_data"
    },
    {
     "name": "stdout",
     "output_type": "stream",
     "text": [
      "<class 'pandas.core.frame.DataFrame'>\n",
      "RangeIndex: 306429 entries, 0 to 306428\n",
      "Data columns (total 6 columns):\n",
      " #   Column          Non-Null Count   Dtype         \n",
      "---  ------          --------------   -----         \n",
      " 0   date            306429 non-null  datetime64[ns]\n",
      " 1   province/state  228329 non-null  object        \n",
      " 2   country         306429 non-null  object        \n",
      " 3   confirmed       306429 non-null  float64       \n",
      " 4   deaths          306429 non-null  float64       \n",
      " 5   recovered       306429 non-null  float64       \n",
      "dtypes: datetime64[ns](1), float64(3), object(2)\n",
      "memory usage: 14.0+ MB\n"
     ]
    },
    {
     "data": {
      "text/plain": [
       "None"
      ]
     },
     "metadata": {},
     "output_type": "display_data"
    },
    {
     "data": {
      "text/plain": [
       "Timestamp('2020-01-22 00:00:00')"
      ]
     },
     "metadata": {},
     "output_type": "display_data"
    },
    {
     "data": {
      "text/plain": [
       "Timestamp('2021-05-29 00:00:00')"
      ]
     },
     "metadata": {},
     "output_type": "display_data"
    },
    {
     "data": {
      "text/plain": [
       "Timestamp('2020-12-02 00:00:00')"
      ]
     },
     "metadata": {},
     "output_type": "display_data"
    },
    {
     "data": {
      "text/plain": [
       "Timestamp('2021-09-06 00:00:00')"
      ]
     },
     "metadata": {},
     "output_type": "display_data"
    },
    {
     "name": "stdout",
     "output_type": "stream",
     "text": [
      "<class 'pandas.core.frame.DataFrame'>\n",
      "Int64Index: 86785 entries, 0 to 86784\n",
      "Data columns (total 16 columns):\n",
      " #   Column                               Non-Null Count  Dtype         \n",
      "---  ------                               --------------  -----         \n",
      " 0   date                                 86785 non-null  datetime64[ns]\n",
      " 1   country                              86785 non-null  object        \n",
      " 2   confirmed                            86785 non-null  float64       \n",
      " 3   deaths                               86785 non-null  float64       \n",
      " 4   recovered                            86785 non-null  float64       \n",
      " 5   active                               86785 non-null  float64       \n",
      " 6   daily_confirmed                      86564 non-null  float64       \n",
      " 7   daily_deaths                         86564 non-null  float64       \n",
      " 8   daily_recovered                      86564 non-null  float64       \n",
      " 9   total_vaccinations                   10629 non-null  float64       \n",
      " 10  people_vaccinated                    10007 non-null  float64       \n",
      " 11  people_vaccinated_per_hundred        10007 non-null  float64       \n",
      " 12  people_fully_vaccinated              7695 non-null   float64       \n",
      " 13  people_fully_vaccinated_per_hundred  7695 non-null   float64       \n",
      " 14  daily_vaccinations                   18264 non-null  float64       \n",
      " 15  vaccines                             18451 non-null  object        \n",
      "dtypes: datetime64[ns](1), float64(13), object(2)\n",
      "memory usage: 11.3+ MB\n",
      "None\n"
     ]
    }
   ],
   "source": [
    "import pandas as pd\n",
    "import numpy as nu\n",
    "import matplotlib.pyplot as plt\n",
    "import seaborn as sns\n",
    "import plotly.express as px\n",
    "\n",
    "vd = pd.read_csv('data/country_vaccinations.csv')\n",
    "vd = vd[\n",
    "    ['country', 'date', 'total_vaccinations', \n",
    "     'people_vaccinated', 'people_vaccinated_per_hundred',\n",
    "     'people_fully_vaccinated', 'people_fully_vaccinated_per_hundred',\n",
    "     'daily_vaccinations', 'vaccines']\n",
    "]\n",
    "vd['date'] = pd.to_datetime(vd['date'])\n",
    "display(vd.info())\n",
    "\n",
    "cd = pd.read_csv('data/covid_data.csv')\n",
    "\n",
    "cd['date'] = pd.to_datetime(cd['date'])\n",
    "display(cd.info())\n",
    "\n",
    "cd = cd.groupby(\n",
    "    ['date', 'country'], \n",
    "    as_index=False\n",
    ")[['confirmed', 'deaths', 'recovered']].sum()\n",
    "\n",
    "cd['active'] = cd['confirmed'] - cd['deaths'] - cd['recovered']\n",
    "\n",
    "cd = cd.sort_values(by=['country', 'date'])\n",
    "cd['daily_confirmed'] = cd.groupby('country')['confirmed'].diff()\n",
    "cd['daily_deaths'] = cd.groupby('country')['deaths'].diff()\n",
    "cd['daily_recovered'] = cd.groupby('country')['recovered'].diff()\n",
    "\n",
    "display(cd['date'].min())\n",
    "display(cd['date'].max())\n",
    "\n",
    "display(vd['date'].min())\n",
    "display(vd['date'].max())\n",
    "\n",
    "c_df = cd.merge(vd, how='left')\n",
    "print(c_df.info())"
   ]
  },
  {
   "cell_type": "code",
   "execution_count": 9,
   "metadata": {},
   "outputs": [
    {
     "data": {
      "text/plain": [
       "count    86564.000000\n",
       "mean        40.820618\n",
       "std        198.349234\n",
       "min      -5337.000000\n",
       "25%          0.000000\n",
       "50%          1.000000\n",
       "75%         10.000000\n",
       "max       4561.000000\n",
       "Name: death_rate, dtype: float64"
      ]
     },
     "metadata": {},
     "output_type": "display_data"
    },
    {
     "data": {
      "text/plain": [
       "count     86564.000000\n",
       "mean       1963.295492\n",
       "std       11895.703910\n",
       "min     -348667.000000\n",
       "25%           1.000000\n",
       "50%          55.000000\n",
       "75%         622.000000\n",
       "max      823225.000000\n",
       "Name: recover_rate, dtype: float64"
      ]
     },
     "metadata": {},
     "output_type": "display_data"
    },
    {
     "data": {
      "text/plain": [
       "Taiwan                 494\n",
       "Japan                  494\n",
       "Thailand               494\n",
       "South Korea            494\n",
       "United States          494\n",
       "                      ... \n",
       "Channel Islands          1\n",
       "Cape Verde               1\n",
       "North Ireland            1\n",
       "East Timor               1\n",
       "Republic of Ireland      1\n",
       "Name: country, Length: 221, dtype: int64"
      ]
     },
     "metadata": {},
     "output_type": "display_data"
    },
    {
     "data": {
      "text/plain": [
       "count     493.000000\n",
       "mean     1205.488844\n",
       "std      1000.122034\n",
       "min         0.000000\n",
       "25%       503.000000\n",
       "50%       960.000000\n",
       "75%      1593.000000\n",
       "max      4561.000000\n",
       "Name: daily_deaths, dtype: float64"
      ]
     },
     "metadata": {},
     "output_type": "display_data"
    },
    {
     "data": {
      "text/plain": [
       "9538.061983471074"
      ]
     },
     "metadata": {},
     "output_type": "display_data"
    },
    {
     "data": {
      "image/png": "[encoded data removed]",
      "text/plain": [
       "<Figure size 432x288 with 1 Axes>"
      ]
     },
     "metadata": {
      "needs_background": "light"
     },
     "output_type": "display_data"
    }
   ],
   "source": [
    "c_df = c_df.sort_values(by=['country', 'date'])\n",
    "c_df['death_rate']=c_df.groupby('country')['deaths'].diff()\n",
    "c_df['recover_rate']=c_df.groupby('country')['confirmed'].diff()\n",
    "display(c_df['death_rate'].describe())\n",
    "display(c_df['recover_rate'].describe())\n",
    "display(c_df['country'].value_counts())\n",
    "\n",
    "display(c_df[c_df['country']=='United States']['daily_deaths'].describe())\n",
    "display(c_df[c_df['country']=='Russia']['daily_recovered'].mean())\n",
    "\n",
    "c_df.groupby(['country'])['total_vaccinations'].last().nsmallest(5).plot(kind='bar');"
   ]
  }
 ],
 "metadata": {
  "interpreter": {
   "hash": "570feb405e2e27c949193ac68f46852414290d515b0ba6e5d90d076ed2284471"
  },
  "kernelspec": {
   "display_name": "Python 3.8.2 64-bit",
   "language": "python",
   "name": "python3"
  },
  "language_info": {
   "codemirror_mode": {
    "name": "ipython",
    "version": 3
   },
   "file_extension": ".py",
   "mimetype": "text/x-python",
   "name": "python",
   "nbconvert_exporter": "python",
   "pygments_lexer": "ipython3",
   "version": "3.8.2"
  },
  "orig_nbformat": 4
 },
 "nbformat": 4,
 "nbformat_minor": 2
}
