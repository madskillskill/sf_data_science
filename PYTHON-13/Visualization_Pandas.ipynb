{
 "cells": [
  {
   "cell_type": "markdown",
   "id": "f9f1e90b-5227-465b-a58d-35f76bc3ceeb",
   "metadata": {},
   "source": [
    "# <center> Раздел 2. Модуль 5. Визуализация данных"
   ]
  },
  {
   "cell_type": "markdown",
   "id": "fdc20fb7-67c4-4d27-a84a-f51e98cdded7",
   "metadata": {},
   "source": [
    "## <center> Графические возможности библиотеки pandas"
   ]
  },
  {
   "cell_type": "code",
   "execution_count": 3,
   "id": "d9fd2d12-ba06-4776-9363-2c291ddb44cf",
   "metadata": {},
   "outputs": [],
   "source": [
    "import pandas as pd"
   ]
  },
  {
   "cell_type": "code",
   "execution_count": 4,
   "id": "b276f5bc-db57-4e82-9fc3-a0491c942847",
   "metadata": {},
   "outputs": [
    {
     "data": {
      "text/html": [
       "<div>\n",
       "<style scoped>\n",
       "    .dataframe tbody tr th:only-of-type {\n",
       "        vertical-align: middle;\n",
       "    }\n",
       "\n",
       "    .dataframe tbody tr th {\n",
       "        vertical-align: top;\n",
       "    }\n",
       "\n",
       "    .dataframe thead th {\n",
       "        text-align: right;\n",
       "    }\n",
       "</style>\n",
       "<table border=\"1\" class=\"dataframe\">\n",
       "  <thead>\n",
       "    <tr style=\"text-align: right;\">\n",
       "      <th></th>\n",
       "      <th>date</th>\n",
       "      <th>province/state</th>\n",
       "      <th>country</th>\n",
       "      <th>confirmed</th>\n",
       "      <th>deaths</th>\n",
       "      <th>recovered</th>\n",
       "    </tr>\n",
       "  </thead>\n",
       "  <tbody>\n",
       "    <tr>\n",
       "      <th>0</th>\n",
       "      <td>2020-01-22</td>\n",
       "      <td>Anhui</td>\n",
       "      <td>China</td>\n",
       "      <td>1.0</td>\n",
       "      <td>0.0</td>\n",
       "      <td>0.0</td>\n",
       "    </tr>\n",
       "    <tr>\n",
       "      <th>1</th>\n",
       "      <td>2020-01-22</td>\n",
       "      <td>Beijing</td>\n",
       "      <td>China</td>\n",
       "      <td>14.0</td>\n",
       "      <td>0.0</td>\n",
       "      <td>0.0</td>\n",
       "    </tr>\n",
       "    <tr>\n",
       "      <th>2</th>\n",
       "      <td>2020-01-22</td>\n",
       "      <td>Chongqing</td>\n",
       "      <td>China</td>\n",
       "      <td>6.0</td>\n",
       "      <td>0.0</td>\n",
       "      <td>0.0</td>\n",
       "    </tr>\n",
       "    <tr>\n",
       "      <th>3</th>\n",
       "      <td>2020-01-22</td>\n",
       "      <td>Fujian</td>\n",
       "      <td>China</td>\n",
       "      <td>1.0</td>\n",
       "      <td>0.0</td>\n",
       "      <td>0.0</td>\n",
       "    </tr>\n",
       "    <tr>\n",
       "      <th>4</th>\n",
       "      <td>2020-01-22</td>\n",
       "      <td>Gansu</td>\n",
       "      <td>China</td>\n",
       "      <td>0.0</td>\n",
       "      <td>0.0</td>\n",
       "      <td>0.0</td>\n",
       "    </tr>\n",
       "  </tbody>\n",
       "</table>\n",
       "</div>"
      ],
      "text/plain": [
       "        date province/state country  confirmed  deaths  recovered\n",
       "0 2020-01-22          Anhui   China        1.0     0.0        0.0\n",
       "1 2020-01-22        Beijing   China       14.0     0.0        0.0\n",
       "2 2020-01-22      Chongqing   China        6.0     0.0        0.0\n",
       "3 2020-01-22         Fujian   China        1.0     0.0        0.0\n",
       "4 2020-01-22          Gansu   China        0.0     0.0        0.0"
      ]
     },
     "execution_count": 4,
     "metadata": {},
     "output_type": "execute_result"
    }
   ],
   "source": [
    "#используем объединенный датасет о заболеваемости и вакцинации\n",
    "covid_df = pd.read_csv('data/covid_data.csv') \n",
    "covid_df['date'] = pd.to_datetime(covid_df['date'])\n",
    "covid_df.head()"
   ]
  },
  {
   "cell_type": "markdown",
   "id": "41e16a35-73db-4e49-8a7a-1bf6e2d310f0",
   "metadata": {},
   "source": [
    "Основным методом для создания простейших графиков в Pandas является метод plot(). Разберем его основные параметры:\n",
    "* x - название признака, который будет отложен по оси абсцисс\n",
    "* y - название признака, который будет отложен по оси ординат\n",
    "* figsize - размер графика (кортеж из ширины и высоты в дюймах)\n",
    "* **kind** - тип визуализации. Основные типы:\n",
    "    * 'line' - линейный график (стоит по умолчанию)\n",
    "    * 'bar' - столбчатая диаграмма\n",
    "    * 'barh' - горизонтальная столбчатая диаграмма\n",
    "    * 'hist' - гистограмма\n",
    "    * 'box' - коробчатая диаграмма (boxplot)\n",
    "    * 'pie' - круговая диаграмма\n",
    "    * 'scatter' - диаграмма рассеяния\n",
    "* grid - отображение сетки (по умолчанию False)\n",
    "* legend - отображение легенды (по умолчанию False)\n",
    "* title - название графика\n",
    "* color - цвет\n"
   ]
  },
  {
   "cell_type": "code",
   "execution_count": 5,
   "id": "0b8f79f8-e1c1-4443-8243-6dd22cd0f69e",
   "metadata": {},
   "outputs": [
    {
     "ename": "KeyError",
     "evalue": "'Column not found: daily_confirmed'",
     "output_type": "error",
     "traceback": [
      "\u001b[1;31m---------------------------------------------------------------------------\u001b[0m",
      "\u001b[1;31mKeyError\u001b[0m                                  Traceback (most recent call last)",
      "\u001b[1;32mc:\\SF\\sf_data_science\\PYTHON-13\\Visualization_Pandas.ipynb Cell 6'\u001b[0m in \u001b[0;36m<cell line: 1>\u001b[1;34m()\u001b[0m\n\u001b[1;32m----> <a href='vscode-notebook-cell:/c%3A/SF/sf_data_science/PYTHON-13/Visualization_Pandas.ipynb#ch0000005?line=0'>1</a>\u001b[0m grouped_cases \u001b[39m=\u001b[39m covid_df\u001b[39m.\u001b[39;49mgroupby(\u001b[39m'\u001b[39;49m\u001b[39mdate\u001b[39;49m\u001b[39m'\u001b[39;49m)[\u001b[39m'\u001b[39;49m\u001b[39mdaily_confirmed\u001b[39;49m\u001b[39m'\u001b[39;49m]\u001b[39m.\u001b[39msum()\n\u001b[0;32m      <a href='vscode-notebook-cell:/c%3A/SF/sf_data_science/PYTHON-13/Visualization_Pandas.ipynb#ch0000005?line=1'>2</a>\u001b[0m grouped_cases\u001b[39m.\u001b[39mplot(\n\u001b[0;32m      <a href='vscode-notebook-cell:/c%3A/SF/sf_data_science/PYTHON-13/Visualization_Pandas.ipynb#ch0000005?line=2'>3</a>\u001b[0m     kind\u001b[39m=\u001b[39m\u001b[39m'\u001b[39m\u001b[39mline\u001b[39m\u001b[39m'\u001b[39m,\n\u001b[0;32m      <a href='vscode-notebook-cell:/c%3A/SF/sf_data_science/PYTHON-13/Visualization_Pandas.ipynb#ch0000005?line=3'>4</a>\u001b[0m     figsize\u001b[39m=\u001b[39m(\u001b[39m12\u001b[39m, \u001b[39m4\u001b[39m),\n\u001b[1;32m   (...)\u001b[0m\n\u001b[0;32m      <a href='vscode-notebook-cell:/c%3A/SF/sf_data_science/PYTHON-13/Visualization_Pandas.ipynb#ch0000005?line=6'>7</a>\u001b[0m     lw\u001b[39m=\u001b[39m\u001b[39m3\u001b[39m\n\u001b[0;32m      <a href='vscode-notebook-cell:/c%3A/SF/sf_data_science/PYTHON-13/Visualization_Pandas.ipynb#ch0000005?line=7'>8</a>\u001b[0m )\n",
      "File \u001b[1;32mc:\\Program Files\\Python38\\lib\\site-packages\\pandas\\core\\groupby\\generic.py:1338\u001b[0m, in \u001b[0;36mDataFrameGroupBy.__getitem__\u001b[1;34m(self, key)\u001b[0m\n\u001b[0;32m   <a href='file:///c%3A/Program%20Files/Python38/lib/site-packages/pandas/core/groupby/generic.py?line=1328'>1329</a>\u001b[0m \u001b[39mif\u001b[39;00m \u001b[39misinstance\u001b[39m(key, \u001b[39mtuple\u001b[39m) \u001b[39mand\u001b[39;00m \u001b[39mlen\u001b[39m(key) \u001b[39m>\u001b[39m \u001b[39m1\u001b[39m:\n\u001b[0;32m   <a href='file:///c%3A/Program%20Files/Python38/lib/site-packages/pandas/core/groupby/generic.py?line=1329'>1330</a>\u001b[0m     \u001b[39m# if len == 1, then it becomes a SeriesGroupBy and this is actually\u001b[39;00m\n\u001b[0;32m   <a href='file:///c%3A/Program%20Files/Python38/lib/site-packages/pandas/core/groupby/generic.py?line=1330'>1331</a>\u001b[0m     \u001b[39m# valid syntax, so don't raise warning\u001b[39;00m\n\u001b[0;32m   <a href='file:///c%3A/Program%20Files/Python38/lib/site-packages/pandas/core/groupby/generic.py?line=1331'>1332</a>\u001b[0m     warnings\u001b[39m.\u001b[39mwarn(\n\u001b[0;32m   <a href='file:///c%3A/Program%20Files/Python38/lib/site-packages/pandas/core/groupby/generic.py?line=1332'>1333</a>\u001b[0m         \u001b[39m\"\u001b[39m\u001b[39mIndexing with multiple keys (implicitly converted to a tuple \u001b[39m\u001b[39m\"\u001b[39m\n\u001b[0;32m   <a href='file:///c%3A/Program%20Files/Python38/lib/site-packages/pandas/core/groupby/generic.py?line=1333'>1334</a>\u001b[0m         \u001b[39m\"\u001b[39m\u001b[39mof keys) will be deprecated, use a list instead.\u001b[39m\u001b[39m\"\u001b[39m,\n\u001b[0;32m   <a href='file:///c%3A/Program%20Files/Python38/lib/site-packages/pandas/core/groupby/generic.py?line=1334'>1335</a>\u001b[0m         \u001b[39mFutureWarning\u001b[39;00m,\n\u001b[0;32m   <a href='file:///c%3A/Program%20Files/Python38/lib/site-packages/pandas/core/groupby/generic.py?line=1335'>1336</a>\u001b[0m         stacklevel\u001b[39m=\u001b[39mfind_stack_level(),\n\u001b[0;32m   <a href='file:///c%3A/Program%20Files/Python38/lib/site-packages/pandas/core/groupby/generic.py?line=1336'>1337</a>\u001b[0m     )\n\u001b[1;32m-> <a href='file:///c%3A/Program%20Files/Python38/lib/site-packages/pandas/core/groupby/generic.py?line=1337'>1338</a>\u001b[0m \u001b[39mreturn\u001b[39;00m \u001b[39msuper\u001b[39;49m()\u001b[39m.\u001b[39;49m\u001b[39m__getitem__\u001b[39;49m(key)\n",
      "File \u001b[1;32mc:\\Program Files\\Python38\\lib\\site-packages\\pandas\\core\\base.py:250\u001b[0m, in \u001b[0;36mSelectionMixin.__getitem__\u001b[1;34m(self, key)\u001b[0m\n\u001b[0;32m    <a href='file:///c%3A/Program%20Files/Python38/lib/site-packages/pandas/core/base.py?line=247'>248</a>\u001b[0m \u001b[39melse\u001b[39;00m:\n\u001b[0;32m    <a href='file:///c%3A/Program%20Files/Python38/lib/site-packages/pandas/core/base.py?line=248'>249</a>\u001b[0m     \u001b[39mif\u001b[39;00m key \u001b[39mnot\u001b[39;00m \u001b[39min\u001b[39;00m \u001b[39mself\u001b[39m\u001b[39m.\u001b[39mobj:\n\u001b[1;32m--> <a href='file:///c%3A/Program%20Files/Python38/lib/site-packages/pandas/core/base.py?line=249'>250</a>\u001b[0m         \u001b[39mraise\u001b[39;00m \u001b[39mKeyError\u001b[39;00m(\u001b[39mf\u001b[39m\u001b[39m\"\u001b[39m\u001b[39mColumn not found: \u001b[39m\u001b[39m{\u001b[39;00mkey\u001b[39m}\u001b[39;00m\u001b[39m\"\u001b[39m)\n\u001b[0;32m    <a href='file:///c%3A/Program%20Files/Python38/lib/site-packages/pandas/core/base.py?line=250'>251</a>\u001b[0m     subset \u001b[39m=\u001b[39m \u001b[39mself\u001b[39m\u001b[39m.\u001b[39mobj[key]\n\u001b[0;32m    <a href='file:///c%3A/Program%20Files/Python38/lib/site-packages/pandas/core/base.py?line=251'>252</a>\u001b[0m     ndim \u001b[39m=\u001b[39m subset\u001b[39m.\u001b[39mndim\n",
      "\u001b[1;31mKeyError\u001b[0m: 'Column not found: daily_confirmed'"
     ]
    }
   ],
   "source": [
    "grouped_cases = covid_df.groupby('date')['daily_confirmed'].sum()\n",
    "grouped_cases.plot(\n",
    "    kind='line',\n",
    "    figsize=(12, 4),\n",
    "    title='Ежедневная заболеваемость по всем странам',\n",
    "    grid = True,\n",
    "    lw=3\n",
    ");"
   ]
  },
  {
   "cell_type": "markdown",
   "id": "b2cd431c-e8ab-413f-8c88-429a0d33d1e8",
   "metadata": {},
   "source": [
    "**Выводы по графику:** на графике отчетливо виден умеренный начальный рост заболеваемости, после чего наблюдается ее резкое повышение в середине октября 2020, а в декабре 2020 года вспышка коронавируса (зафиксировано более 1.4 млн заболевших в день). После чего наблюдается постепенное уменьшение числа ежедневно фиксированных случаев и наступление второй волны в марте 2021. Наконец, начиная с мая 2021 наблюдается очередной спад.\n",
    "\n",
    "Пилообразность графика - подъемы и спады с периодом в 7 дней - могут быть связаны с рабочими и выходными днями.\n",
    "Нам неизвестно, как  устроен во времени процесс постановки диагноза и сбора статистики и отличается ли он в разных странах. Можно предположить, что спад в выходные обусловлен меньшей интенсивностью работы медицинских служб. Также можно предположить, что в тех случаях, когда диагноз ставится по результатам анализа, если в выходные берется/проводится меньше тестов, к понедельнику они еще не готовы и диагноз еще не поставлен. Также можем предположить, что минимум в понедельник может быть запаздыванием подсчета статистики, т.е. на самом деле данные за понедельник - это данные за воскресенье\n"
   ]
  },
  {
   "cell_type": "code",
   "execution_count": 7,
   "id": "43af7f48-d0a6-421b-adbe-f190020c32cf",
   "metadata": {},
   "outputs": [
    {
     "ename": "KeyError",
     "evalue": "'Column not found: daily_confirmed'",
     "output_type": "error",
     "traceback": [
      "\u001b[1;31m---------------------------------------------------------------------------\u001b[0m",
      "\u001b[1;31mKeyError\u001b[0m                                  Traceback (most recent call last)",
      "\u001b[1;32mc:\\SF\\sf_data_science\\PYTHON-13\\Visualization_Pandas.ipynb Cell 8'\u001b[0m in \u001b[0;36m<cell line: 1>\u001b[1;34m()\u001b[0m\n\u001b[1;32m----> <a href='vscode-notebook-cell:/c%3A/SF/sf_data_science/PYTHON-13/Visualization_Pandas.ipynb#ch0000007?line=0'>1</a>\u001b[0m grouped_cases \u001b[39m=\u001b[39m covid_df\u001b[39m.\u001b[39;49mgroupby(\u001b[39m'\u001b[39;49m\u001b[39mdate\u001b[39;49m\u001b[39m'\u001b[39;49m)[\u001b[39m'\u001b[39;49m\u001b[39mdaily_confirmed\u001b[39;49m\u001b[39m'\u001b[39;49m]\u001b[39m.\u001b[39msum()\n\u001b[0;32m      <a href='vscode-notebook-cell:/c%3A/SF/sf_data_science/PYTHON-13/Visualization_Pandas.ipynb#ch0000007?line=1'>2</a>\u001b[0m grouped_cases\u001b[39m.\u001b[39mplot(\n\u001b[0;32m      <a href='vscode-notebook-cell:/c%3A/SF/sf_data_science/PYTHON-13/Visualization_Pandas.ipynb#ch0000007?line=2'>3</a>\u001b[0m     kind\u001b[39m=\u001b[39m\u001b[39m'\u001b[39m\u001b[39mhist\u001b[39m\u001b[39m'\u001b[39m,\n\u001b[0;32m      <a href='vscode-notebook-cell:/c%3A/SF/sf_data_science/PYTHON-13/Visualization_Pandas.ipynb#ch0000007?line=3'>4</a>\u001b[0m     figsize\u001b[39m=\u001b[39m(\u001b[39m10\u001b[39m, \u001b[39m6\u001b[39m),\n\u001b[1;32m   (...)\u001b[0m\n\u001b[0;32m      <a href='vscode-notebook-cell:/c%3A/SF/sf_data_science/PYTHON-13/Visualization_Pandas.ipynb#ch0000007?line=7'>8</a>\u001b[0m     bins\u001b[39m=\u001b[39m\u001b[39m10\u001b[39m\n\u001b[0;32m      <a href='vscode-notebook-cell:/c%3A/SF/sf_data_science/PYTHON-13/Visualization_Pandas.ipynb#ch0000007?line=8'>9</a>\u001b[0m )\n",
      "File \u001b[1;32mc:\\Program Files\\Python38\\lib\\site-packages\\pandas\\core\\groupby\\generic.py:1338\u001b[0m, in \u001b[0;36mDataFrameGroupBy.__getitem__\u001b[1;34m(self, key)\u001b[0m\n\u001b[0;32m   <a href='file:///c%3A/Program%20Files/Python38/lib/site-packages/pandas/core/groupby/generic.py?line=1328'>1329</a>\u001b[0m \u001b[39mif\u001b[39;00m \u001b[39misinstance\u001b[39m(key, \u001b[39mtuple\u001b[39m) \u001b[39mand\u001b[39;00m \u001b[39mlen\u001b[39m(key) \u001b[39m>\u001b[39m \u001b[39m1\u001b[39m:\n\u001b[0;32m   <a href='file:///c%3A/Program%20Files/Python38/lib/site-packages/pandas/core/groupby/generic.py?line=1329'>1330</a>\u001b[0m     \u001b[39m# if len == 1, then it becomes a SeriesGroupBy and this is actually\u001b[39;00m\n\u001b[0;32m   <a href='file:///c%3A/Program%20Files/Python38/lib/site-packages/pandas/core/groupby/generic.py?line=1330'>1331</a>\u001b[0m     \u001b[39m# valid syntax, so don't raise warning\u001b[39;00m\n\u001b[0;32m   <a href='file:///c%3A/Program%20Files/Python38/lib/site-packages/pandas/core/groupby/generic.py?line=1331'>1332</a>\u001b[0m     warnings\u001b[39m.\u001b[39mwarn(\n\u001b[0;32m   <a href='file:///c%3A/Program%20Files/Python38/lib/site-packages/pandas/core/groupby/generic.py?line=1332'>1333</a>\u001b[0m         \u001b[39m\"\u001b[39m\u001b[39mIndexing with multiple keys (implicitly converted to a tuple \u001b[39m\u001b[39m\"\u001b[39m\n\u001b[0;32m   <a href='file:///c%3A/Program%20Files/Python38/lib/site-packages/pandas/core/groupby/generic.py?line=1333'>1334</a>\u001b[0m         \u001b[39m\"\u001b[39m\u001b[39mof keys) will be deprecated, use a list instead.\u001b[39m\u001b[39m\"\u001b[39m,\n\u001b[0;32m   <a href='file:///c%3A/Program%20Files/Python38/lib/site-packages/pandas/core/groupby/generic.py?line=1334'>1335</a>\u001b[0m         \u001b[39mFutureWarning\u001b[39;00m,\n\u001b[0;32m   <a href='file:///c%3A/Program%20Files/Python38/lib/site-packages/pandas/core/groupby/generic.py?line=1335'>1336</a>\u001b[0m         stacklevel\u001b[39m=\u001b[39mfind_stack_level(),\n\u001b[0;32m   <a href='file:///c%3A/Program%20Files/Python38/lib/site-packages/pandas/core/groupby/generic.py?line=1336'>1337</a>\u001b[0m     )\n\u001b[1;32m-> <a href='file:///c%3A/Program%20Files/Python38/lib/site-packages/pandas/core/groupby/generic.py?line=1337'>1338</a>\u001b[0m \u001b[39mreturn\u001b[39;00m \u001b[39msuper\u001b[39;49m()\u001b[39m.\u001b[39;49m\u001b[39m__getitem__\u001b[39;49m(key)\n",
      "File \u001b[1;32mc:\\Program Files\\Python38\\lib\\site-packages\\pandas\\core\\base.py:250\u001b[0m, in \u001b[0;36mSelectionMixin.__getitem__\u001b[1;34m(self, key)\u001b[0m\n\u001b[0;32m    <a href='file:///c%3A/Program%20Files/Python38/lib/site-packages/pandas/core/base.py?line=247'>248</a>\u001b[0m \u001b[39melse\u001b[39;00m:\n\u001b[0;32m    <a href='file:///c%3A/Program%20Files/Python38/lib/site-packages/pandas/core/base.py?line=248'>249</a>\u001b[0m     \u001b[39mif\u001b[39;00m key \u001b[39mnot\u001b[39;00m \u001b[39min\u001b[39;00m \u001b[39mself\u001b[39m\u001b[39m.\u001b[39mobj:\n\u001b[1;32m--> <a href='file:///c%3A/Program%20Files/Python38/lib/site-packages/pandas/core/base.py?line=249'>250</a>\u001b[0m         \u001b[39mraise\u001b[39;00m \u001b[39mKeyError\u001b[39;00m(\u001b[39mf\u001b[39m\u001b[39m\"\u001b[39m\u001b[39mColumn not found: \u001b[39m\u001b[39m{\u001b[39;00mkey\u001b[39m}\u001b[39;00m\u001b[39m\"\u001b[39m)\n\u001b[0;32m    <a href='file:///c%3A/Program%20Files/Python38/lib/site-packages/pandas/core/base.py?line=250'>251</a>\u001b[0m     subset \u001b[39m=\u001b[39m \u001b[39mself\u001b[39m\u001b[39m.\u001b[39mobj[key]\n\u001b[0;32m    <a href='file:///c%3A/Program%20Files/Python38/lib/site-packages/pandas/core/base.py?line=251'>252</a>\u001b[0m     ndim \u001b[39m=\u001b[39m subset\u001b[39m.\u001b[39mndim\n",
      "\u001b[1;31mKeyError\u001b[0m: 'Column not found: daily_confirmed'"
     ]
    }
   ],
   "source": [
    "grouped_cases = covid_df.groupby('date')['daily_confirmed'].sum()\n",
    "grouped_cases.plot(\n",
    "    kind='hist',\n",
    "    figsize=(10, 6),\n",
    "    title='Распределение ежедневной заболеваемости',\n",
    "    grid = True,\n",
    "    color = 'black',\n",
    "    bins=10\n",
    ");"
   ]
  },
  {
   "cell_type": "code",
   "execution_count": 8,
   "id": "ffda8737-c40e-4dfc-90d9-57befaeb1f37",
   "metadata": {},
   "outputs": [
    {
     "data": {
      "text/plain": [
       "-1.0"
      ]
     },
     "execution_count": 8,
     "metadata": {},
     "output_type": "execute_result"
    }
   ],
   "source": [
    "import numpy as np\n",
    "first_line = [x*y for x in range(2, 100, 6) for y in range (7, 1, -2)]\n",
    "second_line = [x ** 0.5 for x in range(1000, 1101, 2)]\n",
    "third_line = [x**2 for x in range(51)]\n",
    "\n",
    "big_secret = np.array([first_line, second_line, third_line, second_line, first_line])\n",
    "big_secret[::2, ::2] = 1\n",
    "big_secret[1::2, 1::2] = -1\n",
    "big_secret[1][1]"
   ]
  },
  {
   "cell_type": "markdown",
   "id": "93e0194c-bab7-4de5-92ae-e177fe03c79e",
   "metadata": {},
   "source": [
    "**Выводы по графику:** по гистограмме можно судить о частоте попадания ежедневной заболеваемости в определенный интервал. На оси абсцисс отложен диапазон ежедневной заболеваемости (в млн. человек), разбитый на 10 равных интервалов. На оси ординат - число наблюдений, попавших в этот интервал.\n",
    "\n",
    "Во-первых, мы видим модальное значение близ нуля (от 0 до примерно 150 тыс. заболеваний в день), т.е. большинство наблюдений сосредоточено в первом интервале, далее частота постепенно падает. Это связано с тем, что долгое время распространение вируса было довольно слабым.\n",
    "\n",
    "Во-вторых, в глаза бросается \"пенёк\", который соответствует резкой вспышке заболеваемости, которую мы видели ранее, его высота очень мала, ведь такое наблюдение единственно. Даже на гистограмме кажется, что данное наблюдение является аномальным и скорее всего является выбросом."
   ]
  },
  {
   "cell_type": "code",
   "execution_count": null,
   "id": "5c9a4813-af87-444d-8a0c-a949e5f422bf",
   "metadata": {},
   "outputs": [
    {
     "data": {
      "image/png": "[encoded data removed]",
      "text/plain": [
       "<Figure size 864x288 with 1 Axes>"
      ]
     },
     "metadata": {
      "needs_background": "light"
     },
     "output_type": "display_data"
    },
    {
     "ename": "",
     "evalue": "",
     "output_type": "error",
     "traceback": [
      "\u001b[1;31mRunning cells with 'Python 3.8.7 64-bit (system)' requires ipykernel package.\n",
      "Run the following command to install 'ipykernel' into the Python environment. \n",
      "Command: '\"c:/Program Files/Inkscape/bin/python.exe\" -m pip install ipykernel -U --user --force-reinstall'"
     ]
    },
    {
     "ename": "",
     "evalue": "",
     "output_type": "error",
     "traceback": [
      "\u001b[1;31mRunning cells with 'Python 3.8.7 64-bit (system)' requires ipykernel package.\n",
      "Run the following command to install 'ipykernel' into the Python environment. \n",
      "Command: '\"c:/Program Files/Inkscape/bin/python.exe\" -m pip install ipykernel -U --user --force-reinstall'"
     ]
    }
   ],
   "source": [
    "grouped_country = covid_df.groupby(['country'])['confirmed'].last()\n",
    "grouped_country = grouped_country.nlargest(10)\n",
    "grouped_country.plot(\n",
    "    kind='bar',\n",
    "    grid=True,\n",
    "    figsize=(12, 4),\n",
    "    colormap='plasma'\n",
    ");"
   ]
  },
  {
   "cell_type": "markdown",
   "id": "e6c69a91-4666-4c78-94ef-2823f3baf21f",
   "metadata": {},
   "source": [
    "**Выводы по графику:** на диаграмме видно, что лидерами по числу заболевших являются Соединенные Штаты, Индия и Бразилия. Соотношение зафиксированных случаев заражения в остальных странах примерно одинаково."
   ]
  },
  {
   "cell_type": "code",
   "execution_count": null,
   "id": "bb0fc2b2-88d2-41f5-99b2-23a7aacdc6dd",
   "metadata": {},
   "outputs": [
    {
     "data": {
      "image/png": "[encoded data removed]",
      "text/plain": [
       "<Figure size 864x288 with 1 Axes>"
      ]
     },
     "metadata": {
      "needs_background": "light"
     },
     "output_type": "display_data"
    },
    {
     "ename": "",
     "evalue": "",
     "output_type": "error",
     "traceback": [
      "\u001b[1;31mRunning cells with 'Python 3.8.7 64-bit (system)' requires ipykernel package.\n",
      "Run the following command to install 'ipykernel' into the Python environment. \n",
      "Command: '\"c:/Program Files/Inkscape/bin/python.exe\" -m pip install ipykernel -U --user --force-reinstall'"
     ]
    },
    {
     "ename": "",
     "evalue": "",
     "output_type": "error",
     "traceback": [
      "\u001b[1;31mRunning cells with 'Python 3.8.7 64-bit (system)' requires ipykernel package.\n",
      "Run the following command to install 'ipykernel' into the Python environment. \n",
      "Command: '\"c:/Program Files/Inkscape/bin/python.exe\" -m pip install ipykernel -U --user --force-reinstall'"
     ]
    }
   ],
   "source": [
    "grouped_country = covid_df.groupby(['country'])[['confirmed', 'deaths']].last()\n",
    "grouped_country = grouped_country.nlargest(10, columns=['confirmed'])\n",
    "grouped_country.plot(\n",
    "    kind='bar',\n",
    "    grid=True,\n",
    "    figsize=(12, 4),\n",
    "    legend=True\n",
    ");"
   ]
  },
  {
   "cell_type": "markdown",
   "id": "691ef5a6-89d9-4be2-8d56-00dd0b7be90d",
   "metadata": {},
   "source": [
    "**Выводы по графику:** график является небольшим усовершенствованием предыдущего. Теперь на графике можно увидеть соотношение числа зафиксированных случаев и смертей. \n",
    "Очевидно, что отношение числа умерших к числу заболевших весьма низкое. Также это косвенно может говорить о разных методиках учёта заболевших (например, какие-то страны могут учитывать заболевших только по мазку, в то время как другие- по клинической картине, учитывающей и другие показатели). Это с методической точки зрения учёт по числу заражений может быть не совсем корректным. Лучшим показателем будет являться число смертей (хотя и этот метод не идален).\n"
   ]
  },
  {
   "cell_type": "markdown",
   "id": "83125d99-4c75-494b-96b1-6c7a2294d0ce",
   "metadata": {},
   "source": [
    "Визуализация с помощью Pandas является удобным инструментом, когда графики необходимо построить \"здесь и сейчас\", не сильно заморачиваясь над их внешним видом. Однако, такой подход имеет значительный минус по сравнению с использованием специализированных библиотек для визуализации - довольно ограниченный функционал:\n",
    "* С помощью Pandas можно построить лишь базовый набор диаграмм. Для построения более сложных видов визуализации он не подходит\n",
    "* Трудно настроить визуализацию нескольких видов графиков одновременно в разных масштабах\n",
    "* Сложно или иногда даже невозможно корректировать внешний вид графика \n",
    "* Отсутствует 3D визуализация\n"
   ]
  },
  {
   "cell_type": "code",
   "execution_count": null,
   "id": "11932f14-f21c-45cd-bd03-45f60b433876",
   "metadata": {},
   "outputs": [
    {
     "ename": "",
     "evalue": "",
     "output_type": "error",
     "traceback": [
      "\u001b[1;31mRunning cells with 'Python 3.8.7 64-bit (system)' requires ipykernel package.\n",
      "Run the following command to install 'ipykernel' into the Python environment. \n",
      "Command: '\"c:/Program Files/Inkscape/bin/python.exe\" -m pip install ipykernel -U --user --force-reinstall'"
     ]
    },
    {
     "ename": "",
     "evalue": "",
     "output_type": "error",
     "traceback": [
      "\u001b[1;31mRunning cells with 'Python 3.8.7 64-bit (system)' requires ipykernel package.\n",
      "Run the following command to install 'ipykernel' into the Python environment. \n",
      "Command: '\"c:/Program Files/Inkscape/bin/python.exe\" -m pip install ipykernel -U --user --force-reinstall'"
     ]
    }
   ],
   "source": []
  }
 ],
 "metadata": {
  "interpreter": {
   "hash": "570feb405e2e27c949193ac68f46852414290d515b0ba6e5d90d076ed2284471"
  },
  "kernelspec": {
   "display_name": "Python 3.8.2 64-bit",
   "language": "python",
   "name": "python3"
  },
  "language_info": {
   "codemirror_mode": {
    "name": "ipython",
    "version": 3
   },
   "file_extension": ".py",
   "mimetype": "text/x-python",
   "name": "python",
   "nbconvert_exporter": "python",
   "pygments_lexer": "ipython3",
   "version": "3.8.2"
  }
 },
 "nbformat": 4,
 "nbformat_minor": 5
}
