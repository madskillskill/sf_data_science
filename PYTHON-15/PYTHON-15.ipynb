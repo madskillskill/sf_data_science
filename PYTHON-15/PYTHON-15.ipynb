{
 "cells": [
  {
   "cell_type": "code",
   "execution_count": null,
   "metadata": {},
   "outputs": [],
   "source": [
    "import pandas as pd\n",
    "import numpy as np"
   ]
  },
  {
   "cell_type": "code",
   "execution_count": null,
   "metadata": {},
   "outputs": [],
   "source": [
    "class IntDataFrame():\n",
    "    def __init__(self, column):\n",
    "        self.column = column\n",
    "        column = self.natural()\n",
    "        \n",
    "    def natural(self):\n",
    "        listing = []\n",
    "        for i in self.column:\n",
    "            listing.append(int(i))\n",
    "            self.column = listing\n",
    "            print(self.column)\n",
    "\n",
    "     \n",
    "    def count(self):\n",
    "        x = len(self.column)\n",
    "        counter = x\n",
    "        for i in self.column:\n",
    "            if i ==0:\n",
    "                counter -= 1\n",
    "        return counter\n",
    "         \n",
    "    def unique(self):\n",
    "        x = self.column\n",
    "        x = set(x)\n",
    "        print(x)\n",
    "        return len(x)\n",
    "    \n",
    "df = IntDataFrame([4.7, 4, 3, 0, 2.4, 0.3, 4])\n",
    "print(df.count())\n",
    "print(df.unique())"
   ]
  },
  {
   "cell_type": "code",
   "execution_count": null,
   "metadata": {},
   "outputs": [],
   "source": [
    " \n",
    "import pickle  \n",
    "from datetime import datetime  \n",
    "from os import path  \n",
    "  \n",
    "class Dumper():  \n",
    "    def __init__(self, archive_dir=\"archive/\"):  \n",
    "        self.archive_dir = archive_dir  \n",
    "          \n",
    "    def dump(self, data):  \n",
    "        # Библиотека pickle позволяет доставать и класть объекты в файл  \n",
    "        with open(self.get_file_name(), 'wb') as file:  \n",
    "            pickle.dump(data, file)  \n",
    "              \n",
    "    def load_for_day(self, day):  \n",
    "        file_name = path.join(self.archive_dir, day + \".pkl\")   \n",
    "        with open(file_name, 'rb') as file:  \n",
    "            sets = pickle.load(file)  \n",
    "        return sets  \n",
    "          \n",
    "    # возвращает корректное имя для файла   \n",
    "    def get_file_name(self):   \n",
    "        today = datetime.now().strftime(\"%y-%m-%d\")   \n",
    "        return path.join(self.archive_dir, today + \".pkl\")  \n",
    "      \n",
    "      \n",
    "# Пример использования  \n",
    "  \n",
    "data = {  \n",
    "    'perfomance': [10, 20, 10],  \n",
    "    'clients': {\"Romashka\": 10, \"Vector\": 34}  \n",
    "}  \n",
    "  \n",
    "  \n",
    "dumper = Dumper()  \n",
    "  \n",
    "# Сохраним данные  \n",
    "dumper.dump(data)  \n",
    "  \n",
    "# Восстановим для сегодняшней даты  \n",
    "file_name = datetime.now().strftime(\"%y-%m-%d\")\n",
    "restored_data = dumper.load_for_day(file_name)\n",
    "print(restored_data)  \n",
    "# => {'perfomance': [10, 20, 10], 'clients': {'Romashka': 10, 'Vector': 34}}  "
   ]
  },
  {
   "cell_type": "code",
   "execution_count": null,
   "metadata": {},
   "outputs": [],
   "source": [
    "import numpy as np\n",
    "  \n",
    "class OwnLogger():  \n",
    "    \n",
    "    def __init__(self, message = '', layer = ''):  \n",
    "        self.message = message\n",
    "        self.layer = layer\n",
    "        self.log_list = []\n",
    "          \n",
    "    def log(self, message, layer):\n",
    "        layer_list = [\"info\", \"warning\", \"error\"]    \n",
    "        if not hasattr(self, 'log_list'):\n",
    "            self.log_list = []\n",
    "        if layer in layer_list:\n",
    "            self.log_list.append(layer)\n",
    "            self.log_list.append(message)\n",
    "              \n",
    "    def show_last(self, level='all'):\n",
    "        if level == 'all':\n",
    "            return self.log_list[-1]\n",
    "        else:\n",
    "            if level in self.log_list:\n",
    "                x = self.log_list[::1]\n",
    "                y = x.index(level)\n",
    "                return(x[y+1])\n",
    "            else:\n",
    "                return 'None'\n",
    "    \n",
    "logger = OwnLogger()\n",
    "logger.log(\"System started\", \"info\")\n",
    "print(logger.show_last(\"error\"))\n",
    "# => None\n",
    "# Некоторые интерпретаторы Python могут не выводить None, тогда в этой проверке у вас будет пустая строка\n",
    "logger.log(\"Connection instable\", \"warning\")\n",
    "logger.log(\"Connection lost\", \"error\")\n",
    "\n",
    "print(logger.show_last())\n",
    "# => Connection lost\n",
    "print(logger.show_last(\"info\"))\n",
    "# => System started"
   ]
  },
  {
   "cell_type": "code",
   "execution_count": 5,
   "metadata": {},
   "outputs": [
    {
     "name": "stdout",
     "output_type": "stream",
     "text": [
      "c:\\SF\\sf_data_science\\PYTHON-15\n",
      "c:\\SF\\sf_data_science\n",
      "c:\\SF\\sf_data_science\\PYTHON-15\n",
      "['archive', 'data', 'PYTHON-15.ipynb', 'README.md']\n",
      "Файл отсутствует в данной директории\n",
      "c:\\SF\\sf_data_science\\PYTHON-15\n",
      "c:\\SF\\sf_data_science\\PYTHON-15\\test\n"
     ]
    }
   ],
   "source": [
    "import os\n",
    "start_path = os.getcwd()\n",
    "print(start_path)\n",
    "\n",
    "os.chdir(\"..\")\n",
    "print(os.getcwd())\n",
    "\n",
    "os.chdir(start_path)\n",
    "print(os.getcwd())\n",
    "\n",
    "print(os.listdir())\n",
    "\n",
    "if 'tmp.py' not in os.listdir():\n",
    "    print(\"Файл отсутствует в данной директории\")\n",
    "\n",
    "print(start_path)\n",
    "print(os.path.join(start_path, 'test'))"
   ]
  },
  {
   "cell_type": "code",
   "execution_count": 14,
   "metadata": {},
   "outputs": [
    {
     "name": "stdout",
     "output_type": "stream",
     "text": [
      ".\\archive\\22-05-16.pkl\n",
      ".\\PYTHON-15.ipynb\n",
      ".\\README.md\n",
      ".\\archive\n",
      ".\\data\n",
      "None\n"
     ]
    }
   ],
   "source": [
    "def scan_folder(path='.'):\n",
    "    for root, dirs, files in os.walk(path, topdown=False):\n",
    "        for name in files:\n",
    "            print(os.path.join(root, name))\n",
    "        for name in dirs:\n",
    "            print(os.path.join(root, name))\n",
    "\n",
    "\n",
    "print(scan_folder())\n",
    "\n"
   ]
  },
  {
   "cell_type": "code",
   "execution_count": 43,
   "metadata": {},
   "outputs": [
    {
     "name": "stdout",
     "output_type": "stream",
     "text": [
      "<_io.TextIOWrapper name='test.txt' mode='a' encoding='utf8'>\n",
      "This is a test string\n",
      "This is a new string\n",
      "This is a test string\n",
      "This is a new string\n",
      "This is a test string\n",
      "This is a test string\n",
      "This is a test string\n",
      "This is a test string\n",
      "This is a test string\n",
      "\n"
     ]
    }
   ],
   "source": [
    "f = open('test.txt', 'a', encoding='utf8')\n",
    "\n",
    "print(f)\n",
    "\n",
    "# Запишем в файл строку\n",
    "f.write(\"This is a test string\\n\")\n",
    "\n",
    "f.close()\n",
    "\n",
    "f = open('test.txt', 'r', encoding='utf8')\n",
    "print(f.read())\n",
    "\n",
    "f.close()"
   ]
  },
  {
   "cell_type": "code",
   "execution_count": 53,
   "metadata": {},
   "outputs": [
    {
     "name": "stdout",
     "output_type": "stream",
     "text": [
      "['This is a test string\\n', 'This is a new string\\n', 'This is a test string\\n', 'This is a new string\\n', 'This is a test string\\n', 'This is a test string\\n', 'This is a test string\\n', 'This is a test string\\n', 'This is a test string\\n', 'This is a test string\\n', 'This is a new string\\n', 'This is a test string\\n', 'This is a new string\\n', 'This is a test string\\n', 'This is a test string\\n', 'This is a test string\\n', 'This is a test string\\n', 'This is a test string\\n', 'This is a test string\\n', 'This is a new string\\n', 'This is a test string\\n', 'This is a new string\\n', 'This is a test string\\n', 'This is a test string\\n', 'This is a test string\\n', 'This is a test string\\n', 'This is a test string\\n', 'This is a test string\\n', 'This is a new string\\n', 'This is a test string\\n', 'This is a new string\\n', 'This is a test string\\n', 'This is a test string\\n', 'This is a test string\\n', 'This is a test string\\n', 'This is a test string\\n', 'This is a test string\\n', 'This is a new string\\n', 'This is a test string\\n', 'This is a new string\\n', 'This is a test string\\n', 'This is a test string\\n', 'This is a test string\\n', 'This is a test string\\n', 'This is a test string\\n']\n"
     ]
    }
   ],
   "source": [
    "with open('test.txt', 'r+', encoding='utf8') as f:\n",
    "    with open('output.txt', 'r+', encoding='utf8') as h:\n",
    "        for line in f:\n",
    "            h.write(line)\n",
    "        print(h.readlines())\n",
    "    \n"
   ]
  },
  {
   "cell_type": "code",
   "execution_count": 163,
   "metadata": {},
   "outputs": [
    {
     "name": "stdout",
     "output_type": "stream",
     "text": [
      "[]\n"
     ]
    }
   ],
   "source": [
    "import numpy as np\n",
    "\n",
    "with open('numbers.txt', 'a+', encoding='utf8') as numbers:\n",
    "    i = 100\n",
    "    while i > 0:\n",
    "        numbers.write(str(np.random.randint(100))+'\\n')\n",
    "        i -= 1\n",
    "    print(numbers.readlines())\n",
    "\n"
   ]
  },
  {
   "cell_type": "code",
   "execution_count": null,
   "metadata": {},
   "outputs": [],
   "source": [
    "with open('numbers.txt', 'r') as f:\n",
    "    min_ = max_ = float(f.readline())\n",
    "    for line in f:\n",
    "        num =  float(line)\n",
    "        if num > max_:\n",
    "            max_ = num\n",
    "        elif num < min_:\n",
    "            min_ = num\n",
    "        sum_ = min_ + max_\n",
    "        \n",
    "with open('output.txt', 'w') as f:\n",
    "    f.write(str(sum_))\n",
    "    f.write('\\n')"
   ]
  }
 ],
 "metadata": {
  "interpreter": {
   "hash": "52634da84371cba311ea128a5ea7cdc41ff074b781779e754b270ff9f8153cee"
  },
  "kernelspec": {
   "display_name": "Python 3.10.4 64-bit",
   "language": "python",
   "name": "python3"
  },
  "language_info": {
   "codemirror_mode": {
    "name": "ipython",
    "version": 3
   },
   "file_extension": ".py",
   "mimetype": "text/x-python",
   "name": "python",
   "nbconvert_exporter": "python",
   "pygments_lexer": "ipython3",
   "version": "3.10.4"
  },
  "orig_nbformat": 4
 },
 "nbformat": 4,
 "nbformat_minor": 2
}
