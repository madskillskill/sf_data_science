{
 "cells": [
  {
   "cell_type": "code",
   "execution_count": null,
   "metadata": {},
   "outputs": [],
   "source": [
    "import pandas as pd\n",
    "import numpy as np"
   ]
  },
  {
   "cell_type": "code",
   "execution_count": null,
   "metadata": {},
   "outputs": [],
   "source": [
    "countries_data = pd.read_csv('data/countries.csv', sep=';') # Загружаем данные из файла в переменную, создавая объект DataFrame\n",
    "countries_data.to_csv('data/countries.txt', index=False, sep=' ') # Выгружаем данные из DataFrame в CSV-файл и сохраняем файл в папке data\n",
    "\n",
    "txt_df = pd.read_table('data/countries.txt', sep=' ', index_col=['country'])# Загружаем данные из файла в переменную, создавая объект DataFrame\n",
    "display(txt_df) # Выводим содержимое DataFrame на экран"
   ]
  },
  {
   "cell_type": "code",
   "execution_count": null,
   "metadata": {},
   "outputs": [],
   "source": [
    " # Считываем данные из файла с неизвестной кодировкой в переменную, создавая объект DataFrame\n",
    "\n",
    "from chardet.universaldetector import UniversalDetector # Импортируем субмодуль chardet.universaldetector\n",
    "detector = UniversalDetector()\n",
    "data=pd.read_csv('data/ErrorEnCoding.csv', encoding='koi8-r', header=None )\n",
    "with open('data/ErrorEnCoding.csv', 'rb') as fh:\n",
    "    for line in fh:\n",
    "        detector.feed(line)\n",
    "        if detector.done:\n",
    "            break\n",
    "detector.close()\n",
    "\n",
    "display(data) # Выводим содержимое DataFrame на экран"
   ]
  },
  {
   "cell_type": "code",
   "execution_count": null,
   "metadata": {},
   "outputs": [],
   "source": [
    "data = pd.read_table('https://raw.githubusercontent.com/esabunor/MLWorkspace/master/melb_data.csv', sep=',')\n",
    "display(data)"
   ]
  },
  {
   "cell_type": "code",
   "execution_count": null,
   "metadata": {},
   "outputs": [],
   "source": [
    "data = pd.read_csv('data/students_performance.zip')\n",
    "display(data)"
   ]
  },
  {
   "cell_type": "code",
   "execution_count": null,
   "metadata": {},
   "outputs": [],
   "source": [
    "compression_opts = dict(method='zip', archive_name='out.csv') # Определяем параметры архивирования — метод сжатия, имя файл в архиве\n",
    "data.to_csv('data/out.zip', index=False, compression=compression_opts)"
   ]
  },
  {
   "cell_type": "code",
   "execution_count": null,
   "metadata": {},
   "outputs": [],
   "source": [
    "grades = pd.read_excel('data/grades.xlsx')\n",
    "display(grades.head())"
   ]
  },
  {
   "cell_type": "code",
   "execution_count": null,
   "metadata": {},
   "outputs": [],
   "source": [
    "data = pd.read_excel('https://github.com/asaydn/test/raw/master/january.xlsx')\n",
    "display(data)"
   ]
  },
  {
   "cell_type": "code",
   "execution_count": null,
   "metadata": {},
   "outputs": [],
   "source": [
    "grades = pd.read_excel('data/grades.xlsx', sheet_name='Maths')\n",
    "display(grades.head())"
   ]
  },
  {
   "cell_type": "code",
   "execution_count": null,
   "metadata": {},
   "outputs": [],
   "source": [
    "grades.to_excel('data/grades_new.xlsx') # Сохраняем данные из DataFrame grades в файл grades_new.xlsx в папке data\n",
    "\n",
    "grades.to_excel('data/grades_new.xlsx', sheet_name='Example', index=False) # Сохраняем данные из DataFrame grades в файл grades_new.xlsx (на листе 'Example') в папке data"
   ]
  },
  {
   "cell_type": "code",
   "execution_count": null,
   "metadata": {},
   "outputs": [],
   "source": [
    "movies, ratings = pd.read_excel('data/ratings_movies.xlsx', sheet_name='movies'), pd.read_excel('data/ratings_movies.xlsx', sheet_name='ratings')\n",
    "display(movies.head(), ratings.head())\n",
    "\n",
    "movies.merge(ratings, on='movieId', how='left')\n",
    "display(movies.info())\n",
    "display(movies)"
   ]
  },
  {
   "cell_type": "code",
   "execution_count": null,
   "metadata": {},
   "outputs": [],
   "source": [
    "ratings = pd.read_excel('data/ratings_movies.xlsx', sheet_name='ratings')         \n",
    "movies = pd.read_excel('data/ratings_movies.xlsx', sheet_name='movies')         \n",
    "joined = ratings.merge(movies, on='movieId', how='left')         \n",
    "joined.to_excel('joined.xlsx', sheet_name='JOINED', index=False)"
   ]
  },
  {
   "cell_type": "code",
   "execution_count": null,
   "metadata": {},
   "outputs": [],
   "source": [
    "joined.info()"
   ]
  },
  {
   "cell_type": "markdown",
   "metadata": {},
   "source": [
    "## JSON"
   ]
  },
  {
   "cell_type": "code",
   "execution_count": null,
   "metadata": {},
   "outputs": [],
   "source": [
    "import json\n",
    "from pprint import pprint"
   ]
  },
  {
   "cell_type": "code",
   "execution_count": null,
   "metadata": {},
   "outputs": [],
   "source": [
    "with open('data/recipes.json') as f: # Открываем файл и связываем его с объектом \"f\"\n",
    "    recipes = json.load(f) # Загружаем содержимое открытого файла в переменную recipes\n",
    "    pprint(recipes[0]['ingredients'])\n",
    "    i = 0\n",
    "    while True:\n",
    "        if recipes[i]['id'] == 13121:\n",
    "            print(recipes[i])\n",
    "            break\n",
    "        else: i +=1\n",
    "    i = len(recipes)\n",
    "    print(i)\n",
    "    cuisine = set()\n",
    "    while i > 0:\n",
    "        i -= 1\n",
    "        cuisine.add(recipes[i]['cuisine'])\n",
    "    \n",
    "    i = len(recipes)\n",
    "    cuisine_dict = {}\n",
    "    while i>0:\n",
    "        i -= 1\n",
    "        if recipes[i]['cuisine'] in cuisine_dict:\n",
    "            cuisine_dict[recipes[i]['cuisine']] += 1\n",
    "        else: cuisine_dict[recipes[i]['cuisine']] = 1\n",
    "\n",
    "    print(cuisine)\n",
    "    print(len(cuisine))\n",
    "    pprint(cuisine_dict)"
   ]
  },
  {
   "cell_type": "markdown",
   "metadata": {},
   "source": [
    "## ИЗ JSON В PANDAS"
   ]
  },
  {
   "cell_type": "code",
   "execution_count": null,
   "metadata": {},
   "outputs": [],
   "source": [
    "import json # Импортируем модуль json\n",
    "from pprint import pprint # Импортируем функцию pprint()\n",
    "import pandas as pd # Импортируем модуль pandas\n",
    "import numpy as np\n",
    "\n",
    "with open('data/recipes.json') as f: # Открываем файл и связываем его с объектом \"f\"\n",
    "    recipes = json.load(f) # Загружаем содержимое открытого файла в переменную recipes\n",
    "df = pd.DataFrame(recipes) # Создаём объект DataFrame из списка recipes\n",
    "display(df.head()) # Выводим на экран первые строки полученного DataFrame"
   ]
  },
  {
   "cell_type": "code",
   "execution_count": null,
   "metadata": {},
   "outputs": [],
   "source": [
    "def total_ing(dataframe):\n",
    "    \n",
    "    ingredients = set()\n",
    "    i = len(dataframe) - 1\n",
    "    while i > 0:\n",
    "        for k in dataframe['ingredients'][i]:\n",
    "            ingredients.add(k)\n",
    "        i -= 1\n",
    "    return ingredients\n",
    "\n",
    "def ing_check(dataframe):\n",
    "    temp_df = dataframe\n",
    "    i = len(temp_df) - 1\n",
    "    while i > 0:\n",
    "        for k in temp_df['ingredients'][i]:\n",
    "            temp_df.loc[(i,k)] = 1\n",
    "        i -= 1\n",
    "    temp_df = temp_df.fillna(0)\n",
    "    return temp_df\n",
    "\n",
    "i = len(df)\n",
    "print(i)\n",
    "\n",
    "print(df['ingredients'][1])\n",
    "x = total_ing(df)\n",
    "df = ing_check(df)\n"
   ]
  },
  {
   "cell_type": "code",
   "execution_count": null,
   "metadata": {},
   "outputs": [],
   "source": [
    "y.info()\n",
    "len(x)"
   ]
  },
  {
   "cell_type": "markdown",
   "metadata": {},
   "source": [
    "## XML"
   ]
  },
  {
   "cell_type": "code",
   "execution_count": 21,
   "metadata": {},
   "outputs": [
    {
     "data": {
      "text/plain": [
       "<Element 'menu' at 0x000000F8DEFE2070>"
      ]
     },
     "metadata": {},
     "output_type": "display_data"
    }
   ],
   "source": [
    "import xml.etree.ElementTree as ET\n",
    "tree = ET.parse('data/menu.xml')\n",
    "\n",
    "root = tree.getroot()\n",
    "display(root)"
   ]
  },
  {
   "cell_type": "code",
   "execution_count": 22,
   "metadata": {},
   "outputs": [
    {
     "data": {
      "text/plain": [
       "[<Element 'dish' at 0x000000F8DEFE2020>,\n",
       " <Element 'dish' at 0x000000F8DEFE2160>]"
      ]
     },
     "metadata": {},
     "output_type": "display_data"
    }
   ],
   "source": [
    "display(list(root))"
   ]
  },
  {
   "cell_type": "code",
   "execution_count": 23,
   "metadata": {},
   "outputs": [
    {
     "data": {
      "text/plain": [
       "[<Element 'price' at 0x000000F8DEFE21B0>,\n",
       " <Element 'weight' at 0x000000F8DEFE2200>,\n",
       " <Element 'class' at 0x000000F8DEFE2250>]"
      ]
     },
     "metadata": {},
     "output_type": "display_data"
    }
   ],
   "source": [
    "display(list(root[1]))"
   ]
  },
  {
   "cell_type": "code",
   "execution_count": 26,
   "metadata": {},
   "outputs": [
    {
     "data": {
      "text/plain": [
       "{'name': 'Кура'}"
      ]
     },
     "metadata": {},
     "output_type": "display_data"
    },
    {
     "data": {
      "text/plain": [
       "<Element 'price' at 0x000000F8DEFE1FD0>"
      ]
     },
     "metadata": {},
     "output_type": "display_data"
    },
    {
     "data": {
      "text/plain": [
       "'40'"
      ]
     },
     "metadata": {},
     "output_type": "display_data"
    }
   ],
   "source": [
    "display(root[0].attrib)\n",
    "display(root[0][0])\n",
    "display(root[0][0].text)"
   ]
  },
  {
   "cell_type": "code",
   "execution_count": 27,
   "metadata": {},
   "outputs": [
    {
     "name": "stdout",
     "output_type": "stream",
     "text": [
      "Кура price 40\n",
      "Кура weight 300\n",
      "Кура class Мясо\n",
      "\n",
      "Греча price 20\n",
      "Греча weight 200\n",
      "Греча class Крупа\n",
      "\n"
     ]
    }
   ],
   "source": [
    "for dish in root:\n",
    "    for param in dish:\n",
    "        print(dish.attrib['name'], param.tag, param.text)\n",
    "    print()"
   ]
  },
  {
   "cell_type": "code",
   "execution_count": 30,
   "metadata": {},
   "outputs": [
    {
     "data": {
      "text/html": [
       "<div>\n",
       "<style scoped>\n",
       "    .dataframe tbody tr th:only-of-type {\n",
       "        vertical-align: middle;\n",
       "    }\n",
       "\n",
       "    .dataframe tbody tr th {\n",
       "        vertical-align: top;\n",
       "    }\n",
       "\n",
       "    .dataframe thead th {\n",
       "        text-align: right;\n",
       "    }\n",
       "</style>\n",
       "<table border=\"1\" class=\"dataframe\">\n",
       "  <thead>\n",
       "    <tr style=\"text-align: right;\">\n",
       "      <th></th>\n",
       "      <th>name</th>\n",
       "      <th>price</th>\n",
       "      <th>weight</th>\n",
       "      <th>class</th>\n",
       "    </tr>\n",
       "  </thead>\n",
       "  <tbody>\n",
       "    <tr>\n",
       "      <th>0</th>\n",
       "      <td>Кура</td>\n",
       "      <td>40</td>\n",
       "      <td>300</td>\n",
       "      <td>Мясо</td>\n",
       "    </tr>\n",
       "    <tr>\n",
       "      <th>1</th>\n",
       "      <td>Греча</td>\n",
       "      <td>20</td>\n",
       "      <td>200</td>\n",
       "      <td>Крупа</td>\n",
       "    </tr>\n",
       "  </tbody>\n",
       "</table>\n",
       "</div>"
      ],
      "text/plain": [
       "    name price weight  class\n",
       "0   Кура    40    300   Мясо\n",
       "1  Греча    20    200  Крупа"
      ]
     },
     "metadata": {},
     "output_type": "display_data"
    },
    {
     "data": {
      "text/plain": [
       "<Element 'menu' at 0x000000F8CC04BE70>"
      ]
     },
     "metadata": {},
     "output_type": "display_data"
    },
    {
     "data": {
      "text/plain": [
       "[<Element 'dish' at 0x000000F8CD4C89F0>,\n",
       " <Element 'dish' at 0x000000F8D00D3FB0>]"
      ]
     },
     "metadata": {},
     "output_type": "display_data"
    }
   ],
   "source": [
    "import xml.etree.ElementTree as ET\n",
    "tree = ET.parse('data/menu.xml')\n",
    "root = tree.getroot()\n",
    "\n",
    "df_list = []\n",
    "column_names = ['name', 'price', 'weight', 'class']\n",
    "\n",
    "for dish in root:\n",
    "    row = [dish.attrib['name'], dish[0].text, dish[1].text, dish[2].text]\n",
    "    df_list.append(row)\n",
    "    df = pd.DataFrame(df_list, columns=column_names)\n",
    "display(df)\n",
    "\n",
    "new_root = ET.Element('menu')\n",
    "display(new_root)\n",
    "\n",
    "dish1 = ET.SubElement(new_root, 'dish', name='Кура')\n",
    "dish2 = ET.SubElement(new_root, 'dish', name='Греча')\n",
    "display(list(new_root))"
   ]
  }
 ],
 "metadata": {
  "interpreter": {
   "hash": "52634da84371cba311ea128a5ea7cdc41ff074b781779e754b270ff9f8153cee"
  },
  "kernelspec": {
   "display_name": "Python 3.10.4 64-bit",
   "language": "python",
   "name": "python3"
  },
  "language_info": {
   "codemirror_mode": {
    "name": "ipython",
    "version": 3
   },
   "file_extension": ".py",
   "mimetype": "text/x-python",
   "name": "python",
   "nbconvert_exporter": "python",
   "pygments_lexer": "ipython3",
   "version": "3.10.4"
  },
  "orig_nbformat": 4
 },
 "nbformat": 4,
 "nbformat_minor": 2
}
