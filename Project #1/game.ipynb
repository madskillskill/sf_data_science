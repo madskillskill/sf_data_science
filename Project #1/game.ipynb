{
 "cells": [
  {
   "cell_type": "markdown",
   "metadata": {},
   "source": [
    "# Project #1. Guessing game\n"
   ]
  },
  {
   "cell_type": "markdown",
   "metadata": {},
   "source": [
    "This game lets the user play one round of a guessing game. The range is 1 to 100. The program hints if user's guess is lower or bigger than the correct answer."
   ]
  },
  {
   "cell_type": "code",
   "execution_count": null,
   "metadata": {},
   "outputs": [],
   "source": [
    "import game"
   ]
  },
  {
   "cell_type": "markdown",
   "metadata": {},
   "source": [
    "This program makes up a number and blindly guesses it using zero information. It cycles 1000 times to print the average amount of guesses before it get's it right."
   ]
  },
  {
   "cell_type": "code",
   "execution_count": null,
   "metadata": {},
   "outputs": [],
   "source": [
    "from game_v2 import score_game, random_predict\n",
    "score_game(random_predict)"
   ]
  },
  {
   "cell_type": "markdown",
   "metadata": {},
   "source": [
    "Just looking up how VS Code spies on variables"
   ]
  },
  {
   "cell_type": "code",
   "execution_count": null,
   "metadata": {},
   "outputs": [],
   "source": [
    "n = 10\n",
    "z = n\n",
    "n = 5"
   ]
  },
  {
   "cell_type": "markdown",
   "metadata": {},
   "source": [
    "Game_v3 showcase"
   ]
  },
  {
   "cell_type": "code",
   "execution_count": 1,
   "metadata": {},
   "outputs": [
    {
     "ename": "KeyboardInterrupt",
     "evalue": "",
     "output_type": "error",
     "traceback": [
      "\u001b[1;31m---------------------------------------------------------------------------\u001b[0m",
      "\u001b[1;31mKeyboardInterrupt\u001b[0m                         Traceback (most recent call last)",
      "\u001b[1;32mc:\\SF\\sf_data_science\\Project #1\\game.ipynb Cell 9'\u001b[0m in \u001b[0;36m<cell line: 2>\u001b[1;34m()\u001b[0m\n\u001b[0;32m      <a href='vscode-notebook-cell:/c%3A/SF/sf_data_science/Project%20%231/game.ipynb#ch0000008?line=0'>1</a>\u001b[0m \u001b[39mfrom\u001b[39;00m \u001b[39mgame_v3\u001b[39;00m \u001b[39mimport\u001b[39;00m score_game, random_predict\n\u001b[1;32m----> <a href='vscode-notebook-cell:/c%3A/SF/sf_data_science/Project%20%231/game.ipynb#ch0000008?line=1'>2</a>\u001b[0m score_game(random_predict)\n",
      "File \u001b[1;32mc:\\SF\\sf_data_science\\Project #1\\game_v3.py:43\u001b[0m, in \u001b[0;36mscore_game\u001b[1;34m(random_predict)\u001b[0m\n\u001b[0;32m     <a href='file:///c%3A/SF/sf_data_science/Project%20%231/game_v3.py?line=40'>41</a>\u001b[0m random_array \u001b[39m=\u001b[39m np\u001b[39m.\u001b[39mrandom\u001b[39m.\u001b[39mrandint(\u001b[39m1\u001b[39m,\u001b[39m100\u001b[39m,size\u001b[39m=\u001b[39m(\u001b[39m1000\u001b[39m)) \u001b[39m# Collects numbers to guess\u001b[39;00m\n\u001b[0;32m     <a href='file:///c%3A/SF/sf_data_science/Project%20%231/game_v3.py?line=41'>42</a>\u001b[0m \u001b[39mfor\u001b[39;00m number \u001b[39min\u001b[39;00m random_array:\n\u001b[1;32m---> <a href='file:///c%3A/SF/sf_data_science/Project%20%231/game_v3.py?line=42'>43</a>\u001b[0m     count_tries\u001b[39m.\u001b[39mappend(random_predict(number))\n\u001b[0;32m     <a href='file:///c%3A/SF/sf_data_science/Project%20%231/game_v3.py?line=43'>44</a>\u001b[0m \u001b[39m# Applies random_guess to each element of array and gets back number of tries\u001b[39;00m\n\u001b[0;32m     <a href='file:///c%3A/SF/sf_data_science/Project%20%231/game_v3.py?line=45'>46</a>\u001b[0m score \u001b[39m=\u001b[39m \u001b[39mint\u001b[39m(np\u001b[39m.\u001b[39mmean(count_tries)) \u001b[39m# Gets the average number of tries\u001b[39;00m\n",
      "File \u001b[1;32mc:\\SF\\sf_data_science\\Project #1\\game_v3.py:30\u001b[0m, in \u001b[0;36mrandom_predict\u001b[1;34m(number)\u001b[0m\n\u001b[0;32m     <a href='file:///c%3A/SF/sf_data_science/Project%20%231/game_v3.py?line=27'>28</a>\u001b[0m         number \u001b[39m=\u001b[39m \u001b[39mint\u001b[39m((top_line\u001b[39m+\u001b[39mnumber)\u001b[39m/\u001b[39m\u001b[39m2\u001b[39m)\n\u001b[0;32m     <a href='file:///c%3A/SF/sf_data_science/Project%20%231/game_v3.py?line=28'>29</a>\u001b[0m     \u001b[39mif\u001b[39;00m number \u001b[39m<\u001b[39m predict_number:\n\u001b[1;32m---> <a href='file:///c%3A/SF/sf_data_science/Project%20%231/game_v3.py?line=29'>30</a>\u001b[0m         number \u001b[39m=\u001b[39m \u001b[39mint\u001b[39;49m((bottom_line\u001b[39m+\u001b[39;49mnumber)\u001b[39m/\u001b[39;49m\u001b[39m2\u001b[39;49m)\n\u001b[0;32m     <a href='file:///c%3A/SF/sf_data_science/Project%20%231/game_v3.py?line=30'>31</a>\u001b[0m         top_line \u001b[39m=\u001b[39m number\n\u001b[0;32m     <a href='file:///c%3A/SF/sf_data_science/Project%20%231/game_v3.py?line=32'>33</a>\u001b[0m \u001b[39mreturn\u001b[39;00m count\n",
      "\u001b[1;31mKeyboardInterrupt\u001b[0m: "
     ]
    }
   ],
   "source": [
    "from game_v3 import score_game, random_predict\n",
    "score_game(random_predict)"
   ]
  }
 ],
 "metadata": {
  "interpreter": {
   "hash": "38740d3277777e2cd7c6c2cc9d8addf5118fdf3f82b1b39231fd12aeac8aee8b"
  },
  "kernelspec": {
   "display_name": "Python 3.10.4 64-bit",
   "language": "python",
   "name": "python3"
  },
  "language_info": {
   "codemirror_mode": {
    "name": "ipython",
    "version": 3
   },
   "file_extension": ".py",
   "mimetype": "text/x-python",
   "name": "python",
   "nbconvert_exporter": "python",
   "pygments_lexer": "ipython3",
   "version": "3.10.4"
  },
  "orig_nbformat": 4
 },
 "nbformat": 4,
 "nbformat_minor": 2
}
