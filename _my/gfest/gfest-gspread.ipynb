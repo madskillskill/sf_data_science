{
 "cells": [
  {
   "cell_type": "code",
   "execution_count": 19,
   "metadata": {},
   "outputs": [
    {
     "name": "stdout",
     "output_type": "stream",
     "text": [
      "# of strings in GSS:  0\n",
      "# of strings in CSV:  3\n",
      "They differ by  3  strings!\n"
     ]
    },
    {
     "name": "stderr",
     "output_type": "stream",
     "text": [
      "/tmp/ipykernel_7351/3269639095.py:64: DeprecationWarning: [Deprecated][in version 6.0.0]: Method signature's arguments 'range_name' and 'values' will change their order. We recommend using named arguments for minimal impact. In addition, the argument 'values' will be mandatory of type: 'List[List]'. (ex) Worksheet.update(values = [[]], range_name=) \n",
      "  google_sheet.sheet1.update(values = [taken_row.values.tolist()], range_name = diff_range)\n",
      "/tmp/ipykernel_7351/3269639095.py:64: DeprecationWarning: [Deprecated][in version 6.0.0]: Method signature's arguments 'range_name' and 'values' will change their order. We recommend using named arguments for minimal impact. In addition, the argument 'values' will be mandatory of type: 'List[List]'. (ex) Worksheet.update(values = [[]], range_name=) \n",
      "  google_sheet.sheet1.update(values = [taken_row.values.tolist()], range_name = diff_range)\n",
      "/tmp/ipykernel_7351/3269639095.py:64: DeprecationWarning: [Deprecated][in version 6.0.0]: Method signature's arguments 'range_name' and 'values' will change their order. We recommend using named arguments for minimal impact. In addition, the argument 'values' will be mandatory of type: 'List[List]'. (ex) Worksheet.update(values = [[]], range_name=) \n",
      "  google_sheet.sheet1.update(values = [taken_row.values.tolist()], range_name = diff_range)\n"
     ]
    },
    {
     "name": "stdout",
     "output_type": "stream",
     "text": [
      "Tables are in sync.\n"
     ]
    }
   ],
   "source": [
    "import gspread\n",
    "import pandas as pd\n",
    "import os\n",
    "\n",
    "# Find a CSV export db from WeForms in the same folder\n",
    "csv_name = ''\n",
    "# print(os.listdir())\n",
    "files = os.listdir()\n",
    "for i in files:\n",
    "    # print(i)\n",
    "    # print(i[-3:])\n",
    "    if i[-3:] == str('csv'):\n",
    "        csv_name = i\n",
    "        # print(csv_name)\n",
    "        break\n",
    "# print(csv_name)\n",
    "\n",
    "# Find a JSON token in the same folder\n",
    "json_name = ''\n",
    "for i in files:\n",
    "    # print(i)\n",
    "    # print(i[-4:])\n",
    "    if i[-4:] == str('json'):\n",
    "        json_name = i\n",
    "        # print(json_name)\n",
    "        break\n",
    "# print(json_name)\n",
    "\n",
    "# Acess Google Sheet (should be allowed)\n",
    "gc = gspread.service_account(filename=json_name)\n",
    "google_sheet = gc.open(\"VIII Гордеевский фестиваль\")\n",
    "google_len = len(google_sheet.sheet1.col_values(1))-1\n",
    "\n",
    "# Open CSV\n",
    "csv_df = pd.read_csv(csv_name)\n",
    "csv_len = len(csv_df['Entry ID'])\n",
    "\n",
    "\n",
    "print('# of strings in GSS: ', google_len)\n",
    "print('# of strings in CSV: ', csv_len)\n",
    "difference = csv_len - google_len\n",
    "\n",
    "if difference > 0:\n",
    "    print(\"They differ by \", difference, ' strings!')\n",
    "    google_df = pd.DataFrame(google_sheet.sheet1.get_all_values())\n",
    "    google_df, csv_df = google_df.fillna('-'), csv_df.fillna('-')\n",
    "    csv_df = csv_df.sort_values(by=['Entry ID'], ascending=True)\n",
    "    # display(csv_df)\n",
    "    \n",
    "    current_row = google_len + 1\n",
    "    # print('current_row ',current_row)\n",
    "    # print('difference',difference)\n",
    "    for i in range(difference+1):\n",
    "        # print('row',current_row)\n",
    "        # print('i',i)\n",
    "        taken_row = csv_df.iloc[current_row-2].astype('str')\n",
    "        # display(taken_row)\n",
    "        # print(taken_row)\n",
    "        diff_range = str('A' + str(current_row) + ':S' + str(current_row))\n",
    "        # print(type(google_sheet.sheet1.cell(current_row,1).value))\n",
    "        # print(google_sheet.sheet1.cell(current_row,1))\n",
    "        if google_sheet.sheet1.cell(current_row,1).value == None:\n",
    "            # print(diff_range)\n",
    "            google_sheet.sheet1.update(values = [taken_row.values.tolist()], range_name = diff_range)\n",
    "        current_row+=1\n",
    "    print('Tables are in sync.')\n",
    "else: print('Tables are in sync. No actions needed.')\n"
   ]
  },
  {
   "cell_type": "code",
   "execution_count": null,
   "metadata": {},
   "outputs": [],
   "source": []
  }
 ],
 "metadata": {
  "kernelspec": {
   "display_name": "Python 3",
   "language": "python",
   "name": "python3"
  },
  "language_info": {
   "codemirror_mode": {
    "name": "ipython",
    "version": 3
   },
   "file_extension": ".py",
   "mimetype": "text/x-python",
   "name": "python",
   "nbconvert_exporter": "python",
   "pygments_lexer": "ipython3",
   "version": "3.10.12"
  },
  "orig_nbformat": 4
 },
 "nbformat": 4,
 "nbformat_minor": 2
}
