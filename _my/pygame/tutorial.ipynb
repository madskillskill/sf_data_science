{
 "cells": [
  {
   "cell_type": "code",
   "execution_count": null,
   "metadata": {},
   "outputs": [],
   "source": [
    "import pygame\n",
    "from pygame.locals import (\n",
    "                           K_UP,\n",
    "                           K_DOWN,\n",
    "                           K_LEFT,\n",
    "                           K_RIGHT,\n",
    "                           K_ESCAPE,\n",
    "                           KEYDOWN,\n",
    "                           QUIT)\n",
    "\n",
    "pygame.init()"
   ]
  },
  {
   "cell_type": "code",
   "execution_count": null,
   "metadata": {},
   "outputs": [],
   "source": []
  }
 ],
 "metadata": {
  "language_info": {
   "name": "python"
  },
  "orig_nbformat": 4
 },
 "nbformat": 4,
 "nbformat_minor": 2
}
