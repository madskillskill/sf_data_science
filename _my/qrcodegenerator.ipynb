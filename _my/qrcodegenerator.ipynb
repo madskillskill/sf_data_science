{
 "cells": [
  {
   "cell_type": "code",
   "execution_count": 23,
   "metadata": {},
   "outputs": [],
   "source": [
    "import qrcode\n",
    "\n",
    "img = qrcode.make('https://youtu.be/I845O57ZSy4')\n",
    "img.save('carmac.png')\n",
    "\n",
    "# with open('text.txt') as f:\n",
    "#     f = f.readlines()\n",
    "#     qrcode.QRCode(\n",
    "#     version=None,      # use upper level version\n",
    "#     error_correction=qrcode.constants.ERROR_CORRECT_M,\n",
    "#     box_size=1,\n",
    "#     border=4\n",
    "#     )\n",
    "#     img = qrcode.make(f)\n",
    "#     img.save('MyQRCode.png')"
   ]
  },
  {
   "cell_type": "code",
   "execution_count": null,
   "metadata": {},
   "outputs": [],
   "source": []
  }
 ],
 "metadata": {
  "kernelspec": {
   "display_name": "Python 3.8.2 64-bit",
   "language": "python",
   "name": "python3"
  },
  "language_info": {
   "codemirror_mode": {
    "name": "ipython",
    "version": 3
   },
   "file_extension": ".py",
   "mimetype": "text/x-python",
   "name": "python",
   "nbconvert_exporter": "python",
   "pygments_lexer": "ipython3",
   "version": "3.8.2"
  },
  "orig_nbformat": 4,
  "vscode": {
   "interpreter": {
    "hash": "570feb405e2e27c949193ac68f46852414290d515b0ba6e5d90d076ed2284471"
   }
  }
 },
 "nbformat": 4,
 "nbformat_minor": 2
}
