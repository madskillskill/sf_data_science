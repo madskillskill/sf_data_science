{
 "cells": [
  {
   "cell_type": "code",
   "execution_count": 5,
   "metadata": {},
   "outputs": [
    {
     "name": "stdout",
     "output_type": "stream",
     "text": [
      "Requirement already satisfied: pypandoc in c:\\python\\python39\\lib\\site-packages (1.8.1)\n"
     ]
    },
    {
     "name": "stderr",
     "output_type": "stream",
     "text": [
      "[INFO] Downloading pandoc from https://github.com/jgm/pandoc/releases/download/2.19.2/pandoc-2.19.2-windows-x86_64.msi ...\n",
      "[INFO] Unpacking pandoc-2.19.2-windows-x86_64.msi to tempfolder...\n",
      "[INFO] Copying pandoc.exe to C:\\Users\\admin\\AppData\\Local\\Pandoc ...\n",
      "[INFO] Copying pandoc-citeproc.exe to C:\\Users\\admin\\AppData\\Local\\Pandoc ...\n",
      "[ERROR] Didn't copy pandoc-citeproc.exe\n",
      "Traceback (most recent call last):\n",
      "  File \"c:\\Python\\Python39\\lib\\site-packages\\pypandoc\\pandoc_download.py\", line 178, in _handle_win32\n",
      "    shutil.copyfile(src, dst)\n",
      "  File \"c:\\Python\\Python39\\lib\\shutil.py\", line 264, in copyfile\n",
      "    with open(src, 'rb') as fsrc:\n",
      "FileNotFoundError: [Errno 2] No such file or directory: 'C:\\\\Users\\\\admin\\\\AppData\\\\Local\\\\Temp\\\\tmpwpg1h31i\\\\Pandoc\\\\pandoc-citeproc.exe'\n",
      "[INFO] Copying COPYRIGHT.txt to C:\\Users\\admin\\AppData\\Local\\Pandoc ...\n",
      "[INFO] Done.\n"
     ]
    }
   ],
   "source": [
    "!pip install pypandoc\n",
    "from pypandoc.pandoc_download import download_pandoc\n",
    "# see the documentation how to customize the installation path\n",
    "# but be aware that you then need to include it in the `PATH`\n",
    "download_pandoc()"
   ]
  },
  {
   "cell_type": "code",
   "execution_count": 8,
   "metadata": {},
   "outputs": [],
   "source": [
    "import pypandoc\n",
    "\n",
    "output = pypandoc.convert_file('text.docx', 'plain', outputfile=\"text.txt\")"
   ]
  },
  {
   "cell_type": "code",
   "execution_count": 25,
   "metadata": {},
   "outputs": [
    {
     "name": "stdout",
     "output_type": "stream",
     "text": [
      "['Fragment_Testa_2.docx', 'pandoc-2.19.2-windows-x86_64.msi', 'word_converter.ipynb', 'word_converter.py', 'БТЗ_Открытые данные_2.docx']\n",
      "Fragment_Testa_2.docx docx\n",
      "gotcha\n",
      "pandoc-2.19.2-windows-x86_64.msi .msi\n",
      "word_converter.ipynb pynb\n",
      "word_converter.py r.py\n",
      "БТЗ_Открытые данные_2.docx docx\n",
      "gotcha\n"
     ]
    }
   ],
   "source": [
    "import pypandoc\n",
    "import os\n",
    "\n",
    "def converter(file):\n",
    "    file = pypandoc.convert_file(file, 'plain', outputfile=(file[0:-5]+'txt'))\n",
    "    \n",
    "file_list = os.listdir()\n",
    "\n",
    "print(file_list)\n",
    "\n",
    "for file in file_list:\n",
    "    print(file, file[-4:])\n",
    "    if file[-4:] == 'docx':\n",
    "        print('gotcha')\n",
    "        converter(file)"
   ]
  },
  {
   "cell_type": "code",
   "execution_count": 27,
   "metadata": {},
   "outputs": [
    {
     "ename": "NameError",
     "evalue": "name '__file__' is not defined",
     "output_type": "error",
     "traceback": [
      "\u001b[1;31m---------------------------------------------------------------------------\u001b[0m",
      "\u001b[1;31mNameError\u001b[0m                                 Traceback (most recent call last)",
      "\u001b[1;32mc:\\SF\\my\\word_converter.ipynb Ячейка 4\u001b[0m in \u001b[0;36m<cell line: 7>\u001b[1;34m()\u001b[0m\n\u001b[0;32m      <a href='vscode-notebook-cell:/c%3A/SF/my/word_converter.ipynb#W3sZmlsZQ%3D%3D?line=3'>4</a>\u001b[0m \u001b[39mdef\u001b[39;00m \u001b[39mconverter\u001b[39m(file):\n\u001b[0;32m      <a href='vscode-notebook-cell:/c%3A/SF/my/word_converter.ipynb#W3sZmlsZQ%3D%3D?line=4'>5</a>\u001b[0m     file \u001b[39m=\u001b[39m pypandoc\u001b[39m.\u001b[39mconvert_file(file, \u001b[39m'\u001b[39m\u001b[39mplain\u001b[39m\u001b[39m'\u001b[39m, outputfile\u001b[39m=\u001b[39m(file[\u001b[39m0\u001b[39m:\u001b[39m-\u001b[39m\u001b[39m5\u001b[39m]\u001b[39m+\u001b[39m\u001b[39m'\u001b[39m\u001b[39m.txt\u001b[39m\u001b[39m'\u001b[39m))\n\u001b[1;32m----> <a href='vscode-notebook-cell:/c%3A/SF/my/word_converter.ipynb#W3sZmlsZQ%3D%3D?line=6'>7</a>\u001b[0m path \u001b[39m=\u001b[39m os\u001b[39m.\u001b[39mpath\u001b[39m.\u001b[39mdirname(os\u001b[39m.\u001b[39mpath\u001b[39m.\u001b[39mrealpath(\u001b[39m__file__\u001b[39;49m))\n\u001b[0;32m      <a href='vscode-notebook-cell:/c%3A/SF/my/word_converter.ipynb#W3sZmlsZQ%3D%3D?line=8'>9</a>\u001b[0m \u001b[39mprint\u001b[39m(path)\n\u001b[0;32m     <a href='vscode-notebook-cell:/c%3A/SF/my/word_converter.ipynb#W3sZmlsZQ%3D%3D?line=10'>11</a>\u001b[0m file_list \u001b[39m=\u001b[39m os\u001b[39m.\u001b[39mlistdir(path)\n",
      "\u001b[1;31mNameError\u001b[0m: name '__file__' is not defined"
     ]
    }
   ],
   "source": [
    "import pypandoc\n",
    "import os\n",
    "\n",
    "def converter(file):\n",
    "    file = pypandoc.convert_file(file, 'plain', outputfile=(file[0:-5]+'.txt'))\n",
    "\n",
    "path = os.path.dirname(os.path.realpath(__file__))\n",
    "    \n",
    "print(path)\n",
    "\n",
    "file_list = os.listdir(path)\n",
    "\n",
    "print(file_list)\n",
    "\n",
    "for file in file_list:\n",
    "    print(file, file[-4:])\n",
    "    if file[-4:] == 'docx':\n",
    "        print(file, 'is a legit docx')\n",
    "        converter(file)\n",
    "    else: print('dicks')"
   ]
  }
 ],
 "metadata": {
  "kernelspec": {
   "display_name": "Python 3.9.13 64-bit",
   "language": "python",
   "name": "python3"
  },
  "language_info": {
   "codemirror_mode": {
    "name": "ipython",
    "version": 3
   },
   "file_extension": ".py",
   "mimetype": "text/x-python",
   "name": "python",
   "nbconvert_exporter": "python",
   "pygments_lexer": "ipython3",
   "version": "3.9.13"
  },
  "orig_nbformat": 4,
  "vscode": {
   "interpreter": {
    "hash": "25034407fed5d681614dac11a1c0537e8cb49e3a8883c071303eea01322943d9"
   }
  }
 },
 "nbformat": 4,
 "nbformat_minor": 2
}
